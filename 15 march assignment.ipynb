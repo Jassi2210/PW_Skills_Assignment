{
 "cells": [
  {
   "cell_type": "markdown",
   "id": "70882b90",
   "metadata": {},
   "source": [
    "## Q1- Explain the following with an example:\n",
    "## 1) Artificial Intelligence, 2) Machine Learning, 3) Deep Learning"
   ]
  },
  {
   "cell_type": "markdown",
   "id": "49ee5848",
   "metadata": {},
   "source": [
    "## Ans1- A) Artificial Intelligence (AI) is a branch of computer science that focuses on creating intelligent machines that can perform tasks that typically require human intelligence, such as understanding natural language, recognizing images, and making decisions.\n",
    "## Example: An AI-powered virtual assistant like Siri or Alexa that can understand and respond to natural language commands, set reminders, play music, and perform other tasks.\n",
    "\n",
    "## B) Machine Learning (ML) is a subset of AI that involves training computer algorithms to make predictions or decisions based on input data. ML algorithms can learn from past data to improve their performance over time.\n",
    "## Example: A spam filter that uses machine learning algorithms to automatically identify and block spam emails based on patterns in the content and metadata.\n",
    "\n",
    "## C) Deep Learning (DL) is a subset of machine learning that involves training artificial neural networks with many layers of interconnected nodes. DL algorithms can learn complex patterns and relationships in data, making them useful for tasks such as image recognition and natural language processing.\n",
    "## Example: A self-driving car that uses deep learning algorithms to analyze real-time sensor data and make decisions about steering, braking, and accelerating."
   ]
  },
  {
   "cell_type": "code",
   "execution_count": null,
   "id": "670b9bfd",
   "metadata": {},
   "outputs": [],
   "source": []
  },
  {
   "cell_type": "markdown",
   "id": "4c454a45",
   "metadata": {},
   "source": [
    "## Q2- What is supervised learning? List some examples of supervised learning.\n",
    "## Ans2- Supervised learning is a type of machine learning where an algorithm learns to map input data to output data based on labeled examples provided during training. In other words, the algorithm is trained on a dataset that includes both input data (also known as features) and the desired output (also known as labels or targets). The goal is for the algorithm to learn a general rule or pattern that can be applied to new, unseen data to make accurate predictions.\n",
    "\n",
    "## Here are some examples of supervised learning:\n",
    "\n",
    "## Image Classification: An algorithm is trained on a dataset of labeled images to identify objects or classify images into different categories.\n",
    "\n",
    "## Sentiment Analysis: An algorithm is trained on a dataset of text labeled with positive, negative, or neutral sentiment to predict the sentiment of new, unseen text.\n",
    "\n",
    "## Fraud Detection: An algorithm is trained on a dataset of past fraudulent transactions to identify new fraudulent transactions in real-time.\n",
    "\n",
    "## Spam Filtering: An algorithm is trained on a dataset of labeled emails to identify and filter out spam emails.\n",
    "\n",
    "## Credit Scoring: An algorithm is trained on a dataset of past credit applications and outcomes to predict the likelihood of default for new credit applicants."
   ]
  },
  {
   "cell_type": "code",
   "execution_count": null,
   "id": "356da909",
   "metadata": {},
   "outputs": [],
   "source": []
  },
  {
   "cell_type": "markdown",
   "id": "1939187f",
   "metadata": {},
   "source": [
    "## Q3- What is unsupervised learning? List some examples of unsupervised learning.\n",
    "## Ans3- Unsupervised learning is a type of machine learning where an algorithm learns to identify patterns or structure in a dataset without explicit guidance from labeled examples. In other words, there is no target or output variable for the algorithm to predict, and it is up to the algorithm to find meaningful patterns in the input data on its own.\n",
    "\n",
    "## Here are some examples of unsupervised learning:\n",
    "\n",
    "## Clustering: An algorithm is trained on a dataset to group similar data points together based on their features. This can be used, for example, to identify customer segments or group similar images together.\n",
    "\n",
    "## Dimensionality Reduction: An algorithm is trained on a high-dimensional dataset to find a lower-dimensional representation of the data that captures the most important information. This can be used, for example, to visualize high-dimensional data or to reduce the number of features in a model.\n",
    "\n",
    "## Anomaly Detection: An algorithm is trained on a dataset to identify unusual or unexpected data points. This can be used, for example, to detect fraud in financial transactions or to identify defects in manufacturing.\n",
    "\n",
    "## Association Rule Learning: An algorithm is trained on a dataset to identify patterns or relationships between different features. This can be used, for example, to identify items that are frequently purchased together in a retail setting."
   ]
  },
  {
   "cell_type": "code",
   "execution_count": null,
   "id": "d7fc1ac3",
   "metadata": {},
   "outputs": [],
   "source": []
  },
  {
   "cell_type": "markdown",
   "id": "ec8e7041",
   "metadata": {},
   "source": [
    "## Q4- What is the difference between AI, ML, DL, and DS?\n",
    "## Ans4-\n",
    "## 1.Artificial Intelligence (AI): AI refers to the broad field of creating intelligent machines that can perform tasks that typically require human-level intelligence, such as perception, reasoning, decision-making, and natural language processing.\n",
    "\n",
    "## 2.Machine Learning (ML): ML is a subset of AI that involves training algorithms to make predictions or decisions based on data. In ML, an algorithm is trained on a dataset to learn a pattern or relationship between input and output data, without being explicitly programmed for each decision.\n",
    "\n",
    "## 3.Deep Learning (DL): DL is a subset of ML that involves training neural networks with many layers to perform complex tasks such as image or speech recognition. DL algorithms use large amounts of data to learn complex representations of the input data.\n",
    "\n",
    "## 4.Data Science (DS): DS is the field of extracting insights and knowledge from data, using a combination of statistical, computational, and domain-specific skills. DS involves the entire process of data collection, cleaning, analysis, visualization, and communication of results.\n",
    "\n"
   ]
  },
  {
   "cell_type": "code",
   "execution_count": null,
   "id": "1d166d0a",
   "metadata": {},
   "outputs": [],
   "source": []
  },
  {
   "cell_type": "markdown",
   "id": "ace1f71a",
   "metadata": {},
   "source": [
    "## Q5- What are the main differences between supervised, unsupervised, and semi-supervised learning?\n",
    "## Ans5- \n",
    "## 1.Supervised Learning: In supervised learning, the algorithm is trained on a labeled dataset, where both the input data and the corresponding output values (labels) are known. The goal is to learn a mapping function from the input data to the output labels, so that the algorithm can predict the output values for new, unseen input data. The key characteristic of supervised learning is that there is a clear distinction between input data and output labels.\n",
    "\n",
    "## 2.Unsupervised Learning: In unsupervised learning, the algorithm is trained on an unlabeled dataset, where only the input data is known. The goal is to learn patterns or structure in the input data, such as clusters or correlations, without being explicitly told what to look for. The key characteristic of unsupervised learning is that there are no output labels, and the algorithm must find patterns in the data on its own.\n",
    "\n",
    "## 3.Semi-Supervised Learning: Semi-supervised learning is a combination of supervised and unsupervised learning, where the algorithm is trained on a dataset that contains both labeled and unlabeled data. The goal is to use the labeled data to guide the learning process, while also leveraging the unlabeled data to discover additional patterns or structure in the data. The key characteristic of semi-supervised learning is that it combines the benefits of both labeled and unlabeled data to improve the learning performance.\n"
   ]
  },
  {
   "cell_type": "code",
   "execution_count": null,
   "id": "8c0c3232",
   "metadata": {},
   "outputs": [],
   "source": []
  },
  {
   "cell_type": "markdown",
   "id": "a14f46f6",
   "metadata": {},
   "source": [
    "## Q6- What is train, test and validation split? Explain the importance of each term.\n",
    "## Ans6- \n",
    "## 1.Train Set: The training set is the portion of the dataset used to train the machine learning model. It contains the input features and their corresponding output labels. The goal of the training process is to find a set of model parameters that can accurately predict the output labels for new, unseen input data.\n",
    "\n",
    "## 2.Test Set: The test set is a separate portion of the dataset that is used to evaluate the performance of the trained model. It also contains input features and their corresponding output labels, but the model has not seen these examples during training. The test set is used to estimate how well the model will perform on new, unseen data.\n",
    "\n",
    "## 3.Validation Set: The validation set is another subset of the dataset that is used to fine-tune the model during training. It is used to evaluate the model's performance on data that it has not seen before, but unlike the test set, it is used to make adjustments to the model during training. For example, if the model is overfitting the training data, the validation set can be used to adjust the model's hyperparameters to improve its performance on new data.\n",
    "\n",
    "## The importance of each of these terms lies in the need to assess the performance of a machine learning model on data that it has not seen before. The training set is used to train the model, while the test set is used to evaluate its performance on new data. The validation set is used to fine-tune the model and improve its performance on new data during training. By using separate subsets of the data for training, testing, and validation, we can assess the performance of a machine learning model in a more reliable and unbiased way, and ensure that it can generalize well to new, unseen data."
   ]
  },
  {
   "cell_type": "code",
   "execution_count": null,
   "id": "1dc5fdfa",
   "metadata": {},
   "outputs": [],
   "source": []
  },
  {
   "cell_type": "markdown",
   "id": "c23da3ae",
   "metadata": {},
   "source": [
    "## Q7- How can unsupervised learning be used in anomaly detection?\n",
    "## Ans7- Unsupervised learning can be used in anomaly detection by using clustering algorithms to identify data points that are significantly different from the majority of the data. Here are some steps that can be followed to use unsupervised learning for anomaly detection:\n",
    "\n",
    "## 1.Preprocessing: The first step is to preprocess the data, which may involve data cleaning, feature selection, and normalization. This step is important to ensure that the data is in a suitable format for unsupervised learning.\n",
    "\n",
    "## 2.Clustering: The next step is to use a clustering algorithm to group the data into clusters based on their similarity. One common clustering algorithm used for anomaly detection is k-means clustering.\n",
    "\n",
    "## 3.Outlier Detection: Once the data has been clustered, the next step is to identify outliers or anomalies in the data. One approach is to use the distance between data points and their cluster centers as a measure of anomaly. Points that are far away from their cluster centers may be considered as outliers.\n",
    "\n",
    "## 4.Threshold Setting: The final step is to set a threshold for the anomaly score, above which a data point is considered an outlier. The threshold can be set based on domain knowledge or using statistical methods"
   ]
  },
  {
   "cell_type": "code",
   "execution_count": null,
   "id": "8d24478b",
   "metadata": {},
   "outputs": [],
   "source": []
  },
  {
   "cell_type": "markdown",
   "id": "a819224f",
   "metadata": {},
   "source": [
    "## Q8- List down some commonly used supervised learning algorithms and unsupervised learning algorithms.\n",
    "## Ans8- Here are some commonly used supervised learning algorithms:\n",
    "## Linear regression\n",
    "## ## Logistic regression\n",
    "## Decision trees\n",
    "## Random forest\n",
    "## Support vector machines (SVM)\n",
    "## Naive Bayes\n",
    "## K-nearest neighbors (KNN)\n",
    "## Neural networks\n",
    "\n",
    "# Here are some commonly used unsupervised learning algorithms:\n",
    "## K-means clustering\n",
    "## Hierarchical clustering\n",
    "## Principal component analysis (PCA)\n",
    "## Independent component analysis (ICA)\n",
    "## t-SNE (t-distributed stochastic neighbor embedding)\n",
    "## Apriori algorithm (for association rule mining)\n",
    "## DBSCAN (density-based spatial clustering of applications with noise)\n",
    "## Gaussian mixture models (GMM)\n",
    "\n",
    "\n"
   ]
  },
  {
   "cell_type": "code",
   "execution_count": null,
   "id": "0dd4883b",
   "metadata": {},
   "outputs": [],
   "source": []
  }
 ],
 "metadata": {
  "kernelspec": {
   "display_name": "Python 3 (ipykernel)",
   "language": "python",
   "name": "python3"
  },
  "language_info": {
   "codemirror_mode": {
    "name": "ipython",
    "version": 3
   },
   "file_extension": ".py",
   "mimetype": "text/x-python",
   "name": "python",
   "nbconvert_exporter": "python",
   "pygments_lexer": "ipython3",
   "version": "3.9.13"
  }
 },
 "nbformat": 4,
 "nbformat_minor": 5
}
