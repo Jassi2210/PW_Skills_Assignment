{
 "cells": [
  {
   "cell_type": "markdown",
   "id": "619e2089",
   "metadata": {},
   "source": [
    "## Q1. Calculate the 95% confidence interval for a sample of data with a mean of 50 and a standard deviation of 5 using Python. Interpret the results."
   ]
  },
  {
   "cell_type": "code",
   "execution_count": 1,
   "id": "b689bf82",
   "metadata": {},
   "outputs": [
    {
     "name": "stdout",
     "output_type": "stream",
     "text": [
      "The 95.0% confidence interval is (nan, nan)\n"
     ]
    }
   ],
   "source": [
    "import scipy.stats as stats\n",
    "\n",
    "data = [50] # sample mean\n",
    "n = 1 # sample size\n",
    "stddev = 5 # population standard deviation\n",
    "conf_level = 0.95 # confidence level\n",
    "\n",
    "# calculate the standard error\n",
    "std_err = stddev / (n ** 0.5)\n",
    "\n",
    "# calculate the t-value for the confidence level and degrees of freedom\n",
    "t_value = stats.t.ppf((1 + conf_level) / 2, n - 1)\n",
    "\n",
    "# calculate the confidence interval\n",
    "lower = data[0] - t_value * std_err\n",
    "upper = data[0] + t_value * std_err\n",
    "\n",
    "print(f\"The {conf_level * 100}% confidence interval is ({lower:.2f}, {upper:.2f})\")\n"
   ]
  },
  {
   "cell_type": "code",
   "execution_count": null,
   "id": "4b4bc003",
   "metadata": {},
   "outputs": [],
   "source": []
  },
  {
   "cell_type": "markdown",
   "id": "35b3feb7",
   "metadata": {},
   "source": [
    "## Q2. Conduct a chi-square goodness of fit test to determine if the distribution of colors of M&Ms in a bag matches the expected distribution of 20% blue, 20% orange, 20% green, 10% yellow, 10% red, and 20% brown. Use Python to perform the test with a significance level of 0.05."
   ]
  },
  {
   "cell_type": "code",
   "execution_count": 2,
   "id": "73599b39",
   "metadata": {},
   "outputs": [
    {
     "name": "stdout",
     "output_type": "stream",
     "text": [
      "Chi-square test statistic: 3.25\n",
      "p-value: 0.6615049203395102\n",
      "Critical value: 9.487729036781154\n",
      "Fail to reject null hypothesis. Observed frequencies do not differ significantly from expected frequencies.\n"
     ]
    }
   ],
   "source": [
    "import numpy as np\n",
    "from scipy.stats import chisquare\n",
    "\n",
    "observed_freq = np.array([25, 22, 17, 11, 10, 15])  # observed frequencies\n",
    "expected_freq = np.array([0.2, 0.2, 0.2, 0.1, 0.1, 0.2]) * 100  # expected frequencies\n",
    "n = sum(observed_freq)  # sample size\n",
    "\n",
    "# calculate the test statistic and p-value\n",
    "chi2_stat, p_val = chisquare(observed_freq, f_exp=expected_freq)\n",
    "\n",
    "# calculate the critical value at alpha=0.05 and degrees of freedom = 5-1 = 4\n",
    "crit_val = stats.chi2.ppf(q=0.95, df=5-1)\n",
    "\n",
    "# print the results\n",
    "print(\"Chi-square test statistic:\", chi2_stat)\n",
    "print(\"p-value:\", p_val)\n",
    "print(\"Critical value:\", crit_val)\n",
    "\n",
    "if chi2_stat > crit_val:\n",
    "    print(\"Reject null hypothesis. Observed frequencies differ significantly from expected frequencies.\")\n",
    "else:\n",
    "    print(\"Fail to reject null hypothesis. Observed frequencies do not differ significantly from expected frequencies.\")\n"
   ]
  },
  {
   "cell_type": "code",
   "execution_count": null,
   "id": "b5a0ff9f",
   "metadata": {},
   "outputs": [],
   "source": []
  },
  {
   "cell_type": "markdown",
   "id": "353e33ff",
   "metadata": {},
   "source": [
    "## Q3. Use Python to calculate the chi-square statistic and p-value for a contingency table with the following data:\n",
    "## Outcome 1 20 15\n",
    "## Outcome 2 10 25\n",
    "## Outcome 3 15 20\n",
    "## Interpret the results of the test."
   ]
  },
  {
   "cell_type": "code",
   "execution_count": 4,
   "id": "1aa04423",
   "metadata": {},
   "outputs": [
    {
     "name": "stdout",
     "output_type": "stream",
     "text": [
      "Chi-square statistic: 5.833333333333334\n",
      "p-value: 0.05411376622282158\n"
     ]
    }
   ],
   "source": [
    "import numpy as np\n",
    "from scipy.stats import chi2_contingency\n",
    "\n",
    "observed = np.array([[20, 15], [10, 25], [15, 20]])\n",
    "\n",
    "chi2, p, dof, expected = chi2_contingency(observed)\n",
    "\n",
    "print('Chi-square statistic:', chi2)\n",
    "print('p-value:', p)\n",
    "\n"
   ]
  },
  {
   "cell_type": "code",
   "execution_count": null,
   "id": "abb9fa0b",
   "metadata": {},
   "outputs": [],
   "source": []
  },
  {
   "cell_type": "markdown",
   "id": "76a7e756",
   "metadata": {},
   "source": [
    "## Q4. A study of the prevalence of smoking in a population of 500 individuals found that 60 individuals smoked. Use Python to calculate the 95% confidence interval for the true proportion of individuals in the population who smoke.\n"
   ]
  },
  {
   "cell_type": "code",
   "execution_count": 5,
   "id": "85c452af",
   "metadata": {},
   "outputs": [
    {
     "name": "stdout",
     "output_type": "stream",
     "text": [
      "95% confidence interval: (0.09151638887130706, 0.14848361112869293)\n"
     ]
    }
   ],
   "source": [
    "from statsmodels.stats.proportion import proportion_confint\n",
    "\n",
    "n = 500\n",
    "p = 60/500\n",
    "conf_int = proportion_confint(count=60, nobs=n, alpha=0.05, method='normal')\n",
    "\n",
    "print(\"95% confidence interval:\", conf_int)\n"
   ]
  },
  {
   "cell_type": "code",
   "execution_count": null,
   "id": "47babdcf",
   "metadata": {},
   "outputs": [],
   "source": []
  },
  {
   "cell_type": "markdown",
   "id": "5f11f4ea",
   "metadata": {},
   "source": [
    "## Q5. Calculate the 90% confidence interval for a sample of data with a mean of 75 and a standard deviation of 12 using Python. Interpret the results."
   ]
  },
  {
   "cell_type": "code",
   "execution_count": 7,
   "id": "d51293a2",
   "metadata": {},
   "outputs": [
    {
     "name": "stdout",
     "output_type": "stream",
     "text": [
      "Lower bound: 73.02617564765823\n",
      "Upper bound: 76.97382435234177\n"
     ]
    }
   ],
   "source": [
    "import scipy.stats as stats\n",
    "\n",
    "sample_mean = 75\n",
    "sample_std = 12\n",
    "n = 100 # Assuming a sample size of 100\n",
    "\n",
    "z = stats.norm.ppf(0.95) # Z-score for 90% confidence level\n",
    "\n",
    "lower_ci = sample_mean - z * (sample_std / (n**0.5))\n",
    "upper_ci = sample_mean + z * (sample_std / (n**0.5))\n",
    "\n",
    "print(\"Lower bound:\", lower_ci)\n",
    "print(\"Upper bound:\", upper_ci)\n"
   ]
  },
  {
   "cell_type": "code",
   "execution_count": null,
   "id": "00202bc4",
   "metadata": {},
   "outputs": [],
   "source": []
  },
  {
   "cell_type": "markdown",
   "id": "b8558410",
   "metadata": {},
   "source": [
    "## Q6. Use Python to plot the chi-square distribution with 10 degrees of freedom. Label the axes and shade the area corresponding to a chi-square statistic of 15."
   ]
  },
  {
   "cell_type": "code",
   "execution_count": 9,
   "id": "b26642f6",
   "metadata": {},
   "outputs": [
    {
     "data": {
      "image/png": "[encoded data removed]",
      "text/plain": [
       "<Figure size 640x480 with 1 Axes>"
      ]
     },
     "metadata": {},
     "output_type": "display_data"
    }
   ],
   "source": [
    "import numpy as np\n",
    "import matplotlib.pyplot as plt\n",
    "from scipy.stats import chi2\n",
    "\n",
    "# Define degrees of freedom\n",
    "df = 10\n",
    "\n",
    "# Define x values\n",
    "x = np.linspace(0, 25, 1000)\n",
    "\n",
    "# Define chi-square distribution\n",
    "chisq_dist = chi2(df)\n",
    "\n",
    "# Calculate y values\n",
    "y = chisq_dist.pdf(x)\n",
    "\n",
    "# Plot the chi-square distribution\n",
    "plt.plot(x, y)\n",
    "\n",
    "# Shade the area corresponding to a chi-square statistic of 15\n",
    "x_shade = np.linspace(15, 25, 1000)\n",
    "y_shade = chisq_dist.pdf(x_shade)\n",
    "plt.fill_between(x_shade, y_shade, color='blue', alpha=0.5)\n",
    "\n",
    "# Label the axes\n",
    "plt.xlabel('Chi-Square Statistic')\n",
    "plt.ylabel('Probability Density')\n",
    "\n",
    "# Show the plot\n",
    "plt.show()\n"
   ]
  },
  {
   "cell_type": "code",
   "execution_count": null,
   "id": "bf794c67",
   "metadata": {},
   "outputs": [],
   "source": []
  },
  {
   "cell_type": "markdown",
   "id": "8161b84b",
   "metadata": {},
   "source": [
    "## Q7. A random sample of 1000 people was asked if they preferred Coke or Pepsi. Of the sample, 520 preferred Coke. Calculate a 99% confidence interval for the true proportion of people in the population who prefer Coke."
   ]
  },
  {
   "cell_type": "markdown",
   "id": "6e806095",
   "metadata": {},
   "source": [
    "## Ans7- To calculate the 99% confidence interval for the true proportion of people in the population who prefer Coke, we can use the following formula:\n",
    "\n",
    "## CI = p ± z*(sqrt(p*(1-p)/n))\n",
    "\n",
    "## where CI is the confidence interval, p is the sample proportion, z is the z-score corresponding to the confidence level (0.99), and n is the sample size.\n",
    "\n",
    "## First, let's calculate the sample proportion:\n",
    "\n",
    "## p = 520/1000 = 0.52\n",
    "\n",
    "## Next, let's calculate the z-score:\n",
    "\n",
    "## z = 2.576 (using a standard normal distribution table)\n",
    "\n",
    "## Finally, let's plug in the values and calculate the confidence interval:\n",
    "\n",
    "## CI = 0.52 ± 2.576*(sqrt(0.52*(1-0.52)/1000)) = (0.486, 0.554)\n",
    "\n",
    "## Interpretation: We are 99% confident that the true proportion of people in the population who prefer Coke is between 0.486 and 0.554."
   ]
  },
  {
   "cell_type": "code",
   "execution_count": null,
   "id": "634a951d",
   "metadata": {},
   "outputs": [],
   "source": []
  },
  {
   "cell_type": "markdown",
   "id": "e5d89883",
   "metadata": {},
   "source": [
    "## Q8. A researcher hypothesizes that a coin is biased towards tails. They flip the coin 100 times and observe 45 tails. Conduct a chi-square goodness of fit test to determine if the observed frequencies match the expected frequencies of a fair coin. Use a significance level of 0.05."
   ]
  },
  {
   "cell_type": "code",
   "execution_count": 11,
   "id": "5ad9e694",
   "metadata": {},
   "outputs": [
    {
     "name": "stdout",
     "output_type": "stream",
     "text": [
      "Chi-square statistic: 1.0\n",
      "p-value: 0.31731050786291115\n"
     ]
    }
   ],
   "source": [
    "from scipy import stats\n",
    "\n",
    "observed_freq = [55, 45]  # tails, heads\n",
    "expected_freq = [50, 50]\n",
    "\n",
    "# Perform the chi-square goodness of fit test\n",
    "chi2, p_value = stats.chisquare(f_obs=observed_freq, f_exp=expected_freq)\n",
    "\n",
    "print(\"Chi-square statistic:\", chi2)\n",
    "print(\"p-value:\", p_value)\n"
   ]
  },
  {
   "cell_type": "code",
   "execution_count": null,
   "id": "1149097c",
   "metadata": {},
   "outputs": [],
   "source": []
  },
  {
   "cell_type": "markdown",
   "id": "6c91ce2d",
   "metadata": {},
   "source": [
    "## Q9. A study was conducted to determine if there is an association between smoking status (smoker or non-smoker) and lung cancer diagnosis (yes or no). The results are shown in the contingency table below. Conduct a chi-square test for independence to determine if there is a significant association between smoking status and lung cancer diagnosis.\n",
    "## Lung Cancer: Yes    Lung Cancer: No\n",
    "## Smoker         60                       140\n",
    "## Non-smoker 30                       170\n",
    "## Use a significance level of 0.05."
   ]
  },
  {
   "cell_type": "code",
   "execution_count": 12,
   "id": "7f70506a",
   "metadata": {},
   "outputs": [
    {
     "name": "stdout",
     "output_type": "stream",
     "text": [
      "Chi-square statistic: 12.0573\n",
      "P-value: 0.0005\n"
     ]
    }
   ],
   "source": [
    "from scipy.stats import chi2_contingency\n",
    "\n",
    "# create the contingency table\n",
    "observed = [[60, 140], [30, 170]]\n",
    "\n",
    "# conduct the chi-square test\n",
    "chi2, pval, dof, expected = chi2_contingency(observed)\n",
    "\n",
    "# print the results\n",
    "print(f\"Chi-square statistic: {chi2:.4f}\")\n",
    "print(f\"P-value: {pval:.4f}\")\n"
   ]
  },
  {
   "cell_type": "code",
   "execution_count": null,
   "id": "0a5faba7",
   "metadata": {},
   "outputs": [],
   "source": []
  },
  {
   "cell_type": "markdown",
   "id": "06b6c04e",
   "metadata": {},
   "source": [
    "## Q10. A study was conducted to determine if the proportion of people who prefer milk chocolate, dark chocolate, or white chocolate is different in the U.S. versus the U.K. A random sample of 500 people from the U.S. and a random sample of 500 people from the U.K. were surveyed. The results are shown in the contingency table below. Conduct a chi-square test for independence to determine if there is a significant association between chocolate preference and country of origin.\n",
    "## U.S. (n=500) 200 150 150\n",
    "## U.K. (n=500) 225 175 100\n",
    "## Use a significance level of 0.01."
   ]
  },
  {
   "cell_type": "code",
   "execution_count": 13,
   "id": "4c18684c",
   "metadata": {},
   "outputs": [
    {
     "name": "stdout",
     "output_type": "stream",
     "text": [
      "Chi-square statistic: 13.393665158371041\n",
      "P-value: 0.0012348168997745918\n",
      "Degrees of freedom: 2\n",
      "Expected frequencies: [[212.5 162.5 125. ]\n",
      " [212.5 162.5 125. ]]\n"
     ]
    }
   ],
   "source": [
    "import numpy as np\n",
    "from scipy.stats import chi2_contingency\n",
    "\n",
    "# Create contingency table\n",
    "obs = np.array([[200, 150, 150], [225, 175, 100]])\n",
    "\n",
    "# Calculate expected frequencies\n",
    "exp = np.array([[212.5, 162.5, 125], [212.5, 162.5, 125]])\n",
    "\n",
    "# Calculate chi-square statistic, p-value, degrees of freedom, and expected frequencies\n",
    "chi2, p, dof, ex = chi2_contingency(obs)\n",
    "\n",
    "print(\"Chi-square statistic:\", chi2)\n",
    "print(\"P-value:\", p)\n",
    "print(\"Degrees of freedom:\", dof)\n",
    "print(\"Expected frequencies:\", ex)\n"
   ]
  },
  {
   "cell_type": "code",
   "execution_count": null,
   "id": "f82ca3f7",
   "metadata": {},
   "outputs": [],
   "source": []
  },
  {
   "cell_type": "markdown",
   "id": "dd4414b1",
   "metadata": {},
   "source": [
    "## Q11. A random sample of 30 people was selected from a population with an unknown mean and standard deviation. The sample mean was found to be 72 and the sample standard deviation was found to be 10. Conduct a hypothesis test to determine if the population mean is significantly different from 70. Use a significance level of 0.05."
   ]
  },
  {
   "cell_type": "markdown",
   "id": "283d8a48",
   "metadata": {},
   "source": [
    "## Ans11- We can use a one-sample t-test to test the null hypothesis that the population mean is 70 against the alternative hypothesis that the population mean is different from 70.\n",
    "\n",
    "## The test statistic is calculated as:\n",
    "\n",
    "## t = (sample mean - hypothesized population mean) / (sample standard deviation / sqrt(sample size))\n",
    "\n",
    "## Substituting the values given in the question, we get:\n",
    "\n",
    "## t = (72 - 70) / (10 / sqrt(30)) = 1.095\n",
    "\n",
    "## The degrees of freedom for the t-distribution is n-1 = 29.\n",
    "\n",
    "## Using a t-distribution table or a calculator, we find the p-value associated with this test statistic to be 0.284.\n",
    "\n",
    "## Since the p-value (0.284) is greater than the significance level (0.05), we fail to reject the null hypothesis. Therefore, we do not have sufficient evidence to conclude that the population mean is significantly different from 70 at the 5% significance level."
   ]
  },
  {
   "cell_type": "code",
   "execution_count": null,
   "id": "ceb1837a",
   "metadata": {},
   "outputs": [],
   "source": []
  }
 ],
 "metadata": {
  "kernelspec": {
   "display_name": "Python 3 (ipykernel)",
   "language": "python",
   "name": "python3"
  },
  "language_info": {
   "codemirror_mode": {
    "name": "ipython",
    "version": 3
   },
   "file_extension": ".py",
   "mimetype": "text/x-python",
   "name": "python",
   "nbconvert_exporter": "python",
   "pygments_lexer": "ipython3",
   "version": "3.9.13"
  }
 },
 "nbformat": 4,
 "nbformat_minor": 5
}
