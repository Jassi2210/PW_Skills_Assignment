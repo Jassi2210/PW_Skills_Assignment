{
 "cells": [
  {
   "cell_type": "markdown",
   "id": "56b4e3dd",
   "metadata": {},
   "source": [
    "Q1. How does bagging reduce overfitting in decision trees?\n",
    "\n",
    "Ans1- Bagging, or Bootstrap Aggregating, is a technique used to reduce overfitting in decision trees. In bagging, multiple decision trees are trained on different bootstrap samples of the training data. Each tree is trained independently, using a subset of the features at each split, and the final prediction is obtained by averaging the predictions of all the trees. This technique helps to reduce overfitting by reducing the variance of the model, as the averaging of predictions from multiple trees helps to reduce the effect of outliers and noise in the data."
   ]
  },
  {
   "cell_type": "code",
   "execution_count": null,
   "id": "c306db77",
   "metadata": {},
   "outputs": [],
   "source": []
  },
  {
   "cell_type": "markdown",
   "id": "bed87977",
   "metadata": {},
   "source": [
    "Q2. What are the advantages and disadvantages of using different types of base learners in bagging?\n",
    "\n",
    "Ans2- The advantage of using different types of base learners in bagging is that it can help to reduce the correlation between the base models and improve the diversity of the ensemble. This can lead to a reduction in the variance of the model and improve the overall performance. The disadvantage is that it can increase the complexity of the model and increase the risk of overfitting. It is important to choose base learners that are diverse and complementary to each other."
   ]
  },
  {
   "cell_type": "code",
   "execution_count": null,
   "id": "6af2b229",
   "metadata": {},
   "outputs": [],
   "source": []
  },
  {
   "cell_type": "markdown",
   "id": "a41731fd",
   "metadata": {},
   "source": [
    "Q3. How does the choice of base learner affect the bias-variance tradeoff in bagging?\n",
    "\n",
    "Ans3- The choice of base learner can affect the bias-variance tradeoff in bagging. In general, a more flexible base learner, such as a decision tree, can reduce bias and improve the model's ability to capture complex relationships in the data. However, it can also increase variance and the risk of overfitting. On the other hand, a less flexible base learner, such as a linear model, can reduce variance but may increase bias and limit the model's ability to capture complex relationships. The choice of base learner should be based on the tradeoff between bias and variance that is appropriate for the particular problem."
   ]
  },
  {
   "cell_type": "code",
   "execution_count": null,
   "id": "45254a94",
   "metadata": {},
   "outputs": [],
   "source": []
  },
  {
   "cell_type": "markdown",
   "id": "b69e1403",
   "metadata": {},
   "source": [
    "Q4. Can bagging be used for both classification and regression tasks? How does it differ in each case?\n",
    "\n",
    "Ans4- Bagging can be used for both classification and regression tasks. In classification tasks, the final prediction is obtained by taking the majority vote of the predictions of all the trees. In regression tasks, the final prediction is obtained by taking the average of the predictions of all the trees. The main difference between the two is the way the final prediction is calculated."
   ]
  },
  {
   "cell_type": "code",
   "execution_count": null,
   "id": "2557f81c",
   "metadata": {},
   "outputs": [],
   "source": []
  },
  {
   "cell_type": "markdown",
   "id": "53017465",
   "metadata": {},
   "source": [
    "Q5. What is the role of ensemble size in bagging? How many models should be included in the ensemble?\n",
    "\n",
    "Ans5- The ensemble size in bagging refers to the number of base learners that are included in the ensemble. Increasing the ensemble size can help to reduce the variance of the model and improve the overall performance. However, there is a point of diminishing returns where increasing the ensemble size does not lead to a significant improvement in performance but increases the computational cost. The appropriate ensemble size should be chosen based on the problem and the available computational resources."
   ]
  },
  {
   "cell_type": "code",
   "execution_count": null,
   "id": "2824a3f0",
   "metadata": {},
   "outputs": [],
   "source": []
  },
  {
   "cell_type": "markdown",
   "id": "3d156ce2",
   "metadata": {},
   "source": [
    "Q6. Can you provide an example of a real-world application of bagging in machine learning?\n",
    "\n",
    "Ans6-  Bagging has a wide range of applications in machine learning, including image classification, text classification, and regression tasks. One real-world example of bagging is in the field of finance, where it is used to predict stock prices. Bagging can be used to train an ensemble of decision trees on historical stock market data to predict future prices. By using multiple decision trees and averaging their predictions, the model can reduce the impact of noise and outliers in the data and make more accurate predictions."
   ]
  },
  {
   "cell_type": "code",
   "execution_count": null,
   "id": "a787e261",
   "metadata": {},
   "outputs": [],
   "source": []
  },
  {
   "cell_type": "markdown",
   "id": "14728b93",
   "metadata": {},
   "source": []
  },
  {
   "cell_type": "code",
   "execution_count": null,
   "id": "4235b1a3",
   "metadata": {},
   "outputs": [],
   "source": []
  },
  {
   "cell_type": "code",
   "execution_count": null,
   "id": "239915c6",
   "metadata": {},
   "outputs": [],
   "source": []
  },
  {
   "cell_type": "code",
   "execution_count": null,
   "id": "2ac6664e",
   "metadata": {},
   "outputs": [],
   "source": []
  },
  {
   "cell_type": "code",
   "execution_count": null,
   "id": "f6778e22",
   "metadata": {},
   "outputs": [],
   "source": []
  },
  {
   "cell_type": "code",
   "execution_count": null,
   "id": "dff3a121",
   "metadata": {},
   "outputs": [],
   "source": []
  },
  {
   "cell_type": "code",
   "execution_count": null,
   "id": "4ad3eaf9",
   "metadata": {},
   "outputs": [],
   "source": []
  }
 ],
 "metadata": {
  "kernelspec": {
   "display_name": "Python 3 (ipykernel)",
   "language": "python",
   "name": "python3"
  },
  "language_info": {
   "codemirror_mode": {
    "name": "ipython",
    "version": 3
   },
   "file_extension": ".py",
   "mimetype": "text/x-python",
   "name": "python",
   "nbconvert_exporter": "python",
   "pygments_lexer": "ipython3",
   "version": "3.9.13"
  }
 },
 "nbformat": 4,
 "nbformat_minor": 5
}
