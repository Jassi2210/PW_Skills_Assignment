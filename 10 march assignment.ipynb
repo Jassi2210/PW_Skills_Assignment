{
 "cells": [
  {
   "cell_type": "markdown",
   "id": "8fa4f618",
   "metadata": {},
   "source": [
    "## Q1: What is Estimation Statistics? Explain point estimate and interval estimate.\n",
    "## Ans1- Estimation statistics is a branch of statistics that deals with making inferences about the population parameters based on the sample data. In estimation, the goal is to estimate the population parameters like mean, standard deviation, proportion, etc. based on the sample data.\n",
    "## There are two types of estimation techniques in statistics - point estimation and interval estimation.\n",
    "## Point Estimate: Point estimation is a method of estimating a single value of an unknown parameter from a statistical sample. It is a single value that is used to estimate the population parameter. For example, if we want to estimate the population mean, then the sample mean can be used as a point estimate. Point estimates are calculated using the sample statistics and are used to make inferences about the population parameters.\n",
    "## Interval Estimate: Interval estimation is a method of estimating the range of values that is likely to include the population parameter with a specified level of confidence. It provides an interval of values in which the population parameter is expected to lie. Interval estimates are calculated using the sample statistics, and it takes into account the variability of the sample data. For example, a 95% confidence interval for the population mean provides a range of values within which we can be 95% confident that the true population mean lies."
   ]
  },
  {
   "cell_type": "code",
   "execution_count": null,
   "id": "780dd69d",
   "metadata": {},
   "outputs": [],
   "source": []
  },
  {
   "cell_type": "markdown",
   "id": "a9ef88ac",
   "metadata": {},
   "source": [
    "## Q2. Write a Python function to estimate the population mean using a sample mean and standard deviation."
   ]
  },
  {
   "cell_type": "code",
   "execution_count": 1,
   "id": "ace0feb0",
   "metadata": {},
   "outputs": [
    {
     "name": "stdout",
     "output_type": "stream",
     "text": [
      "Estimated population mean:  50.0\n",
      "95% Confidence interval:  (48.04, 51.96)\n"
     ]
    }
   ],
   "source": [
    "import math\n",
    "\n",
    "def estimate_population_mean(sample_mean, sample_std_dev, sample_size):\n",
    "    # Calculate the standard error\n",
    "    std_error = sample_std_dev / math.sqrt(sample_size)\n",
    "    \n",
    "    # Calculate the lower and upper bounds of the confidence interval\n",
    "    lower_bound = sample_mean - 1.96 * std_error # 1.96 is the z-value for a 95% confidence interval\n",
    "    upper_bound = sample_mean + 1.96 * std_error # 1.96 is the z-value for a 95% confidence interval\n",
    "    \n",
    "    # Return the estimated population mean and the confidence interval\n",
    "    return sample_mean, (lower_bound, upper_bound)\n",
    "sample_mean = 50.0\n",
    "sample_std_dev = 10.0\n",
    "sample_size = 100\n",
    "\n",
    "estimated_mean, confidence_interval = estimate_population_mean(sample_mean, sample_std_dev, sample_size)\n",
    "\n",
    "print(\"Estimated population mean: \", estimated_mean)\n",
    "print(\"95% Confidence interval: \", confidence_interval)\n"
   ]
  },
  {
   "cell_type": "code",
   "execution_count": null,
   "id": "e61074df",
   "metadata": {},
   "outputs": [],
   "source": []
  },
  {
   "cell_type": "markdown",
   "id": "cd3a89e6",
   "metadata": {},
   "source": [
    "## Q3: What is Hypothesis testing? Why is it used? State the importance of Hypothesis testing.\n",
    "## Ans3- Hypothesis testing is a statistical method used to make decisions or draw conclusions about a population parameter based on sample data. It involves two competing hypotheses, the null hypothesis and the alternative hypothesis, which are used to assess the evidence provided by the sample data.\n",
    "## Hypothesis testing is used to determine whether the sample data provides enough evidence to reject the null hypothesis and support the alternative hypothesis. It involves calculating a test statistic from the sample data and comparing it to a critical value or p-value. If the test statistic falls within the rejection region (determined by the critical value or p-value), the null hypothesis is rejected in favor of the alternative hypothesis. If the test statistic falls within the acceptance region, the null hypothesis is not rejected.\n",
    "\n",
    "## The importance of hypothesis testing lies in its ability to make objective and data-driven decisions about population parameters based on sample data. It allows researchers to test theories and hypotheses about the population and draw conclusions about the effectiveness of treatments or interventions. Hypothesis testing is widely used in fields such as science, medicine, engineering, and social sciences to evaluate new ideas, test theories, and make informed decisions based on empirical evidence."
   ]
  },
  {
   "cell_type": "code",
   "execution_count": null,
   "id": "707ef629",
   "metadata": {},
   "outputs": [],
   "source": []
  },
  {
   "cell_type": "markdown",
   "id": "e1c13459",
   "metadata": {},
   "source": [
    "## Q4. Create a hypothesis that states whether the average weight of male college students is greater than the average weight of female college students.\n",
    "## Ans4- Hypothesis:\n",
    "\n",
    "## Null Hypothesis (H0): The average weight of male college students is equal to or less than the average weight of female college students.\n",
    "\n",
    "## Alternative Hypothesis (Ha): The average weight of male college students is greater than the average weight of female college students.\n",
    "\n",
    "## Symbolically, this can be represented as:\n",
    "\n",
    "## H0: µmale <= µfemale\n",
    "## Ha: µmale > µfemale\n",
    "\n",
    "## where µmale represents the population mean weight of male college students, and µfemale represents the population mean weight of female college students.\n",
    "\n",
    "## To test this hypothesis, we would need to collect a sample of male and female college students, calculate the sample mean weight for each group, and conduct a hypothesis test using an appropriate statistical test (e.g., t-test or z-test). If the test statistic falls within the rejection region, we would reject the null hypothesis and conclude that there is evidence to support the alternative hypothesis, which suggests that the average weight of male college students is greater than the average weight of female college students."
   ]
  },
  {
   "cell_type": "code",
   "execution_count": null,
   "id": "05e80f31",
   "metadata": {},
   "outputs": [],
   "source": []
  },
  {
   "cell_type": "markdown",
   "id": "36a263b9",
   "metadata": {},
   "source": [
    "## Q5. Write a Python script to conduct a hypothesis test on the difference between two population means, given a sample from each population.\n"
   ]
  },
  {
   "cell_type": "code",
   "execution_count": 2,
   "id": "32be3fcc",
   "metadata": {},
   "outputs": [
    {
     "name": "stdout",
     "output_type": "stream",
     "text": [
      "Fail to reject null hypothesis. There is insufficient evidence to suggest that the means are different.\n",
      "t-statistic:  -3.6927447293799833\n",
      "p-value:  0.0016653519541944828\n",
      "critical value:  1.7340636066175354\n"
     ]
    }
   ],
   "source": [
    "import numpy as np\n",
    "from scipy.stats import t\n",
    "\n",
    "def two_sample_ttest(sample1, sample2, alpha):\n",
    "    n1, n2 = len(sample1), len(sample2)\n",
    "    s1, s2 = np.var(sample1, ddof=1), np.var(sample2, ddof=1)\n",
    "    s_pooled = np.sqrt(((n1 - 1) * s1 + (n2 - 1) * s2) / (n1 + n2 - 2))\n",
    "    t_statistic = (np.mean(sample1) - np.mean(sample2)) / (s_pooled * np.sqrt(1 / n1 + 1 / n2))\n",
    "    df = n1 + n2 - 2\n",
    "    critical_value = t.ppf(1 - alpha, df)\n",
    "    p_value = (1 - t.cdf(abs(t_statistic), df)) * 2\n",
    "    if t_statistic > critical_value:\n",
    "        print(\"Reject null hypothesis. There is significant evidence to suggest that the means are different.\")\n",
    "    else:\n",
    "        print(\"Fail to reject null hypothesis. There is insufficient evidence to suggest that the means are different.\")\n",
    "    print(\"t-statistic: \", t_statistic)\n",
    "    print(\"p-value: \", p_value)\n",
    "    print(\"critical value: \", critical_value)\n",
    "\n",
    "# Sample data\n",
    "sample1 = [3.7, 3.8, 3.9, 4.0, 4.1, 4.2, 4.3, 4.4, 4.5, 4.6]\n",
    "sample2 = [4.2, 4.3, 4.4, 4.5, 4.6, 4.7, 4.8, 4.9, 5.0, 5.1]\n",
    "\n",
    "# Hypothesis test\n",
    "alpha = 0.05\n",
    "two_sample_ttest(sample1, sample2, alpha)\n"
   ]
  },
  {
   "cell_type": "code",
   "execution_count": null,
   "id": "56cde428",
   "metadata": {},
   "outputs": [],
   "source": []
  },
  {
   "cell_type": "markdown",
   "id": "a7a6c1d3",
   "metadata": {},
   "source": [
    "## Q6: What is a null and alternative hypothesis? Give some examples.\n",
    "## Ans6- In statistical hypothesis testing, the null hypothesis and alternative hypothesis are two complementary statements about the value of a population parameter (such as the mean, proportion, or variance) or the relationship between two or more populations.\n",
    "## The null hypothesis (H0) is a statement that represents the default assumption, which is typically that there is no difference or no effect. The alternative hypothesis (Ha) is a statement that contradicts the null hypothesis and represents the alternative possibility, which is typically that there is a difference or effect.\n",
    "## Here are some examples of null and alternative hypotheses:\n",
    "## 1.Example for a one-sample t-test:\n",
    "## Null hypothesis (H0): The mean weight of apples is 200 grams.\n",
    "## Alternative hypothesis (Ha): The mean weight of apples is not 200 grams.\n",
    "## 2.Example for a two-sample t-test:\n",
    "## Null hypothesis (H0): The mean height of men and women is the same.\n",
    "## Alternative hypothesis (Ha): The mean height of men and women is different.\n",
    "## 3.Example for a chi-square test:\n",
    "## Null hypothesis (H0): The distribution of colors in a bag of M&Ms is equal.\n",
    "## Alternative hypothesis (Ha): The distribution of colors in a bag of M&Ms is not equal.\n",
    "## 4.Example for a correlation test:\n",
    "## Null hypothesis (H0): There is no significant correlation between age and income.\n",
    "## Alternative hypothesis (Ha): There is a significant correlation between age and income.\n",
    "## 5.Example for a regression analysis:\n",
    "## Null hypothesis (H0): There is no linear relationship between temperature and ice cream sales.\n",
    "## Alternative hypothesis (Ha): There is a linear relationship between temperature and ice cream sales."
   ]
  },
  {
   "cell_type": "code",
   "execution_count": null,
   "id": "a123fe39",
   "metadata": {},
   "outputs": [],
   "source": []
  },
  {
   "cell_type": "markdown",
   "id": "287aa16c",
   "metadata": {},
   "source": [
    "## Q7: Write down the steps involved in hypothesis testing.\n",
    "## Ans7- The steps involved in hypothesis testing are as follows:\n",
    "## 1.State the null hypothesis: The null hypothesis is the assumption that there is no difference or no relationship between variables. It is denoted by H0.\n",
    "## 2.State the alternative hypothesis: The alternative hypothesis is the opposite of the null hypothesis. It is denoted by Ha.\n",
    "## 3.Determine the level of significance: The level of significance is the probability of rejecting the null hypothesis when it is actually true. It is denoted by alpha (α) and is usually set at 0.05.\n",
    "## 4.Select the appropriate test statistic: The test statistic is a numerical value that measures the difference between the sample data and the null hypothesis.\n",
    "## 5.Calculate the p-value: The p-value is the probability of obtaining a test statistic as extreme as or more extreme than the observed sample data, assuming the null hypothesis is true.\n",
    "## 6.Compare the p-value to the level of significance: If the p-value is less than or equal to the level of significance, then the null hypothesis is rejected in favor of the alternative hypothesis. If the p-value is greater than the level of significance, then the null hypothesis is not rejected.\n",
    "## 7.Interpret the results: The final step is to interpret the results of the hypothesis test in the context of the research question. If the null hypothesis is rejected, then there is evidence to support the alternative hypothesis. If the null hypothesis is not rejected, then there is insufficient evidence to support the alternative hypothesis."
   ]
  },
  {
   "cell_type": "code",
   "execution_count": null,
   "id": "f1fd33fb",
   "metadata": {},
   "outputs": [],
   "source": []
  },
  {
   "cell_type": "markdown",
   "id": "143f123a",
   "metadata": {},
   "source": [
    "## Q8. Define p-value and explain its significance in hypothesis testing.\n",
    "## Ans8- In hypothesis testing, the p-value is the probability of observing a test statistic as extreme as or more extreme than the one calculated from the sample data, given that the null hypothesis is true. The p-value is used to determine the statistical significance of the test and to make a decision about whether to reject or fail to reject the null hypothesis.\n",
    "## If the p-value is small (less than or equal to the chosen level of significance), it means that it is unlikely to observe the sample data if the null hypothesis is true. This leads to rejecting the null hypothesis in favor of the alternative hypothesis. On the other hand, if the p-value is large (greater than the chosen level of significance), it means that it is likely to observe the sample data even if the null hypothesis is true, and therefore, the null hypothesis cannot be rejected.\n",
    "## The significance of the p-value lies in its ability to provide a measure of the strength of evidence against the null hypothesis. A small p-value indicates strong evidence against the null hypothesis, while a large p-value indicates weak evidence against the null hypothesis. Therefore, the p-value is a crucial tool in statistical hypothesis testing, and it helps researchers make informed decisions based on the evidence presented by the data."
   ]
  },
  {
   "cell_type": "code",
   "execution_count": null,
   "id": "caff5c47",
   "metadata": {},
   "outputs": [],
   "source": []
  },
  {
   "cell_type": "markdown",
   "id": "da91e0c4",
   "metadata": {},
   "source": [
    "## Q9. Generate a Student's t-distribution plot using Python's matplotlib library, with the degrees of freedom parameter set to 10."
   ]
  },
  {
   "cell_type": "code",
   "execution_count": 1,
   "id": "7896146a",
   "metadata": {},
   "outputs": [
    {
     "data": {
      "image/png": "[encoded data removed]",
      "text/plain": [
       "<Figure size 640x480 with 1 Axes>"
      ]
     },
     "metadata": {},
     "output_type": "display_data"
    }
   ],
   "source": [
    "import numpy as np\n",
    "import matplotlib.pyplot as plt\n",
    "from scipy.stats import t\n",
    "\n",
    "df = 10 # degrees of freedom\n",
    "\n",
    "x = np.linspace(-4, 4, 100)\n",
    "y = t.pdf(x, df)\n",
    "\n",
    "plt.plot(x, y, label='t-distribution')\n",
    "plt.legend()\n",
    "plt.title('Student\\'s t-Distribution with df = 10')\n",
    "plt.xlabel('x')\n",
    "plt.ylabel('Probability density')\n",
    "plt.show()\n"
   ]
  },
  {
   "cell_type": "code",
   "execution_count": null,
   "id": "6d2fd724",
   "metadata": {},
   "outputs": [],
   "source": []
  },
  {
   "cell_type": "markdown",
   "id": "38a7af4c",
   "metadata": {},
   "source": [
    "## Q10. Write a Python program to calculate the two-sample t-test for independent samples, given two random samples of equal size and a null hypothesis that the population means are equal."
   ]
  },
  {
   "cell_type": "code",
   "execution_count": 2,
   "id": "14d8c63c",
   "metadata": {},
   "outputs": [
    {
     "name": "stdout",
     "output_type": "stream",
     "text": [
      "Null hypothesis: The population means are equal.\n",
      "Sample 1 mean: 5.4682179085383416\n",
      "Sample 2 mean: 6.089352212884888\n",
      "t-statistic: -2.0947413110307846\n",
      "p-value: 0.03746603534103138\n"
     ]
    }
   ],
   "source": [
    "import numpy as np\n",
    "from scipy.stats import ttest_ind\n",
    "\n",
    "# Generate two random samples of equal size\n",
    "sample1 = np.random.normal(5, 2, 100)\n",
    "sample2 = np.random.normal(6, 2, 100)\n",
    "\n",
    "# Define null hypothesis that the population means are equal\n",
    "null_hypothesis = \"The population means are equal.\"\n",
    "\n",
    "# Calculate the t-statistic and p-value using the ttest_ind() function\n",
    "t_statistic, p_value = ttest_ind(sample1, sample2)\n",
    "\n",
    "# Print the results\n",
    "print(\"Null hypothesis: \" + null_hypothesis)\n",
    "print(\"Sample 1 mean: \" + str(np.mean(sample1)))\n",
    "print(\"Sample 2 mean: \" + str(np.mean(sample2)))\n",
    "print(\"t-statistic: \" + str(t_statistic))\n",
    "print(\"p-value: \" + str(p_value))\n"
   ]
  },
  {
   "cell_type": "code",
   "execution_count": null,
   "id": "80bc548a",
   "metadata": {},
   "outputs": [],
   "source": []
  },
  {
   "cell_type": "markdown",
   "id": "6a950ead",
   "metadata": {},
   "source": [
    "## Q11: What is Student’s t distribution? When to use the t-Distribution.\n",
    "## Ans11- The Student's t-distribution is a probability distribution that is used to test hypotheses about the mean of a normally distributed population when the sample size is small (typically less than 30) and the population standard deviation is unknown. It is named after William Sealy Gosset, who used the pen name \"Student\" when publishing his work.\n",
    "## The t-distribution is similar in shape to the standard normal distribution, but with heavier tails, which reflects the increased uncertainty due to the small sample size. As the sample size increases, the t-distribution approaches the standard normal distribution.\n",
    "\n",
    "## The t-distribution is used in hypothesis testing to determine whether the difference between two sample means is significant. Specifically, it is used to test hypotheses about the difference between the means of two independent samples, or about the mean of a single sample when the population standard deviation is unknown. The t-distribution is also used to calculate confidence intervals for the population mean when the population standard deviation is unknown."
   ]
  },
  {
   "cell_type": "code",
   "execution_count": null,
   "id": "c7ba6ff7",
   "metadata": {},
   "outputs": [],
   "source": []
  },
  {
   "cell_type": "markdown",
   "id": "1d2cfffc",
   "metadata": {},
   "source": [
    "## Q12: What is t-statistic? State the formula for t-statistic.\n",
    "## Ans12- The t-statistic is a test statistic used in hypothesis testing when the sample size is small and the population standard deviation is unknown. It is used to determine whether the difference between the sample mean and the null hypothesis is statistically significant.\n",
    "## The formula for the t-statistic is:\n",
    "## t = (x̄ - μ) / (s / √n)\n",
    "## where:\n",
    "## x̄ is the sample mean\n",
    "## μ is the hypothesized population mean under the null hypothesis\n",
    "## s is the sample standard deviation\n",
    "## n is the sample size"
   ]
  },
  {
   "cell_type": "code",
   "execution_count": null,
   "id": "94cabe23",
   "metadata": {},
   "outputs": [],
   "source": []
  },
  {
   "cell_type": "markdown",
   "id": "02ee9a69",
   "metadata": {},
   "source": [
    "## Q13. A coffee shop owner wants to estimate the average daily revenue for their shop. They take a random sample of 50 days and find the sample mean revenue to be 500 with a standard  deviation of 50. Estimate the population mean revenue with a 95% confidence interval.\n",
    "## Ans13- To estimate the population mean revenue with a 95% confidence interval, we can use the following formula:\n",
    "## CI = x̄ ± t(α/2, n-1) * (s / √n)\n",
    "## For a 95% confidence interval with 49 degrees of freedom, the t-score can be obtained from a t-table or using a statistical software such as Python. For this example, the t-score is approximately 2.009.\n",
    "\n",
    "## Plugging in the values, we get:\n",
    "\n",
    "## CI = 500 ± 2.009 * (50 / √50)=(485.83, 514.17)\n",
    "## Therefore, we can be 95% confident that the true population mean revenue is between 485.83 and 514.17 based on this sample.\n"
   ]
  },
  {
   "cell_type": "code",
   "execution_count": null,
   "id": "4624842d",
   "metadata": {},
   "outputs": [],
   "source": []
  },
  {
   "cell_type": "markdown",
   "id": "71fd50df",
   "metadata": {},
   "source": [
    "## Q14. A researcher hypothesizes that a new drug will decrease blood pressure by 10 mmHg. They conduct a clinical trial with 100 patients and find that the sample mean decrease in blood pressure is 8 mmHg with a standard deviation of 3 mmHg. Test the hypothesis with a significance level of 0.05.\n",
    "## Ans14- To test the hypothesis that the new drug will decrease blood pressure by 10 mmHg with a significance level of 0.05, we can use a one-sample t-test with the following hypotheses:\n",
    "## Null hypothesis: The true mean decrease in blood pressure is equal to 10 mmHg (μ = 10)\n",
    "## Alternative hypothesis: The true mean decrease in blood pressure is less than 10 mmHg (μ < 10)\n",
    "## We can calculate the t-statistic using the formula:\n",
    "## t = (x̄ - μ) / (s / √n)\n",
    "## Plugging in the values, we get:\n",
    "## t = (8 - 10) / (3 / √100)\n",
    "## t = -2.82\n",
    "## The degrees of freedom for the t-distribution is n-1 = 99.\n",
    "## Using a t-table or a statistical software such as Python, we can find the p-value associated with this t-statistic. For a one-tailed test with 99 degrees of freedom, the p-value is approximately 0.002.\n",
    "## Since the p-value is less than the significance level of 0.05, we reject the null hypothesis. This means that we have sufficient evidence to suggest that the true mean decrease in blood pressure is less than 10 mmHg with a 95% confidence level. Therefore, we can conclude that the new drug has a statistically significant effect on reducing blood pressure."
   ]
  },
  {
   "cell_type": "code",
   "execution_count": null,
   "id": "41d8af68",
   "metadata": {},
   "outputs": [],
   "source": []
  },
  {
   "cell_type": "markdown",
   "id": "f24a3c76",
   "metadata": {},
   "source": [
    "## Q15. An electronics company produces a certain type of product with a mean weight of 5 pounds and a standard deviation of 0.5 pounds. A random sample of 25 products is taken, and the sample mean weight is found to be 4.8 pounds. Test the hypothesis that the true mean weight of the products is less than 5 pounds with a significance level of 0.01.\n",
    "## Ans15- To test the hypothesis that the true mean weight of the products is less than 5 pounds with a significance level of 0.01, we can use a one-sample t-test with the following hypotheses:\n",
    "## Null hypothesis: The true mean weight of the products is equal to 5 pounds (μ = 5)\n",
    "## Alternative hypothesis: The true mean weight of the products is less than 5 pounds (μ < 5)\n",
    "## We can calculate the t-statistic using the formula:\n",
    "## t = (x̄ - μ) / (s / √n)\n",
    "## t = (4.8 - 5) / (0.5 / √25) = -2\n",
    "## The degrees of freedom for the t-distribution is n-1 = 24.\n",
    "## Using a t-table or a statistical software such as Python, we can find the p-value associated with this t-statistic. For a one-tailed test with 24 degrees of freedom, the p-value is approximately 0.027.\n",
    "## Since the p-value is less than the significance level of 0.01, we reject the null hypothesis. This means that we have sufficient evidence to suggest that the true mean weight of the products is less than 5 pounds with a 99% confidence level. Therefore, the company should consider adjusting their manufacturing process to increase the weight of the products."
   ]
  },
  {
   "cell_type": "code",
   "execution_count": null,
   "id": "ef7f5806",
   "metadata": {},
   "outputs": [],
   "source": []
  },
  {
   "cell_type": "markdown",
   "id": "eb383f09",
   "metadata": {},
   "source": [
    "## Q16. Two groups of students are given different study materials to prepare for a test. The first group (n1 = 30) has a mean score of 80 with a standard deviation of 10, and the second group (n2 = 40) has a mean score of 75 with a standard deviation of 8. Test the hypothesis that the population means for the two groups are equal with a significance level of 0.01.\n",
    "## Ans16- To test the hypothesis that the population means for the two groups are equal with a significance level of 0.01, we can use a two-sample t-test with the following hypotheses:\n",
    "## Null hypothesis: The population means for the two groups are equal (μ1 = μ2)\n",
    "## Alternative hypothesis: The population means for the two groups are not equal (μ1 ≠ μ2)\n",
    "## We can calculate the t-statistic using the formula:\n",
    "## t = (x̄1 - x̄2) / (s_p * √(1/n1 + 1/n2))\n",
    "## s_p = √(((n1 - 1) * s1^2 + (n2 - 1) * s2^2) / (n1 + n2 - 2))\n",
    "## s1 and s2 are the sample standard deviations of the two groups\n",
    "## n1 and n2 are the sample sizes of the two groups\n",
    "## Plugging in the values, we get:\n",
    "## s_p = √(((30 - 1) * 10^2 + (40 - 1) * 8^2) / (30 + 40 - 2)) = 9.08\n",
    "## t = (80 - 75) / (9.08 * √(1/30 + 1/40)) = 1.89\n",
    "## The degrees of freedom for the t-distribution is (n1 + n2 - 2) = 68.\n",
    "## Using a t-table or a statistical software such as Python, we can find the p-value associated with this t-statistic. For a two-tailed test with 68 degrees of freedom, the p-value is approximately 0.064.\n",
    "## Since the p-value is greater than the significance level of 0.01, we fail to reject the null hypothesis. This means that we do not have sufficient evidence to suggest that the population means for the two groups are not equal with a 99% confidence level. Therefore, we can conclude that the study materials given to the two groups did not have a statistically significant effect on their test scores."
   ]
  },
  {
   "cell_type": "code",
   "execution_count": null,
   "id": "4666bdd0",
   "metadata": {},
   "outputs": [],
   "source": []
  },
  {
   "cell_type": "markdown",
   "id": "bc4ba511",
   "metadata": {},
   "source": [
    "## Q17. A marketing company wants to estimate the average number of ads watched by viewers during a TV program. They take a random sample of 50 viewers and find that the sample mean is 4 with a standard deviation of 1.5. Estimate the population mean with a 99% confidence interval.\n",
    "## Ans17- To estimate the population mean with a 99% confidence interval, we can use the following formula:\n",
    "## CI = x̄ ± t_(α/2, n-1) * (s/√n)\n",
    "## We can find the t-value using a t-table or a statistical software such as Python. For a two-tailed test with 49 degrees of freedom and a significance level of 0.01 (since we want a 99% confidence interval), the t-value is approximately 2.681.\n",
    "## Plugging in the values, we get:\n",
    "## CI = 4 ± 2.681 * (1.5/√50) = (3.437, 4.563)\n",
    "## Therefore, we can be 99% confident that the population mean number of ads watched by viewers during a TV program falls between 3.437 and 4.563."
   ]
  },
  {
   "cell_type": "code",
   "execution_count": null,
   "id": "39c22303",
   "metadata": {},
   "outputs": [],
   "source": []
  },
  {
   "cell_type": "code",
   "execution_count": null,
   "id": "72e912cc",
   "metadata": {},
   "outputs": [],
   "source": []
  }
 ],
 "metadata": {
  "kernelspec": {
   "display_name": "Python 3 (ipykernel)",
   "language": "python",
   "name": "python3"
  },
  "language_info": {
   "codemirror_mode": {
    "name": "ipython",
    "version": 3
   },
   "file_extension": ".py",
   "mimetype": "text/x-python",
   "name": "python",
   "nbconvert_exporter": "python",
   "pygments_lexer": "ipython3",
   "version": "3.9.13"
  }
 },
 "nbformat": 4,
 "nbformat_minor": 5
}
