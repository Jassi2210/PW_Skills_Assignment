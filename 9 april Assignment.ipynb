{
 "cells": [
  {
   "cell_type": "markdown",
   "id": "7a751932",
   "metadata": {},
   "source": [
    "Q1. What is Bayes' theorem?\n",
    "\n",
    "Ans1-  Bayes' theorem is a fundamental concept in probability theory and statistics that describes the relationship between conditional probabilities. It is named after the 18th-century British mathematician and philosopher Thomas Bayes and is used in various fields, including machine learning, data science, and artificial intelligence."
   ]
  },
  {
   "cell_type": "code",
   "execution_count": null,
   "id": "53543dfd",
   "metadata": {},
   "outputs": [],
   "source": []
  },
  {
   "cell_type": "markdown",
   "id": "7d6ea19a",
   "metadata": {},
   "source": [
    "Q2. What is the formula for Bayes' theorem?\n",
    "\n",
    "Ans2-  Bayes' theorem can be expressed mathematically as follows:\n",
    "\n",
    "P(A|B) = P(B|A) * P(A) / P(B)\n",
    "\n",
    "where:\n",
    "\n",
    "* P(A|B) is the probability of event A given that event B has occurred (posterior probability)\n",
    "* P(B|A) is the probability of event B given that event A has occurred (likelihood)\n",
    "* P(A) is the prior probability of event A (the probability of A before taking into account the new evidence B)\n",
    "* P(B) is the prior probability of event B (the probability of B before taking into account the new evidence A)"
   ]
  },
  {
   "cell_type": "code",
   "execution_count": null,
   "id": "4a2d6ed8",
   "metadata": {},
   "outputs": [],
   "source": []
  },
  {
   "cell_type": "markdown",
   "id": "04309b8a",
   "metadata": {},
   "source": [
    "Q3. How is Bayes' theorem used in practice?\n",
    "\n",
    "Ans3- Bayes' theorem is used in practice for a wide range of applications, including spam filtering, document classification, medical diagnosis, and image recognition. In machine learning, it is used to estimate the probability of a hypothesis given the available evidence. This is particularly useful in classification problems, where the goal is to assign a given input to one of several predefined classes based on the available features."
   ]
  },
  {
   "cell_type": "code",
   "execution_count": null,
   "id": "3235bbf6",
   "metadata": {},
   "outputs": [],
   "source": []
  },
  {
   "cell_type": "markdown",
   "id": "f31907f5",
   "metadata": {},
   "source": [
    "Q4. What is the relationship between Bayes' theorem and conditional probability?\n",
    "\n",
    "Ans4- Bayes' theorem is closely related to conditional probability, which is the probability of an event A given that another event B has occurred. Bayes' theorem provides a way to compute the conditional probability of A given B in terms of the conditional probability of B given A and the prior probabilities of A and B. It can be seen as a way to update the prior probability of A based on the new evidence B."
   ]
  },
  {
   "cell_type": "code",
   "execution_count": null,
   "id": "d2a9d5a2",
   "metadata": {},
   "outputs": [],
   "source": []
  },
  {
   "cell_type": "markdown",
   "id": "cfb0783b",
   "metadata": {},
   "source": [
    "Q5. How do you choose which type of Naive Bayes classifier to use for any given problem?\n",
    "\n",
    "Ans5- The choice of which type of Naive Bayes classifier to use for a given problem depends on the characteristics of the data and the assumptions that can be made about the distribution of the features. The three main types of Naive Bayes classifiers are Gaussian Naive Bayes, Multinomial Naive Bayes, and Bernoulli Naive Bayes. Gaussian Naive Bayes is used when the features are continuous and normally distributed, while Multinomial Naive Bayes is used when the features are discrete and have a multinomial distribution. Bernoulli Naive Bayes is used when the features are binary or Boolean. In practice, it is often useful to try all three types of classifiers and compare their performance on the specific problem.\n",
    "\n",
    "\n",
    "\n"
   ]
  },
  {
   "cell_type": "code",
   "execution_count": null,
   "id": "158dcba6",
   "metadata": {},
   "outputs": [],
   "source": []
  },
  {
   "cell_type": "markdown",
   "id": "a859a0e4",
   "metadata": {},
   "source": [
    "Q6.You have a dataset with two features, X1 and X2, and two possible classes, A and B. You want to use Naive\n",
    "Bayes to classify a new instance with features X1 = 3 and X2 = 4. The following table shows the frequency of\n",
    "each feature value for each class:\n",
    "Class X1=1 X1=2 X1=3 X2=1 X2=2 X2=3 X2=4\n",
    "A      3     3    4     4    3   3    3\n",
    "B      2     2    1     2    2   2    3\n",
    "Assuming equal prior probabilities for each class, which class would Naive Bayes predict the new instance\n",
    "to belong to?\n",
    "\n",
    "Ans6- To use Naive Bayes to classify the new instance with features X1 = 3 and X2 = 4, we need to calculate the posterior probabilities of the instance belonging to each class A and B. We can do this using Bayes' theorem:\n",
    "\n",
    "P(A|X1=3,X2=4) = P(X1=3,X2=4|A) * P(A) / P(X1=3,X2=4)\n",
    "P(B|X1=3,X2=4) = P(X1=3,X2=4|B) * P(B) / P(X1=3,X2=4)\n",
    "\n",
    "Assuming equal prior probabilities for each class, P(A) = P(B) = 0.5.\n",
    "\n",
    "To calculate the likelihood terms P(X1=3,X2=4|A) and P(X1=3,X2=4|B), we can use the frequency table:\n",
    "\n",
    "P(X1=3,X2=4|A) = 4/13 * 3/13 = 12/169\n",
    "P(X1=3,X2=4|B) = 1/8 * 3/8 = 3/64\n",
    "\n",
    "To calculate the evidence term P(X1=3,X2=4), we can use the law of total probability:\n",
    "\n",
    "P(X1=3,X2=4) = P(X1=3,X2=4|A) * P(A) + P(X1=3,X2=4|B) * P(B)\n",
    "= 12/169 * 0.5 + 3/64 * 0.5\n",
    "= 0.048\n",
    "\n",
    "Plugging these values into the Bayes' theorem formula, we get:\n",
    "\n",
    "P(A|X1=3,X2=4) = 12/169 * 0.5 / 0.048 = 0.649\n",
    "P(B|X1=3,X2=4) = 3/64 * 0.5 / 0.048 = 0.351\n",
    "\n",
    "Therefore, Naive Bayes would predict the new instance to belong to class A, as it has a higher posterior probability."
   ]
  },
  {
   "cell_type": "code",
   "execution_count": null,
   "id": "5d694648",
   "metadata": {},
   "outputs": [],
   "source": []
  },
  {
   "cell_type": "code",
   "execution_count": null,
   "id": "b5d6f3bf",
   "metadata": {},
   "outputs": [],
   "source": []
  }
 ],
 "metadata": {
  "kernelspec": {
   "display_name": "Python 3 (ipykernel)",
   "language": "python",
   "name": "python3"
  },
  "language_info": {
   "codemirror_mode": {
    "name": "ipython",
    "version": 3
   },
   "file_extension": ".py",
   "mimetype": "text/x-python",
   "name": "python",
   "nbconvert_exporter": "python",
   "pygments_lexer": "ipython3",
   "version": "3.9.13"
  }
 },
 "nbformat": 4,
 "nbformat_minor": 5
}
