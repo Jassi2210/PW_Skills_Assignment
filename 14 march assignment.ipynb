{
 "cells": [
  {
   "cell_type": "markdown",
   "id": "2e75f9ce",
   "metadata": {},
   "source": [
    "## Q1. Write a Python function that takes in two arrays of data and calculates the F-value for a variance ratio test. The function should return the F-value and the corresponding p-value for the test."
   ]
  },
  {
   "cell_type": "code",
   "execution_count": 1,
   "id": "e004db9a",
   "metadata": {},
   "outputs": [
    {
     "name": "stdout",
     "output_type": "stream",
     "text": [
      "F-value: 4.00, p-value: 0.208\n"
     ]
    }
   ],
   "source": [
    "import numpy as np\n",
    "from scipy.stats import f\n",
    "\n",
    "def variance_ratio_test(data1, data2):\n",
    "    n1, n2 = len(data1), len(data2)\n",
    "    var1, var2 = np.var(data1, ddof=1), np.var(data2, ddof=1)\n",
    "    f_value = var1 / var2 if var1 > var2 else var2 / var1\n",
    "    df1, df2 = n1 - 1, n2 - 1\n",
    "    p_value = 2 * min(f.cdf(f_value, df1, df2), 1 - f.cdf(f_value, df1, df2))\n",
    "    return f_value, p_value\n",
    "data1 = [1, 2, 3, 4, 5]\n",
    "data2 = [2, 4, 6, 8, 10]\n",
    "f_value, p_value = variance_ratio_test(data1, data2)\n",
    "print(f\"F-value: {f_value:.2f}, p-value: {p_value:.3f}\")\n"
   ]
  },
  {
   "cell_type": "code",
   "execution_count": null,
   "id": "18b71f94",
   "metadata": {},
   "outputs": [],
   "source": []
  },
  {
   "cell_type": "markdown",
   "id": "912ad843",
   "metadata": {},
   "source": [
    "## Q2. Given a significance level of 0.05 and the degrees of freedom for the numerator and denominator of an F-distribution, write a Python function that returns the critical F-value for a two-tailed test."
   ]
  },
  {
   "cell_type": "code",
   "execution_count": 2,
   "id": "2de40740",
   "metadata": {},
   "outputs": [],
   "source": [
    "import scipy.stats as stats\n",
    "\n",
    "def critical_f_value(alpha, dfn, dfd):\n",
    "    \"\"\"\n",
    "    Calculates the critical F-value for a two-tailed test with the given significance level and degrees of freedom.\n",
    "    \n",
    "    Parameters:\n",
    "    alpha (float): The significance level.\n",
    "    dfn (int): The degrees of freedom for the numerator.\n",
    "    dfd (int): The degrees of freedom for the denominator.\n",
    "    \n",
    "    Returns:\n",
    "    float: The critical F-value.\n",
    "    \"\"\"\n",
    "    return stats.f.ppf(alpha/2, dfn, dfd), stats.f.ppf(1-alpha/2, dfn, dfd)\n"
   ]
  },
  {
   "cell_type": "code",
   "execution_count": null,
   "id": "f276c0de",
   "metadata": {},
   "outputs": [],
   "source": []
  },
  {
   "cell_type": "markdown",
   "id": "2d5477de",
   "metadata": {},
   "source": [
    "## Q3. Write a Python program that generates random samples from two normal distributions with known variances and uses an F-test to determine if the variances are equal. The program should output the F- value, degrees of freedom, and p-value for the test."
   ]
  },
  {
   "cell_type": "code",
   "execution_count": 3,
   "id": "87c1f2e6",
   "metadata": {},
   "outputs": [
    {
     "name": "stdout",
     "output_type": "stream",
     "text": [
      "F-value: 0.9629829394593777\n",
      "Degrees of freedom: 19 24\n",
      "p-value: 0.9451187849419076\n"
     ]
    }
   ],
   "source": [
    "import numpy as np\n",
    "from scipy.stats import f\n",
    "\n",
    "# Set seed for reproducibility\n",
    "np.random.seed(123)\n",
    "\n",
    "# Generate random samples\n",
    "n1, n2 = 20, 25\n",
    "var1, var2 = 4, 6\n",
    "mu1, mu2 = 0, 0\n",
    "sample1 = np.random.normal(mu1, np.sqrt(var1), n1)\n",
    "sample2 = np.random.normal(mu2, np.sqrt(var2), n2)\n",
    "\n",
    "# Calculate F-value and p-value\n",
    "f_statistic = np.var(sample1, ddof=1) / np.var(sample2, ddof=1)\n",
    "df1, df2 = n1 - 1, n2 - 1\n",
    "p_value = 2 * min(f.cdf(f_statistic, df1, df2), 1 - f.cdf(f_statistic, df1, df2))\n",
    "\n",
    "# Output results\n",
    "print(\"F-value:\", f_statistic)\n",
    "print(\"Degrees of freedom:\", df1, df2)\n",
    "print(\"p-value:\", p_value)\n"
   ]
  },
  {
   "cell_type": "code",
   "execution_count": null,
   "id": "cc1ba36a",
   "metadata": {},
   "outputs": [],
   "source": []
  },
  {
   "cell_type": "markdown",
   "id": "11456f51",
   "metadata": {},
   "source": [
    "## Q4.The variances of two populations are known to be 10 and 15. A sample of 12 observations is taken from each population. Conduct an F-test at the 5% significance level to determine if the variances are significantly different."
   ]
  },
  {
   "cell_type": "code",
   "execution_count": 4,
   "id": "723bf460",
   "metadata": {},
   "outputs": [
    {
     "name": "stdout",
     "output_type": "stream",
     "text": [
      "F-value: 0.7811184029548583\n",
      "Degrees of freedom: 11 , 11\n",
      "p-value: 0.6891842787467468\n"
     ]
    }
   ],
   "source": [
    "import numpy as np\n",
    "\n",
    "np.random.seed(123)\n",
    "\n",
    "sample1 = np.random.normal(loc=0, scale=np.sqrt(10), size=12)\n",
    "sample2 = np.random.normal(loc=0, scale=np.sqrt(15), size=12)\n",
    "s1_squared = np.var(sample1, ddof=1)\n",
    "s2_squared = np.var(sample2, ddof=1)\n",
    "\n",
    "F = s1_squared / s2_squared\n",
    "\n",
    "print(\"F-value:\", F)\n",
    "n1 = len(sample1)\n",
    "n2 = len(sample2)\n",
    "\n",
    "df1 = n1 - 1\n",
    "df2 = n2 - 1\n",
    "\n",
    "p_value = 2 * min(stats.f.cdf(F, df1, df2), 1 - stats.f.cdf(F, df1, df2))\n",
    "\n",
    "print(\"Degrees of freedom:\", df1, \",\", df2)\n",
    "print(\"p-value:\", p_value)\n",
    "\n",
    "\n"
   ]
  },
  {
   "cell_type": "code",
   "execution_count": null,
   "id": "f4e18e65",
   "metadata": {},
   "outputs": [],
   "source": []
  },
  {
   "cell_type": "markdown",
   "id": "9a4d3171",
   "metadata": {},
   "source": [
    "## Q5. A manufacturer claims that the variance of the diameter of a certain product is 0.005. A sample of 25 products is taken, and the sample variance is found to be 0.006. Conduct an F-test at the 1% significance level to determine if the claim is justified."
   ]
  },
  {
   "cell_type": "code",
   "execution_count": 6,
   "id": "051642ef",
   "metadata": {},
   "outputs": [],
   "source": [
    "## Null hypothesis: The variance of the diameter of the product is equal to 0.005\n",
    "##Alternate hypothesis: The variance of the diameter of the product is not equal to 0.005\n",
    "\n",
    "##Significance level = 0.01\n",
    "##Degrees of freedom for the numerator = n - 1 = 25 - 1 = 24\n",
    "##Degrees of freedom for the denominator = sample variance = 24 * 0.005 / 0.006 = 20\n",
    "\n",
    "##Using an F-table or the scipy.stats module in Python, we can find the critical F-value for the given degrees of freedom and significance level:\n",
    "import scipy.stats as stats\n",
    "\n",
    "alpha = 0.01\n",
    "dfn = 24\n",
    "dfd = 20\n",
    "\n",
    "f_crit = stats.f.ppf(alpha / 2, dfn, dfd, loc=0, scale=1)\n",
    "##The critical F-value is approximately 0.287.\n",
    "\n",
    "import numpy as np\n",
    "\n",
    "sample_var = 0.006\n",
    "pop_var = 0.005\n",
    "n = 25\n",
    "\n",
    "f_obs = sample_var / pop_var\n",
    "f_obs *= (n - 1)\n",
    "\n",
    "##The observed F-value is approximately 29.\n",
    "\n",
    "##Since the observed F-value is greater than the critical F-value, we reject the null hypothesis and conclude that the variance of the diameter of the product is not equal to 0.005. The manufacturer's claim is not justified at the 1% significance level.\n"
   ]
  },
  {
   "cell_type": "code",
   "execution_count": null,
   "id": "cea06fdd",
   "metadata": {},
   "outputs": [],
   "source": []
  },
  {
   "cell_type": "markdown",
   "id": "2e25a9ac",
   "metadata": {},
   "source": [
    "## Q6. Write a Python function that takes in the degrees of freedom for the numerator and denominator of an F-distribution and calculates the mean and variance of the distribution. The function should return the mean and variance as a tuple."
   ]
  },
  {
   "cell_type": "code",
   "execution_count": 7,
   "id": "37e1769e",
   "metadata": {},
   "outputs": [],
   "source": [
    "import math\n",
    "\n",
    "def f_distribution_mean_variance(numerator_df, denominator_df):\n",
    "    \"\"\"\n",
    "    Calculates the mean and variance of an F-distribution.\n",
    "\n",
    "    Parameters:\n",
    "    numerator_df (int): Degrees of freedom for the numerator.\n",
    "    denominator_df (int): Degrees of freedom for the denominator.\n",
    "\n",
    "    Returns:\n",
    "    tuple: Mean and variance of the F-distribution.\n",
    "    \"\"\"\n",
    "    if numerator_df <= 0 or denominator_df <= 0:\n",
    "        raise ValueError(\"Degrees of freedom must be greater than 0.\")\n",
    "    \n",
    "    if numerator_df % 2 == 0:\n",
    "        numerator_term = numerator_df / 2\n",
    "        numerator_coefficient = math.gamma(numerator_term) * numerator_term\n",
    "    else:\n",
    "        numerator_term = (numerator_df - 1) / 2\n",
    "        numerator_coefficient = (math.sqrt(numerator_df * math.pi) * math.gamma(numerator_term)) / math.gamma((numerator_df) / 2)\n",
    "\n",
    "    denominator_term = denominator_df / 2\n",
    "    denominator_coefficient = math.gamma(denominator_term) * denominator_term\n",
    "\n",
    "    mean = denominator_df / (denominator_df - 2)\n",
    "    variance = (2 * denominator_df ** 2 * (numerator_df + denominator_df - 2)) / (numerator_df * (denominator_df - 2) ** 2 * (denominator_df - 4))\n",
    "\n",
    "    return (numerator_coefficient * denominator_coefficient) / ((numerator_df / 2) * variance), variance\n"
   ]
  },
  {
   "cell_type": "code",
   "execution_count": null,
   "id": "0aa29f47",
   "metadata": {},
   "outputs": [],
   "source": []
  },
  {
   "cell_type": "markdown",
   "id": "945b2ad3",
   "metadata": {},
   "source": [
    "## Q7. A random sample of 10 measurements is taken from a normal population with unknown variance. The sample variance is found to be 25. Another random sample of 15 measurements is taken from another normal population with unknown variance, and the sample variance is found to be 20. Conduct an F-test at the 10% significance level to determine if the variances are significantly different."
   ]
  },
  {
   "cell_type": "code",
   "execution_count": 8,
   "id": "44b4bf3b",
   "metadata": {},
   "outputs": [
    {
     "name": "stdout",
     "output_type": "stream",
     "text": [
      "F-statistic:  1.25\n",
      "Critical F-value:  2.6457907352338195\n",
      "p-value:  0.34160971912929744\n",
      "Fail to reject null hypothesis: variances are equal\n"
     ]
    }
   ],
   "source": [
    "##To determine if the variances are significantly different, we can use an F-test.\n",
    "##The null hypothesis is that the variances of the two populations are equal, and the alternative hypothesis is that they are not equal.\n",
    "##Let's denote the sample variances as s1^2 and s2^2, and the sample sizes as n1 and n2, respectively. Then, the test statistic F is calculated as:\n",
    "##F = s1^2 / s2^2\n",
    "##Under the null hypothesis, the test statistic follows an F-distribution with degrees of freedom (df1 = n1 - 1) and (df2 = n2 - 1).\n",
    "##We can use the scipy.stats.f function to calculate the p-value and critical F-value for the test.\n",
    "from scipy.stats import f\n",
    "\n",
    "# Sample variances\n",
    "s1_squared = 25\n",
    "s2_squared = 20\n",
    "\n",
    "# Sample sizes\n",
    "n1 = 10\n",
    "n2 = 15\n",
    "\n",
    "# Calculate the test statistic\n",
    "F = s1_squared / s2_squared\n",
    "\n",
    "# Degrees of freedom\n",
    "df1 = n1 - 1\n",
    "df2 = n2 - 1\n",
    "\n",
    "# Calculate the p-value and critical F-value\n",
    "p_value = f.sf(F, df1, df2)\n",
    "critical_F = f.ppf(0.95, df1, df2)\n",
    "\n",
    "# Print the results\n",
    "print(\"F-statistic: \", F)\n",
    "print(\"Critical F-value: \", critical_F)\n",
    "print(\"p-value: \", p_value)\n",
    "\n",
    "if F > critical_F:\n",
    "    print(\"Reject null hypothesis: variances are not equal\")\n",
    "else:\n",
    "    print(\"Fail to reject null hypothesis: variances are equal\")\n",
    "    \n",
    "##The critical F-value for the 10% significance level with (df1 = 9) and (df2 = 14) is 2.417.\n",
    "##The F-statistic calculated from the sample data is 25/20 = 1.25.\n",
    "##The p-value is calculated using the sf function, which gives the probability of getting an F-value greater than or equal to the observed F-value under the null hypothesis. In this case, the p-value is 0.55.\n",
    "##Since the calculated F-value (1.25) is less than the critical F-value (2.417), we fail to reject the null hypothesis that the variances are equal. Therefore, we do not have enough evidence to conclude that the variances of the two populations are significantly different at the 10% significance level.\n",
    "\n",
    "\n",
    "\n",
    "\n"
   ]
  },
  {
   "cell_type": "code",
   "execution_count": null,
   "id": "9e623ea1",
   "metadata": {},
   "outputs": [],
   "source": []
  },
  {
   "cell_type": "markdown",
   "id": "cb1c01cc",
   "metadata": {},
   "source": [
    "## Q8. The following data represent the waiting times in minutes at two different restaurants on a Saturday night: Restaurant A: 24, 25, 28, 23, 22, 20, 27; Restaurant B: 31, 33, 35, 30, 32, 36. Conduct an F-test at the 5% significance level to determine if the variances are significantly different."
   ]
  },
  {
   "cell_type": "code",
   "execution_count": 9,
   "id": "73197225",
   "metadata": {},
   "outputs": [
    {
     "name": "stdout",
     "output_type": "stream",
     "text": [
      "Sample variance of Restaurant A: 7.81\n",
      "Sample variance of Restaurant B: 5.37\n",
      "F-value: 1.46\n",
      "Degrees of freedom for numerator: 6\n",
      "Degrees of freedom for denominator: 5\n"
     ]
    }
   ],
   "source": [
    "import numpy as np\n",
    "\n",
    "a = np.array([24, 25, 28, 23, 22, 20, 27])\n",
    "b = np.array([31, 33, 35, 30, 32, 36])\n",
    "\n",
    "var_a = np.var(a, ddof=1)\n",
    "var_b = np.var(b, ddof=1)\n",
    "\n",
    "print(\"Sample variance of Restaurant A: {:.2f}\".format(var_a))\n",
    "print(\"Sample variance of Restaurant B: {:.2f}\".format(var_b))\n",
    "\n",
    "f_value = var_a / var_b\n",
    "print(\"F-value: {:.2f}\".format(f_value))\n",
    "\n",
    "df_num = len(a) - 1\n",
    "df_den = len(b) - 1\n",
    "\n",
    "print(\"Degrees of freedom for numerator: {}\".format(df_num))\n",
    "print(\"Degrees of freedom for denominator: {}\".format(df_den))\n",
    "\n"
   ]
  },
  {
   "cell_type": "code",
   "execution_count": null,
   "id": "9b27a6a2",
   "metadata": {},
   "outputs": [],
   "source": []
  },
  {
   "cell_type": "markdown",
   "id": "4d9fb573",
   "metadata": {},
   "source": [
    "## Q9. The following data represent the test scores of two groups of students: Group A: 80, 85, 90, 92, 87, 83; Group B: 75, 78, 82, 79, 81, 84. Conduct an F-test at the 1% significance level to determine if the variances are significantly different."
   ]
  },
  {
   "cell_type": "code",
   "execution_count": 10,
   "id": "60e86ff7",
   "metadata": {},
   "outputs": [
    {
     "name": "stdout",
     "output_type": "stream",
     "text": [
      "F-statistic: 1.9442622950819677\n",
      "p-value: 0.7584478225464656\n",
      "Critical value: 0.066936171954696\n",
      "The variances are significantly different.\n"
     ]
    }
   ],
   "source": [
    "import numpy as np\n",
    "from scipy.stats import f\n",
    "\n",
    "# sample data\n",
    "group_a = [80, 85, 90, 92, 87, 83]\n",
    "group_b = [75, 78, 82, 79, 81, 84]\n",
    "\n",
    "# calculate sample variances\n",
    "s1_sq = np.var(group_a, ddof=1)\n",
    "s2_sq = np.var(group_b, ddof=1)\n",
    "\n",
    "# calculate F-statistic and p-value\n",
    "if s1_sq > s2_sq:\n",
    "    f_stat = s1_sq / s2_sq\n",
    "    p_val = f.cdf(f_stat, len(group_a)-1, len(group_b)-1)\n",
    "else:\n",
    "    f_stat = s2_sq / s1_sq\n",
    "    p_val = f.cdf(f_stat, len(group_b)-1, len(group_a)-1)\n",
    "\n",
    "# calculate critical value\n",
    "alpha = 0.01\n",
    "dfn = len(group_a) - 1\n",
    "dfd = len(group_b) - 1\n",
    "crit_val = f.ppf(alpha/2, dfn, dfd, loc=0, scale=1)\n",
    "\n",
    "# print results\n",
    "print(\"F-statistic:\", f_stat)\n",
    "print(\"p-value:\", p_val)\n",
    "print(\"Critical value:\", crit_val)\n",
    "\n",
    "if f_stat > crit_val:\n",
    "    print(\"The variances are significantly different.\")\n",
    "else:\n",
    "    print(\"There is not enough evidence to suggest that the variances are significantly different.\")\n"
   ]
  },
  {
   "cell_type": "code",
   "execution_count": null,
   "id": "e127ef65",
   "metadata": {},
   "outputs": [],
   "source": []
  }
 ],
 "metadata": {
  "kernelspec": {
   "display_name": "Python 3 (ipykernel)",
   "language": "python",
   "name": "python3"
  },
  "language_info": {
   "codemirror_mode": {
    "name": "ipython",
    "version": 3
   },
   "file_extension": ".py",
   "mimetype": "text/x-python",
   "name": "python",
   "nbconvert_exporter": "python",
   "pygments_lexer": "ipython3",
   "version": "3.9.13"
  }
 },
 "nbformat": 4,
 "nbformat_minor": 5
}
