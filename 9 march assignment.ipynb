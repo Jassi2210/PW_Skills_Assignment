{
 "cells": [
  {
   "cell_type": "markdown",
   "id": "39b51d04",
   "metadata": {},
   "source": [
    "## Q1: What are the Probability Mass Function (PMF) and Probability Density Function (PDF)? Explain with an example.\n",
    "## Ans1- Probability Mass Function (PMF) and Probability Density Function (PDF) are mathematical functions that describe the probability distribution of a random variable.\n",
    "\n",
    "## A Probability Mass Function (PMF) is used for discrete random variables and gives the probability that a random variable takes on a specific value. It is calculated by dividing the number of favorable outcomes by the total number of possible outcomes. For example, consider a six-sided die. The PMF of rolling a 1 is 1/6, as there is only one favorable outcome out of six possible outcomes.\n",
    "\n",
    "## On the other hand, Probability Density Function (PDF) is used for continuous random variables and gives the probability density at a specific point. It is the area under the curve of the function between two points on the x-axis. For example, consider the height of adult males in a population. The PDF of the height of adult males may follow a normal distribution, with the peak of the curve at the mean height, and the probability density at any specific height is the area under the curve between two values on the x-axis."
   ]
  },
  {
   "cell_type": "code",
   "execution_count": null,
   "id": "1693f3bc",
   "metadata": {},
   "outputs": [],
   "source": []
  },
  {
   "cell_type": "markdown",
   "id": "807dcff2",
   "metadata": {},
   "source": [
    "## Q2: What is Cumulative Density Function (CDF)? Explain with an example. Why CDF is used?\n",
    "## Ans2- \n",
    "## Cumulative Density Function (CDF) is a function used to describe the probability distribution of a random variable X. It gives the probability that X will be less than or equal to a certain value x. CDF is defined for both continuous and discrete random variables.\n",
    "\n",
    "## For a discrete random variable, the CDF is the sum of probabilities of all values less than or equal to x. The formula for CDF of a discrete random variable is given as:\n",
    "\n",
    "## F(x) = P(X ≤ x) = ∑ P(X = xi)\n",
    "\n",
    "## where xi is the value of the random variable X and P(X = xi) is the probability of that value.\n",
    "\n",
    "## For a continuous random variable, the CDF is the integral of the probability density function (PDF) over the range from negative infinity to x. The formula for CDF of a continuous random variable is given as:\n",
    "\n",
    "## F(x) = P(X ≤ x) = ∫ f(t)dt from -∞ to x\n",
    "\n",
    "## where f(t) is the probability density function.\n",
    "\n",
    "## CDF is used to calculate the probability of a random variable taking a value less than or equal to a certain value. It is a useful tool in statistical analysis for hypothesis testing, confidence intervals, and decision making.\n",
    "\n",
    "## For example, let's consider the random variable X which represents the number of heads obtained when a fair coin is tossed three times. The possible values of X are 0, 1, 2, and 3. The probability mass function (PMF) of X is given as:\n",
    "\n",
    "## P(X = 0) = 1/8\n",
    "## P(X = 1) = 3/8\n",
    "## P(X = 2) = 3/8\n",
    "## P(X = 3) = 1/8\n",
    "\n",
    "## The CDF of X is calculated as:\n",
    "\n",
    "## F(x) = P(X ≤ x) = ∑ P(X = xi) from i=0 to x\n",
    "\n",
    "## For example, if we want to find the probability of getting at most 2 heads, we can calculate:\n",
    "\n",
    "## F(2) = P(X ≤ 2) = P(X = 0) + P(X = 1) + P(X = 2)\n",
    "## = 1/8 + 3/8 + 3/8\n",
    "## = 7/8\n",
    "\n",
    "## Therefore, the probability of getting at most 2 heads is 7/8.\n",
    "\n",
    "\n",
    "\n"
   ]
  },
  {
   "cell_type": "code",
   "execution_count": null,
   "id": "fe07e829",
   "metadata": {},
   "outputs": [],
   "source": []
  },
  {
   "cell_type": "markdown",
   "id": "d48f8217",
   "metadata": {},
   "source": [
    "## Q3: What are some examples of situations where the normal distribution might be used as a model? Explain how the parameters of the normal distribution relate to the shape of the distribution.\n",
    "## Ans3- The normal distribution is commonly used as a model in various fields such as finance, economics, psychology, engineering, and natural sciences. Some examples of situations where the normal distribution might be used as a model are:\n",
    "\n",
    "## 1.Heights and weights of individuals in a population: The normal distribution can be used to model the distribution of heights and weights of individuals in a population.\n",
    "\n",
    "## 2.Test scores: The normal distribution can be used to model the distribution of test scores, where the mean represents the average score and the standard deviation represents the spread of the scores.\n",
    "\n",
    "## 3.Errors in measurements: The normal distribution can be used to model the distribution of errors in measurements, where the mean represents the expected value of the error and the standard deviation represents the variability of the error.\n",
    "\n",
    "## The normal distribution is characterized by two parameters, the mean (μ) and the standard deviation (σ). The mean represents the center of the distribution and determines where the peak of the distribution is located. The standard deviation represents the spread or variability of the distribution, with smaller values indicating a more narrow and taller distribution, and larger values indicating a wider and flatter distribution. The shape of the normal distribution is symmetric and bell-shaped, with the majority of the data falling within ±1 or ±2 standard deviations of the mean."
   ]
  },
  {
   "cell_type": "code",
   "execution_count": null,
   "id": "3b1c8183",
   "metadata": {},
   "outputs": [],
   "source": []
  },
  {
   "cell_type": "markdown",
   "id": "4492e89c",
   "metadata": {},
   "source": [
    "## Q4: Explain the importance of Normal Distribution. Give a few real-life examples of Normal Distribution.\n",
    "## Ans4- The normal distribution is one of the most important probability distributions in statistics. It is a continuous probability distribution that describes a wide range of natural phenomena, such as the distribution of heights or weights of people in a population, the distribution of test scores, and many other phenomena. The normal distribution is important because it is easy to work with mathematically, and many statistical tests and models assume that the data follows a normal distribution.\n",
    "\n",
    "## Here are some real-life examples where normal distribution is applicable:\n",
    "\n",
    "## 1.Heights of a population: In a given population, the heights of individuals often follow a normal distribution. The mean and standard deviation of the height of the population can be used to determine the percentage of people within a certain height range.\n",
    "\n",
    "## 2.Test scores: When large numbers of people take a test, the distribution of scores often follows a normal distribution. This allows for easy interpretation of the scores, such as determining the percentage of people who scored above a certain threshold.\n",
    "\n",
    "## 3.IQ scores: IQ scores are standardized test scores that are designed to follow a normal distribution, with a mean of 100 and a standard deviation of 15. This allows for easy interpretation of scores and comparisons across populations.\n",
    "\n",
    "## 4.Errors in measurement: In many scientific experiments and engineering applications, there is a certain amount of error in the measurements. The errors often follow a normal distribution, which allows for easy estimation of the true value being measured."
   ]
  },
  {
   "cell_type": "code",
   "execution_count": null,
   "id": "b4117ea9",
   "metadata": {},
   "outputs": [],
   "source": []
  },
  {
   "cell_type": "markdown",
   "id": "ec004cb0",
   "metadata": {},
   "source": [
    "## Q5: What is Bernaulli Distribution? Give an Example. What is the difference between Bernoulli Distribution and Binomial Distribution?\n",
    "## Ans5- Bernoulli distribution is a probability distribution that describes the outcomes of a binary experiment (an experiment with two possible outcomes, often called success and failure) with a fixed probability of success. The probability of success is denoted by p, and the probability of failure by q=1-p.\n",
    "\n",
    "## For example, tossing a coin can be considered a Bernoulli distribution, where the outcome of heads can be considered a success with probability p=0.5, and the outcome of tails can be considered a failure with probability q=0.5.\n",
    "\n",
    "## The main difference between Bernoulli distribution and Binomial distribution is that the Bernoulli distribution is used to model the outcome of a single trial or experiment, while the Binomial distribution is used to model the number of successes in a fixed number of independent Bernoulli trials. In other words, Bernoulli distribution is a special case of the Binomial distribution where n=1.\n",
    "\n",
    "## For example, flipping a coin 10 times and counting the number of heads would follow a Binomial distribution with n=10 and p=0.5. Each individual coin flip can be modeled using the Bernoulli distribution."
   ]
  },
  {
   "cell_type": "code",
   "execution_count": null,
   "id": "bff2e58a",
   "metadata": {},
   "outputs": [],
   "source": []
  },
  {
   "cell_type": "markdown",
   "id": "398d4d1e",
   "metadata": {},
   "source": [
    "## Q6. Consider a dataset with a mean of 50 and a standard deviation of 10. If we assume that the dataset is normally distributed, what is the probability that a randomly selected observation will be greater than 60? Use the appropriate formula and show your calculations.\n",
    "## Ans6- To solve this problem, we can use the standard normal distribution formula and transform the given values to standard units:\n",
    "\n",
    "## z = (x - μ) / σ\n",
    "\n",
    "## where z is the standard score, x is the observation we want to find the probability for, μ is the mean, and σ is the standard deviation.\n",
    "\n",
    "## In this case, we have:\n",
    "\n",
    "## x = 60\n",
    "## μ = 50\n",
    "## σ = 10\n",
    "\n",
    "## z = (60 - 50) / 10 = 1\n",
    "\n",
    "## Now we can use a standard normal distribution table or calculator to find the probability of a standard score greater than 1. This is equivalent to finding the area under the standard normal curve to the right of z = 1.\n",
    "\n",
    "## Using a standard normal distribution table or calculator, we find that the probability of a standard score greater than 1 is approximately 0.1587.\n",
    "\n",
    "## Therefore, the probability that a randomly selected observation from the given dataset will be greater than 60 is approximately 0.1587 or 15.87%."
   ]
  },
  {
   "cell_type": "code",
   "execution_count": null,
   "id": "c2061675",
   "metadata": {},
   "outputs": [],
   "source": []
  },
  {
   "cell_type": "markdown",
   "id": "f27ebd54",
   "metadata": {},
   "source": [
    "## Q7: Explain uniform Distribution with an example.\n",
    "## Ans7- Uniform distribution is a probability distribution in which all the values in the interval between a minimum and a maximum value are equally likely to occur. It is also known as rectangular distribution. The probability density function of uniform distribution is constant between the minimum and maximum values and zero elsewhere.\n",
    "\n",
    "## For example, let's consider a scenario where a fair die is rolled. The possible outcomes are integers between 1 and 6, and each outcome is equally likely to occur. In this case, the probability distribution is uniform over the interval [1,6]. The probability density function is:\n",
    "\n",
    "## f(x) = 1/6, for 1 <= x <= 6\n",
    "## 0, otherwise\n",
    "\n",
    "## The graph of the probability density function is a flat line between x=1 and x=6 and zero elsewhere, representing the equal likelihood of each possible outcome."
   ]
  },
  {
   "cell_type": "code",
   "execution_count": null,
   "id": "16867653",
   "metadata": {},
   "outputs": [],
   "source": []
  },
  {
   "cell_type": "markdown",
   "id": "5407fce0",
   "metadata": {},
   "source": [
    "## Q8: What is the z score? State the importance of the z score.\n",
    "## Ans8- The z score, also known as the standard score, is a measure of how many standard deviations an observation or data point is above or below the mean of a population or sample. It is used to standardize values across different scales and distributions, allowing for comparisons to be made between different sets of data.\n",
    "\n",
    "## The formula for calculating the z score is:\n",
    "\n",
    "## z = (x - μ) / σ\n",
    "\n",
    "## Where x is the observation or data point, μ is the mean of the population or sample, and σ is the standard deviation of the population or sample.\n",
    "\n",
    "## The z score has several important applications in statistics and data analysis. It can be used to:\n",
    "\n",
    "## Calculate the probability of obtaining a certain value or range of values in a normal distribution.\n",
    "## Compare values across different distributions with different means and standard deviations.\n",
    "## Identify outliers or extreme values in a dataset.\n",
    "## Standardize data for use in regression analysis or other statistical models.\n",
    "## Overall, the z score is a useful tool for understanding the relative position of a data point within a distribution and for making comparisons across different sets of data."
   ]
  },
  {
   "cell_type": "code",
   "execution_count": null,
   "id": "6d03864d",
   "metadata": {},
   "outputs": [],
   "source": []
  },
  {
   "cell_type": "markdown",
   "id": "0b7ba8f4",
   "metadata": {},
   "source": [
    "## Q9: What is Central Limit Theorem? State the significance of the Central Limit Theorem.\n",
    "## Ans9- The Central Limit Theorem (CLT) is a statistical concept that states that given a large enough sample size from a population with a finite mean and variance, the sampling distribution of the mean of the sample approaches a normal distribution regardless of the shape of the original population distribution.\n",
    "\n",
    "## The significance of CLT is that it provides a basis for statistical inference, which is the process of drawing conclusions about a population based on a sample of data from that population. CLT allows us to make assumptions about the population mean and standard deviation based on the mean and standard deviation of the sample, which can then be used to estimate population parameters, make predictions, and test hypotheses. It also explains why the normal distribution is so commonly observed in nature and why it is used as a basis for many statistical methods.\n"
   ]
  },
  {
   "cell_type": "code",
   "execution_count": null,
   "id": "2936a49f",
   "metadata": {},
   "outputs": [],
   "source": []
  },
  {
   "cell_type": "markdown",
   "id": "157f845f",
   "metadata": {},
   "source": [
    "## Q10: State the assumptions of the Central Limit Theorem.\n",
    "## Ans10. The Central Limit Theorem has the following assumptions:\n",
    "\n",
    "## 1.Random Sampling: The samples should be selected randomly from the population.\n",
    "## 2.Independence: The observations in the sample should be independent of each other.\n",
    "## 3.Sample Size: The sample size should be large enough. There is no fixed number for the minimum sample size, but generally, a sample size of at least 30 is considered sufficient.\n",
    "## 4.Population Distribution: The population from which the sample is taken should have a finite variance. If the variance is infinite, then the Central Limit Theorem may not hold."
   ]
  },
  {
   "cell_type": "code",
   "execution_count": null,
   "id": "f0b06113",
   "metadata": {},
   "outputs": [],
   "source": []
  }
 ],
 "metadata": {
  "kernelspec": {
   "display_name": "Python 3 (ipykernel)",
   "language": "python",
   "name": "python3"
  },
  "language_info": {
   "codemirror_mode": {
    "name": "ipython",
    "version": 3
   },
   "file_extension": ".py",
   "mimetype": "text/x-python",
   "name": "python",
   "nbconvert_exporter": "python",
   "pygments_lexer": "ipython3",
   "version": "3.9.13"
  }
 },
 "nbformat": 4,
 "nbformat_minor": 5
}
