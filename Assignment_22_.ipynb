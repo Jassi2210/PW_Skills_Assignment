{
  "nbformat": 4,
  "nbformat_minor": 0,
  "metadata": {
    "colab": {
      "provenance": []
    },
    "kernelspec": {
      "name": "python3",
      "display_name": "Python 3"
    },
    "language_info": {
      "name": "python"
    }
  },
  "cells": [
    {
      "cell_type": "markdown",
      "source": [
        "Q1. Create a Pandas Series that contains the following data: 4, 8, 15, 16, 23, and 42. Then, print the series.\n",
        "\n",
        "\n",
        "\n"
      ],
      "metadata": {
        "id": "oNUJDqfSoCZG"
      }
    },
    {
      "cell_type": "code",
      "execution_count": 2,
      "metadata": {
        "colab": {
          "base_uri": "https://localhost:8080/"
        },
        "id": "m6Ou0BtTnWku",
        "outputId": "cff19bd6-7198-449a-edc6-7adffa2450ab"
      },
      "outputs": [
        {
          "output_type": "stream",
          "name": "stdout",
          "text": [
            "0     4\n",
            "1     8\n",
            "2    15\n",
            "3    16\n",
            "4    23\n",
            "5    42\n",
            "dtype: int64\n"
          ]
        }
      ],
      "source": [
        "import pandas as pd\n",
        "\n",
        "data = [4, 8, 15, 16, 23, 42]\n",
        "series = pd.Series(data)\n",
        "\n",
        "print(series)\n"
      ]
    },
    {
      "cell_type": "code",
      "source": [],
      "metadata": {
        "id": "HAqNXPBhrG6N"
      },
      "execution_count": null,
      "outputs": []
    },
    {
      "cell_type": "markdown",
      "source": [
        "Q2. Create a variable of list type containing 10 elements in it, and apply pandas.Series function on the\n",
        "variable print it."
      ],
      "metadata": {
        "id": "2hvNqJyloe7g"
      }
    },
    {
      "cell_type": "code",
      "source": [
        "import pandas as pd\n",
        "\n",
        "my_list = [1, 2, 3, 4, 5, 6, 7, 8, 9, 10]\n",
        "my_series = pd.Series(my_list)\n",
        "\n",
        "print(my_series)\n"
      ],
      "metadata": {
        "colab": {
          "base_uri": "https://localhost:8080/"
        },
        "id": "RukDxi-Vnyme",
        "outputId": "1b2c974a-a04b-43fa-cda9-842d3b299c59"
      },
      "execution_count": 3,
      "outputs": [
        {
          "output_type": "stream",
          "name": "stdout",
          "text": [
            "0     1\n",
            "1     2\n",
            "2     3\n",
            "3     4\n",
            "4     5\n",
            "5     6\n",
            "6     7\n",
            "7     8\n",
            "8     9\n",
            "9    10\n",
            "dtype: int64\n"
          ]
        }
      ]
    },
    {
      "cell_type": "code",
      "source": [],
      "metadata": {
        "id": "yRv8mZsbrFpv"
      },
      "execution_count": null,
      "outputs": []
    },
    {
      "cell_type": "markdown",
      "source": [
        "Q3. Create a Pandas DataFrame that contains the following data:\n",
        "\n",
        "\n",
        "data = {\n",
        "    'Name': ['Alice', 'Bob', 'Claire'],\n",
        "    'Age': [25, 30, 27 ],\n",
        "    'Gender': ['Male', 'Female', 'Male']\n",
        "}\n",
        "\n",
        "\n",
        "Then, print the DataFrame."
      ],
      "metadata": {
        "id": "XA9veG_CqBDh"
      }
    },
    {
      "cell_type": "code",
      "source": [
        "import pandas as pd\n",
        "\n",
        "data = { 'Name': ['Alice', 'Bob', 'Claire'], 'Age': [25, 30, 27 ], 'Gender': ['Male', 'Female', 'Male'] }\n",
        "\n",
        "df = pd.DataFrame(data)\n",
        "\n",
        "print(df)\n"
      ],
      "metadata": {
        "colab": {
          "base_uri": "https://localhost:8080/"
        },
        "id": "W_x2ObJRp1XC",
        "outputId": "4fbfddf9-8bea-4d29-cbf7-e3af13bcd66e"
      },
      "execution_count": 4,
      "outputs": [
        {
          "output_type": "stream",
          "name": "stdout",
          "text": [
            "     Name  Age  Gender\n",
            "0   Alice   25    Male\n",
            "1     Bob   30  Female\n",
            "2  Claire   27    Male\n"
          ]
        }
      ]
    },
    {
      "cell_type": "code",
      "source": [],
      "metadata": {
        "id": "gcTZSQZRq9jh"
      },
      "execution_count": null,
      "outputs": []
    },
    {
      "cell_type": "markdown",
      "source": [
        "Q4. What is ‘DataFrame’ in pandas and how is it different from pandas.series? Explain with an example.\n",
        "\n",
        "Ans4-- In Pandas, a DataFrame is a two-dimensional labeled data structure with columns of potentially different data types. It is the most commonly used data structure in Pandas, and it can be thought of as a table or spreadsheet-like data structure. A DataFrame can be created using various sources such as CSV, Excel, SQL databases, or by converting other data structures like a Python dictionary, list, or Pandas Series.\n",
        "\n",
        "A Pandas Series, on the other hand, is a one-dimensional labeled data structure that can hold any data type. It can be thought of as a single column in a DataFrame.\n",
        "\n",
        "The key difference between a Pandas DataFrame and Series is their dimensionality. While a Series has only one dimension (either rows or columns), a DataFrame has two dimensions (both rows and columns). In other words, a DataFrame can be thought of as a collection of Pandas Series, where each Series represents a column in the DataFrame."
      ],
      "metadata": {
        "id": "5gudIg1mrCye"
      }
    },
    {
      "cell_type": "code",
      "source": [
        "import pandas as pd\n",
        "\n",
        "# Create a Pandas Series\n",
        "s = pd.Series([1, 3, 5, 7, 9])\n",
        "\n",
        "# Create a Pandas DataFrame\n",
        "df = pd.DataFrame({\n",
        "    'Name': ['Alice', 'Bob', 'Charlie', 'David'],\n",
        "    'Age': [25, 32, 18, 47],\n",
        "    'City': ['New York', 'Paris', 'London', 'San Francisco']\n",
        "})\n",
        "\n",
        "# Print the Series and DataFrame\n",
        "print(s)\n",
        "print(df)\n"
      ],
      "metadata": {
        "colab": {
          "base_uri": "https://localhost:8080/"
        },
        "id": "QWbjbgJtq5Wi",
        "outputId": "51c22199-63ac-4739-febc-b1ad270e4ebc"
      },
      "execution_count": 5,
      "outputs": [
        {
          "output_type": "stream",
          "name": "stdout",
          "text": [
            "0    1\n",
            "1    3\n",
            "2    5\n",
            "3    7\n",
            "4    9\n",
            "dtype: int64\n",
            "      Name  Age           City\n",
            "0    Alice   25       New York\n",
            "1      Bob   32          Paris\n",
            "2  Charlie   18         London\n",
            "3    David   47  San Francisco\n"
          ]
        }
      ]
    },
    {
      "cell_type": "code",
      "source": [],
      "metadata": {
        "id": "wlAiRK9xreIb"
      },
      "execution_count": null,
      "outputs": []
    },
    {
      "cell_type": "markdown",
      "source": [
        "Q5. What are some common functions you can use to manipulate data in a Pandas DataFrame? Can\n",
        "you give an example of when you might use one of these functions?\n",
        "\n",
        "Ans5-- Pandas offers a variety of functions to manipulate data in a DataFrame. Here are some common functions that are frequently used:\n",
        "\n",
        "head() and tail(): These functions allow you to view the top and bottom rows of a DataFrame. By default, head() returns the first five rows of the DataFrame, while tail() returns the last five rows. For example, df.head() would return the first five rows of the DataFrame df.\n",
        "\n",
        "describe(): This function provides a summary of the statistical measures of the DataFrame, such as count, mean, standard deviation, minimum, maximum, and quartiles. For example, df.describe() would return the statistical summary of the DataFrame df.\n",
        "\n",
        "info(): This function provides information about the DataFrame, such as the number of non-null values, data types, and memory usage. For example, df.info() would return information about the DataFrame df.\n",
        "\n",
        "groupby(): This function allows you to group the data in the DataFrame based on one or more columns and apply a function to each group. For example, df.groupby('City').mean() would group the data in the DataFrame df by the 'City' column and calculate the mean of the other columns for each group.\n",
        "\n",
        "sort_values(): This function allows you to sort the rows of the DataFrame based on one or more columns. For example, df.sort_values('Age', ascending=False) would sort the rows of the DataFrame df in descending order based on the 'Age' column.\n",
        "\n",
        "drop(): This function allows you to remove one or more columns or rows from the DataFrame. For example, df.drop('City', axis=1) would remove the 'City' column from the DataFrame df.\n",
        "\n",
        "fillna(): This function allows you to fill the missing values in the DataFrame with a specified value or method, such as the mean or median. For example, df.fillna(method='ffill') would fill the missing values in the DataFrame df with the previous value in the same column.\n",
        "\n",
        "\n"
      ],
      "metadata": {
        "id": "aq-9epWirkT1"
      }
    },
    {
      "cell_type": "code",
      "source": [],
      "metadata": {
        "id": "cmMZCebhrlaD"
      },
      "execution_count": null,
      "outputs": []
    },
    {
      "cell_type": "markdown",
      "source": [
        "Q6. Which of the following is mutable in nature Series, DataFrame, Panel?\n",
        "\n",
        "Ans6-- In Pandas, both Series and DataFrame are mutable objects, meaning you can modify their contents after creation. However, Panel objects are no longer recommended for use in Pandas version 1.0 and above, as their functionality has been moved to other objects such as MultiIndex DataFrames. Therefore, Panels are no longer considered a core Pandas data structure."
      ],
      "metadata": {
        "id": "70X4zX5dsHfi"
      }
    },
    {
      "cell_type": "code",
      "source": [],
      "metadata": {
        "id": "IyCAZYF9sRhH"
      },
      "execution_count": null,
      "outputs": []
    },
    {
      "cell_type": "markdown",
      "source": [
        "Q7. Create a DataFrame using multiple Series. Explain with an example."
      ],
      "metadata": {
        "id": "kMRuvuMqsS3v"
      }
    },
    {
      "cell_type": "code",
      "source": [
        "import pandas as pd\n",
        "\n",
        "names = pd.Series(['Alice', 'Bob', 'Charlie'])\n",
        "ages = pd.Series([25, 30, 35])\n",
        "salaries = pd.Series([50000, 60000, 70000])\n",
        "\n",
        "df = pd.concat([names, ages, salaries], axis=1)\n",
        "\n",
        "df.columns = ['Name', 'Age', 'Salary']\n",
        "\n",
        "print(df)\n"
      ],
      "metadata": {
        "colab": {
          "base_uri": "https://localhost:8080/"
        },
        "id": "cTJu6VllsX2q",
        "outputId": "52ca3786-bcc0-431d-c7cb-aa050a787b03"
      },
      "execution_count": 6,
      "outputs": [
        {
          "output_type": "stream",
          "name": "stdout",
          "text": [
            "      Name  Age  Salary\n",
            "0    Alice   25   50000\n",
            "1      Bob   30   60000\n",
            "2  Charlie   35   70000\n"
          ]
        }
      ]
    },
    {
      "cell_type": "code",
      "source": [],
      "metadata": {
        "id": "H5akxwwIsyWZ"
      },
      "execution_count": null,
      "outputs": []
    }
  ]
}