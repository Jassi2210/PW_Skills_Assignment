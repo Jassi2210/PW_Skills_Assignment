{
 "cells": [
  {
   "cell_type": "markdown",
   "id": "4b8ce582",
   "metadata": {},
   "source": [
    "Q1. What is hierarchical clustering, and how is it different from other clustering techniques?\n",
    "\n",
    "Ans1- Hierarchical clustering is a clustering technique that builds a hierarchy of clusters by recursively dividing a set of data points into smaller clusters. It is different from other clustering techniques in that it does not require a predetermined number of clusters and can provide a visual representation of the clusters through dendrograms.\n",
    "\n",
    "\n",
    "Q2. What are the two main types of hierarchical clustering algorithms? Describe each in brief.\n",
    "\n",
    "Ans2- The two main types of hierarchical clustering algorithms are:\n",
    "\n",
    "* Agglomerative clustering: This type of clustering starts with each data point as its own cluster and then merges the most similar pairs of clusters until all data points belong to a single cluster. It is a bottom-up approach that results in a dendrogram that shows the hierarchy of clusters.\n",
    "* Divisive clustering: This type of clustering starts with all data points belonging to a single cluster and then recursively divides the cluster into smaller clusters until each data point belongs to its own cluster. It is a top-down approach that also results in a dendrogram that shows the hierarchy of clusters.\n",
    "\n",
    "\n",
    "Q3. How do you determine the distance between two clusters in hierarchical clustering, and what are the common distance metrics used?\n",
    "\n",
    "Ans3- The distance between two clusters in hierarchical clustering can be determined using different distance metrics, such as Euclidean distance, Manhattan distance, cosine distance, or correlation distance. The choice of distance metric depends on the type of data being clustered and the nature of the problem being solved. The most common distance metrics used in hierarchical clustering are Euclidean distance and cosine distance.\n",
    "\n",
    "Q4. How do you determine the optimal number of clusters in hierarchical clustering, and what are some common methods used for this purpose?\n",
    "\n",
    "Ans4- The optimal number of clusters in hierarchical clustering can be determined by visually inspecting the dendrogram and selecting a level that best separates the data into meaningful clusters. Another common method is to use the elbow method, which involves plotting the within-cluster sum of squares (WSS) against the number of clusters and selecting the number of clusters at the elbow point where the rate of decrease in WSS slows down.\n",
    "\n",
    "\n",
    "Q5. What are dendrograms in hierarchical clustering, and how are they useful in analyzing the results?\n",
    "\n",
    "Ans5- Dendrograms are a visual representation of the hierarchy of clusters in hierarchical clustering. They show the branching structure of the clusters, with the leaves representing individual data points and the branches representing clusters at different levels of the hierarchy. Dendrograms are useful in analyzing the results of hierarchical clustering because they provide insights into the structure of the data and can help identify the optimal number of clusters.\n",
    "\n",
    "\n",
    "Q6. Can hierarchical clustering be used for both numerical and categorical data? If yes, how are the distance metrics different for each type of data?\n",
    "\n",
    "Ans6- Yes, hierarchical clustering can be used for both numerical and categorical data. The distance metrics used for numerical data are typically Euclidean distance, Manhattan distance, or correlation distance, while for categorical data, the distance metrics used are usually Jaccard distance or Hamming distance.\n",
    "\n",
    "\n",
    "Q7. How can you use hierarchical clustering to identify outliers or anomalies in your data?\n",
    "\n",
    "Ans7- Hierarchical clustering can be used to identify outliers or anomalies by examining the distance between clusters and the height of the dendrogram branches. Outliers or anomalies will be represented by individual data points that are far from all other data points or are clustered separately from the rest of the data. These points will be located on the periphery of the dendrogram, and their distance from the other clusters will be relatively large.\n",
    "\n",
    "\n",
    "\n",
    "\n"
   ]
  },
  {
   "cell_type": "code",
   "execution_count": null,
   "id": "8038da10",
   "metadata": {},
   "outputs": [],
   "source": []
  }
 ],
 "metadata": {
  "kernelspec": {
   "display_name": "Python 3 (ipykernel)",
   "language": "python",
   "name": "python3"
  },
  "language_info": {
   "codemirror_mode": {
    "name": "ipython",
    "version": 3
   },
   "file_extension": ".py",
   "mimetype": "text/x-python",
   "name": "python",
   "nbconvert_exporter": "python",
   "pygments_lexer": "ipython3",
   "version": "3.9.13"
  }
 },
 "nbformat": 4,
 "nbformat_minor": 5
}
