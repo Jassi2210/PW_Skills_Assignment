{
 "cells": [
  {
   "cell_type": "markdown",
   "id": "03f52a66",
   "metadata": {},
   "source": [
    "Q1. What is an ensemble technique in machine learning?\n",
    "\n",
    "Ans1- An ensemble technique in machine learning is a method of combining multiple models to improve the accuracy and robustness of the final prediction. The idea behind ensemble techniques is to use the collective knowledge of several models to make better predictions than any single model could do alone. Ensemble methods can be applied to a wide range of machine learning problems, including classification, regression, and clustering."
   ]
  },
  {
   "cell_type": "code",
   "execution_count": null,
   "id": "79fcc3ec",
   "metadata": {},
   "outputs": [],
   "source": []
  },
  {
   "cell_type": "markdown",
   "id": "60f67a7c",
   "metadata": {},
   "source": [
    "Q2. Why are ensemble techniques used in machine learning?\n",
    "\n",
    "Ans2- Ensemble techniques are used in machine learning because they offer several advantages over individual models. Firstly, ensemble methods can reduce the variance of the final predictions, which can improve the accuracy and stability of the model. Secondly, ensemble methods can help to prevent overfitting, which occurs when a model is too complex and fits the training data too closely, resulting in poor generalization to new data. By combining multiple models, ensemble methods can reduce the likelihood of overfitting and produce more generalizable models. Finally, ensemble methods can be used to combine the strengths of different models and overcome their weaknesses, resulting in better overall performance."
   ]
  },
  {
   "cell_type": "code",
   "execution_count": null,
   "id": "4bee9cf5",
   "metadata": {},
   "outputs": [],
   "source": []
  },
  {
   "cell_type": "markdown",
   "id": "9d6a448e",
   "metadata": {},
   "source": [
    "Q3. What is bagging?\n",
    "\n",
    "Ans3- Bagging (short for Bootstrap Aggregation) is an ensemble technique in machine learning that involves training multiple models on different random subsets of the training data, and then combining the predictions of these models to make the final prediction. The subsets of the training data are selected randomly with replacement, meaning that some samples may appear in multiple subsets, while others may not appear at all. The final prediction is typically made by taking the average (in regression problems) or the majority vote (in classification problems) of the predictions of the individual models."
   ]
  },
  {
   "cell_type": "code",
   "execution_count": null,
   "id": "5ed0d75c",
   "metadata": {},
   "outputs": [],
   "source": []
  },
  {
   "cell_type": "markdown",
   "id": "205bd9cd",
   "metadata": {},
   "source": [
    "Q4. What is boosting?\n",
    "\n",
    "Ans4- Boosting is another ensemble technique in machine learning that involves training multiple models sequentially, with each subsequent model focusing on the samples that were misclassified by the previous models. The idea behind boosting is to iteratively improve the performance of the model by emphasizing the difficult samples that are more likely to be misclassified. Boosting can be applied to a wide range of machine learning algorithms, including decision trees, neural networks, and support vector machines."
   ]
  },
  {
   "cell_type": "code",
   "execution_count": null,
   "id": "7905ebea",
   "metadata": {},
   "outputs": [],
   "source": []
  },
  {
   "cell_type": "markdown",
   "id": "ddf8080c",
   "metadata": {},
   "source": [
    "Q5. What are the benefits of using ensemble techniques?\n",
    "\n",
    "Ans5- Ensemble techniques offer several benefits in machine learning, including:\n",
    "\n",
    "* Improved accuracy: Ensemble methods can produce more accurate predictions than individual models, by combining the strengths of different models and reducing the variance of the final predictions.\n",
    "\n",
    "* Reduced overfitting: Ensemble methods can help to prevent overfitting by combining multiple models and reducing the likelihood that any one model will overfit the training data.\n",
    "\n",
    "* Improved robustness: Ensemble methods can be more robust to noise and outliers in the data, by combining the predictions of multiple models and reducing the influence of individual models that may be affected by outliers.\n",
    "\n",
    "* Improved generalization: Ensemble methods can produce more generalizable models by reducing the variance and overfitting of individual models, and by combining the strengths of different models.\n",
    "\n",
    "* Flexibility: Ensemble methods can be applied to a wide range of machine learning problems and can be used with different types of models and algorithms."
   ]
  },
  {
   "cell_type": "code",
   "execution_count": null,
   "id": "b6bacdfd",
   "metadata": {},
   "outputs": [],
   "source": []
  },
  {
   "cell_type": "markdown",
   "id": "2624bb4a",
   "metadata": {},
   "source": [
    "Q6. Are ensemble techniques always better than individual models?\n",
    "\n",
    "Ans6- Ensemble techniques are not always better than individual models, and their performance can depend on several factors, such as the complexity of the problem, the quality and diversity of the models used, and the size and quality of the training data. In some cases, individual models may be sufficient to achieve good performance, while in other cases, ensemble methods may be necessary to achieve the desired level of accuracy and robustness."
   ]
  },
  {
   "cell_type": "code",
   "execution_count": null,
   "id": "7e5adccf",
   "metadata": {},
   "outputs": [],
   "source": []
  },
  {
   "cell_type": "markdown",
   "id": "5619880f",
   "metadata": {},
   "source": [
    "Q7. How is the confidence interval calculated using bootstrap?\n",
    "\n",
    "Ans7- To calculate the confidence interval using bootstrap, the following steps can be followed:\n",
    "\n",
    "* Collect a random sample of size n from the population data.\n",
    "\n",
    "* Generate a large number (B) of bootstrap samples by randomly selecting n samples from the original sample data with replacement.\n",
    "\n",
    "* Calculate the statistic of interest (mean, median, variance, etc.) for each bootstrap sample.\n",
    "\n",
    "* Calculate the standard error of the statistic by computing the standard deviation of the bootstrap sample statistics.\n",
    "\n",
    "* Calculate the lower and upper bounds of the confidence interval by subtracting and adding the desired level of significance (usually 95%) multiplied by the standard error from the original sample statistic.\n",
    "\n",
    "For example, to calculate the 95% confidence interval for the mean of a population, the formula would be:\n",
    "\n",
    "Lower bound = sample mean - (1.96 * standard error)\n",
    "Upper bound = sample mean + (1.96 * standard error)\n",
    "\n",
    "Where 1.96 is the z-score corresponding to the 95% confidence level."
   ]
  },
  {
   "cell_type": "code",
   "execution_count": null,
   "id": "761d2d87",
   "metadata": {},
   "outputs": [],
   "source": []
  },
  {
   "cell_type": "markdown",
   "id": "a8f5f5b3",
   "metadata": {},
   "source": [
    "Q8. How does bootstrap work and What are the steps involved in bootstrap?\n",
    "\n",
    "Ans8- Bootstrap is a statistical technique for estimating the sampling distribution of a statistic by generating multiple resamples (bootstrap samples) from the original data. The basic idea behind bootstrap is to use the resampled data to estimate the variability of a statistic, such as the mean or standard deviation, when the population distribution is unknown or cannot be assumed to be normal. The bootstrap method is widely used in machine learning and statistics for building robust models, estimating uncertainty, and testing hypotheses.\n",
    "\n",
    "The steps involved in bootstrap are as follows:\n",
    "\n",
    "* Collect a random sample of size n from the population data.\n",
    "\n",
    "* Generate a large number (B) of bootstrap samples by randomly selecting n samples from the original sample data with replacement.\n",
    "\n",
    "* Compute the statistic of interest (mean, median, variance, etc.) for each bootstrap sample.\n",
    "\n",
    "* Calculate the standard error of the statistic by computing the standard deviation of the bootstrap sample statistics.\n",
    "\n",
    "* Use the bootstrap sample statistics to estimate the population parameter and construct a confidence interval around the estimate.\n",
    "\n",
    "* Repeat steps 2-5 for a large number of iterations to obtain a more accurate estimate of the population parameter and its variability.\n",
    "\n",
    "The key idea behind bootstrap is that the resampling procedure generates a set of independent and identically distributed (iid) samples from the original data, which can be used to estimate the distribution of a statistic. By generating many bootstrap samples and calculating the statistic of interest for each sample, we can obtain an empirical distribution of the statistic and estimate its variance and other properties. The bootstrap method is particularly useful when the sample size is small or the population distribution is non-normal or unknown, as it provides a non-parametric approach to statistical inference."
   ]
  },
  {
   "cell_type": "code",
   "execution_count": null,
   "id": "805c1bca",
   "metadata": {},
   "outputs": [],
   "source": []
  },
  {
   "cell_type": "markdown",
   "id": "82fa3487",
   "metadata": {},
   "source": [
    "Q9. A researcher wants to estimate the mean height of a population of trees. They measure the height of a\n",
    "sample of 50 trees and obtain a mean height of 15 meters and a standard deviation of 2 meters. Use\n",
    "bootstrap to estimate the 95% confidence interval for the population mean height.\n",
    "\n",
    "Ans9- To estimate the 95% confidence interval for the population mean height using bootstrap, we can follow the steps outlined below:\n",
    "\n",
    "* Collect a random sample of size n=50 from the population of trees.\n",
    "\n",
    "* Generate a large number (B=10,000) of bootstrap samples by randomly selecting n samples from the original sample data with replacement.\n",
    "\n",
    "* Calculate the mean height for each bootstrap sample.\n",
    "\n",
    "* Calculate the standard error of the mean by computing the standard deviation of the bootstrap sample means:\n",
    "  standard error of the mean = standard deviation / sqrt(n)\n",
    "  where n is the sample size.\n",
    "\n",
    "* Calculate the lower and upper bounds of the 95% confidence interval using the bootstrap distribution of means:\n",
    "  lower bound = sample mean - (1.96 * standard error)\n",
    "  upper bound = sample mean + (1.96 * standard error)\n",
    "  where 1.96 is the z-score corresponding to the 95% confidence level.\n",
    "\n",
    "* Report the 95% confidence interval for the population mean height as [lower bound, upper bound].\n",
    "\n",
    "Using the given sample data, we can calculate the standard error of the mean as follows:\n",
    "standard error of the mean = 2 / sqrt(50) = 0.2828\n",
    "\n",
    "Using the bootstrap distribution of means, we can calculate the 95% confidence interval as follows:\n",
    "\n",
    "lower bound = 15 - (1.96 * 0.2828) = 14.443\n",
    "upper bound = 15 + (1.96 * 0.2828) = 15.557\n",
    "\n",
    "Therefore, the 95% confidence interval for the population mean height is [14.443, 15.557]."
   ]
  },
  {
   "cell_type": "code",
   "execution_count": null,
   "id": "5ec0c69c",
   "metadata": {},
   "outputs": [],
   "source": []
  },
  {
   "cell_type": "code",
   "execution_count": null,
   "id": "2bc578b9",
   "metadata": {},
   "outputs": [],
   "source": []
  }
 ],
 "metadata": {
  "kernelspec": {
   "display_name": "Python 3 (ipykernel)",
   "language": "python",
   "name": "python3"
  },
  "language_info": {
   "codemirror_mode": {
    "name": "ipython",
    "version": 3
   },
   "file_extension": ".py",
   "mimetype": "text/x-python",
   "name": "python",
   "nbconvert_exporter": "python",
   "pygments_lexer": "ipython3",
   "version": "3.9.13"
  }
 },
 "nbformat": 4,
 "nbformat_minor": 5
}
