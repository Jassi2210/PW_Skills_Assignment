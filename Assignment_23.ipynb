{
  "nbformat": 4,
  "nbformat_minor": 0,
  "metadata": {
    "colab": {
      "provenance": []
    },
    "kernelspec": {
      "name": "python3",
      "display_name": "Python 3"
    },
    "language_info": {
      "name": "python"
    }
  },
  "cells": [
    {
      "cell_type": "markdown",
      "source": [
        "Q1. List any five functions of the pandas library with execution.\n",
        "\n",
        "Ans1-- \n",
        "\n",
        "1.   read_csv(): This function is used to read a CSV file and create a DataFrame from it.\n",
        "\n",
        "2.  groupby(): This function is used to group the data in a DataFrame based on one or more columns and apply a function to each group.\n",
        "\n",
        "3.  dropna(): This function is used to remove rows or columns with missing values from a DataFrame.\n",
        "\n",
        "4.   sort_values(): This function is used to sort the rows of a DataFrame based on one or more columns.\n",
        "\n",
        "5.   merge(): This function is used to merge two DataFrames based on one or more columns.\n",
        "\n",
        "\n",
        "\n"
      ],
      "metadata": {
        "id": "unUY2btPtgnK"
      }
    },
    {
      "cell_type": "code",
      "execution_count": null,
      "metadata": {
        "id": "IGGRpXpXtOQR"
      },
      "outputs": [],
      "source": [
        "# read_csv()\n",
        "import pandas as pd\n",
        "\n",
        "df = pd.read_csv('data.csv')\n",
        "\n",
        "print(df.head())\n"
      ]
    },
    {
      "cell_type": "code",
      "source": [
        "#groupby()\n",
        "import pandas as pd\n",
        "\n",
        "df = pd.DataFrame({'Name': ['Alice', 'Bob', 'Charlie', 'Bob', 'Alice'], 'Age': [25, 30, 35, 30, 25], 'Salary': [50000, 60000, 70000, 55000, 45000]})\n",
        "\n",
        "grouped = df.groupby('Name').mean()\n",
        "\n",
        "print(grouped)\n"
      ],
      "metadata": {
        "colab": {
          "base_uri": "https://localhost:8080/"
        },
        "id": "hLfVOXkdugqf",
        "outputId": "83d09c6a-d0e3-4514-decc-5a5285ca0acc"
      },
      "execution_count": 2,
      "outputs": [
        {
          "output_type": "stream",
          "name": "stdout",
          "text": [
            "          Age   Salary\n",
            "Name                  \n",
            "Alice    25.0  47500.0\n",
            "Bob      30.0  57500.0\n",
            "Charlie  35.0  70000.0\n"
          ]
        }
      ]
    },
    {
      "cell_type": "code",
      "source": [
        "#dropna()\n",
        "import pandas as pd\n",
        "\n",
        "df = pd.DataFrame({'Name': ['Alice', 'Bob', 'Charlie'], 'Age': [25, None, 35], 'Salary': [50000, 60000, None]})\n",
        "\n",
        "df = df.dropna()\n",
        "\n",
        "print(df)\n"
      ],
      "metadata": {
        "colab": {
          "base_uri": "https://localhost:8080/"
        },
        "id": "s9OP0AYmu0d9",
        "outputId": "1b3a449b-45b5-459e-f0c8-c9f79e7a43a7"
      },
      "execution_count": 3,
      "outputs": [
        {
          "output_type": "stream",
          "name": "stdout",
          "text": [
            "    Name   Age   Salary\n",
            "0  Alice  25.0  50000.0\n"
          ]
        }
      ]
    },
    {
      "cell_type": "code",
      "source": [
        "#sort_values()\n",
        "import pandas as pd\n",
        "\n",
        "df = pd.DataFrame({'Name': ['Alice', 'Bob', 'Charlie'], 'Age': [25, 30, 35], 'Salary': [50000, 60000, 70000]})\n",
        "\n",
        "df = df.sort_values('Age')\n",
        "\n",
        "print(df)\n"
      ],
      "metadata": {
        "colab": {
          "base_uri": "https://localhost:8080/"
        },
        "id": "V2BoMCfLu7mO",
        "outputId": "c48bedc2-779b-4d11-d75c-4d603d79d01c"
      },
      "execution_count": 4,
      "outputs": [
        {
          "output_type": "stream",
          "name": "stdout",
          "text": [
            "      Name  Age  Salary\n",
            "0    Alice   25   50000\n",
            "1      Bob   30   60000\n",
            "2  Charlie   35   70000\n"
          ]
        }
      ]
    },
    {
      "cell_type": "code",
      "source": [
        "#merge()\n",
        "import pandas as pd\n",
        "\n",
        "df1 = pd.DataFrame({'Name': ['Alice', 'Bob', 'Charlie'], 'Age': [25, 30, 35]})\n",
        "df2 = pd.DataFrame({'Name': ['Bob', 'Charlie', 'Dave'], 'Salary': [60000, 70000, 80000]})\n",
        "\n",
        "merged = pd.merge(df1, df2, on='Name')\n",
        "\n",
        "print(merged)\n"
      ],
      "metadata": {
        "colab": {
          "base_uri": "https://localhost:8080/"
        },
        "id": "Wfvt9FX-vCaI",
        "outputId": "dc1d554f-4d6e-4d8d-da87-f31997c115ad"
      },
      "execution_count": 5,
      "outputs": [
        {
          "output_type": "stream",
          "name": "stdout",
          "text": [
            "      Name  Age  Salary\n",
            "0      Bob   30   60000\n",
            "1  Charlie   35   70000\n"
          ]
        }
      ]
    },
    {
      "cell_type": "code",
      "source": [],
      "metadata": {
        "id": "SJDZRCwzvHUZ"
      },
      "execution_count": null,
      "outputs": []
    },
    {
      "cell_type": "markdown",
      "source": [
        "Q2. Given a Pandas DataFrame df with columns 'A', 'B', and 'C', write a Python function to re-index the\n",
        "DataFrame with a new index that starts from 1 and increments by 2 for each row."
      ],
      "metadata": {
        "id": "D9ur5CmnviBK"
      }
    },
    {
      "cell_type": "code",
      "source": [
        "import pandas as pd\n",
        "\n",
        "def reindex_dataframe(df):\n",
        "    n = len(df)\n",
        "\n",
        "    new_index = pd.Index(range(1, 2*n, 2))\n",
        "\n",
        "    df = df.reindex(new_index)\n",
        "\n",
        "    return df\n",
        "\n",
        "df = pd.DataFrame({'A': [1, 2, 3], 'B': [4, 5, 6], 'C': [7, 8, 9]})\n",
        "df = reindex_dataframe(df)\n",
        "print(df)\n",
        "\n"
      ],
      "metadata": {
        "colab": {
          "base_uri": "https://localhost:8080/"
        },
        "id": "uyaMJGcIw_Rp",
        "outputId": "d3020e5f-d5a9-4085-9529-75e763befd81"
      },
      "execution_count": 6,
      "outputs": [
        {
          "output_type": "stream",
          "name": "stdout",
          "text": [
            "     A    B    C\n",
            "1  2.0  5.0  8.0\n",
            "3  NaN  NaN  NaN\n",
            "5  NaN  NaN  NaN\n"
          ]
        }
      ]
    },
    {
      "cell_type": "code",
      "source": [],
      "metadata": {
        "id": "nXQatgaRxRNG"
      },
      "execution_count": null,
      "outputs": []
    },
    {
      "cell_type": "markdown",
      "source": [
        "Q3. You have a Pandas DataFrame df with a column named 'Values'. Write a Python function that\n",
        "iterates over the DataFrame and calculates the sum of the first three values in the 'Values' column. The\n",
        "function should print the sum to the console.\n",
        "For example, if the 'Values' column of df contains the values [10, 20, 30, 40, 50], your function should\n",
        "calculate and print the sum of the first three values, which is 60."
      ],
      "metadata": {
        "id": "80nw2UlmxUjx"
      }
    },
    {
      "cell_type": "code",
      "source": [
        "import pandas as pd\n",
        "\n",
        "def sum_first_three(df):\n",
        "    values = df['Values']\n",
        "\n",
        "    sum_first_three = sum(values[:3])\n",
        "\n",
        "    print('Sum of the first three values:', sum_first_three)\n",
        "\n",
        "df = pd.DataFrame({'Values': [10, 20, 30, 40, 50]})\n",
        "sum_first_three(df)\n",
        "\n"
      ],
      "metadata": {
        "colab": {
          "base_uri": "https://localhost:8080/"
        },
        "id": "LBBFC7ATxY-L",
        "outputId": "d3a6feae-041a-4893-d711-c569cf060e44"
      },
      "execution_count": 7,
      "outputs": [
        {
          "output_type": "stream",
          "name": "stdout",
          "text": [
            "Sum of the first three values: 60\n"
          ]
        }
      ]
    },
    {
      "cell_type": "code",
      "source": [],
      "metadata": {
        "id": "WSIguxkVyOH2"
      },
      "execution_count": null,
      "outputs": []
    },
    {
      "cell_type": "markdown",
      "source": [
        "Q4. Given a Pandas DataFrame df with a column 'Text', write a Python function to create a new column\n",
        "'Word_Count' that contains the number of words in each row of the 'Text' column.\n",
        "\n"
      ],
      "metadata": {
        "id": "uKxE_KipyVRZ"
      }
    },
    {
      "cell_type": "code",
      "source": [
        "import pandas as pd\n",
        "\n",
        "def add_word_count(df):\n",
        "    words = df['Text'].str.split()\n",
        "\n",
        "    word_count = words.apply(len)\n",
        "\n",
        "    df['Word_Count'] = word_count\n",
        "\n",
        "    return df\n",
        "\n",
        "df = pd.DataFrame({'Text': ['This is a sentence.', 'Another sentence with more words.', 'One more sentence.']})\n",
        "df = add_word_count(df)\n",
        "print(df)\n",
        "\n"
      ],
      "metadata": {
        "colab": {
          "base_uri": "https://localhost:8080/"
        },
        "id": "xdMezJ66ya4D",
        "outputId": "8355fd63-f2cd-4e54-d2f0-018db7e511bf"
      },
      "execution_count": 8,
      "outputs": [
        {
          "output_type": "stream",
          "name": "stdout",
          "text": [
            "                                Text  Word_Count\n",
            "0                This is a sentence.           4\n",
            "1  Another sentence with more words.           5\n",
            "2                 One more sentence.           3\n"
          ]
        }
      ]
    },
    {
      "cell_type": "code",
      "source": [],
      "metadata": {
        "id": "vdv4dMEQysF3"
      },
      "execution_count": null,
      "outputs": []
    },
    {
      "cell_type": "markdown",
      "source": [
        "Q5. How are DataFrame.size() and DataFrame.shape() different?\n",
        "\n",
        "Ans5-- DataFrame.size returns the total number of elements in the DataFrame, which is equivalent to the number of rows times the number of columns. It is equivalent to calling DataFrame.shape[0] * DataFrame.shape[1].\n",
        "\n",
        "On the other hand, DataFrame.shape returns a tuple that contains the number of rows and columns in the DataFrame, respectively. It is equivalent to calling (DataFrame.shape[0], DataFrame.shape[1])."
      ],
      "metadata": {
        "id": "FMx741KAy4zX"
      }
    },
    {
      "cell_type": "code",
      "source": [
        "import pandas as pd\n",
        "\n",
        "df = pd.DataFrame({'A': [1, 2, 3], 'B': [4, 5, 6], 'C': [7, 8, 9]})\n",
        "\n",
        "print('Size of the DataFrame:', df.size)\n",
        "print('Shape of the DataFrame:', df.shape)\n"
      ],
      "metadata": {
        "colab": {
          "base_uri": "https://localhost:8080/"
        },
        "id": "A8L9Pkf2zCLU",
        "outputId": "cd8272fb-8348-412a-e0c7-c357c2455870"
      },
      "execution_count": 9,
      "outputs": [
        {
          "output_type": "stream",
          "name": "stdout",
          "text": [
            "Size of the DataFrame: 9\n",
            "Shape of the DataFrame: (3, 3)\n"
          ]
        }
      ]
    },
    {
      "cell_type": "code",
      "source": [],
      "metadata": {
        "id": "H3Z__NHhzFAc"
      },
      "execution_count": null,
      "outputs": []
    },
    {
      "cell_type": "markdown",
      "source": [
        "Q6. Which function of pandas do we use to read an excel file?\n",
        "\n",
        "Ans6-- To read an Excel file using pandas, we use the pandas.read_excel() function. This function takes the path to the Excel file as an argument and returns a Pandas DataFrame containing the data from the file."
      ],
      "metadata": {
        "id": "r_oPLtBmzJgw"
      }
    },
    {
      "cell_type": "code",
      "source": [
        "import pandas as pd\n",
        "\n",
        "df = pd.read_excel('example.xlsx')\n",
        "\n",
        "print(df)\n"
      ],
      "metadata": {
        "id": "qzU6PIAczKcx"
      },
      "execution_count": null,
      "outputs": []
    },
    {
      "cell_type": "markdown",
      "source": [
        "Q7. You have a Pandas DataFrame df that contains a column named 'Email' that contains email\n",
        "addresses in the format 'username@domain.com'. Write a Python function that creates a new column\n",
        "'Username' in df that contains only the username part of each email address.\n",
        "The username is the part of the email address that appears before the '@' symbol. For example, if the\n",
        "email address is 'john.doe@example.com', the 'Username' column should contain 'john.doe'. Your\n",
        "function should extract the username from each email address and store it in the new 'Username'\n",
        "column.\n",
        "\n"
      ],
      "metadata": {
        "id": "7DVu103ezWIH"
      }
    },
    {
      "cell_type": "code",
      "source": [
        "import pandas as pd\n",
        "\n",
        "def extract_username(df, email_column):\n",
        "    df['Username'] = df[email_column].apply(lambda x: x.split('@')[0])\n",
        "    return df\n",
        "\n",
        "df = pd.DataFrame({'Email': ['jassi.singh@gmail.com', 'jassi.shodi@gmail.com', 'jassi.shodi2210@gmail.com']})\n",
        "\n",
        "df = extract_username(df, 'Email')\n",
        "\n",
        "print(df)\n",
        "\n"
      ],
      "metadata": {
        "colab": {
          "base_uri": "https://localhost:8080/"
        },
        "id": "R4YiIAV3zamR",
        "outputId": "f026673f-d16d-4fd7-a271-fac2719b6870"
      },
      "execution_count": 11,
      "outputs": [
        {
          "output_type": "stream",
          "name": "stdout",
          "text": [
            "                       Email         Username\n",
            "0      jassi.singh@gmail.com      jassi.singh\n",
            "1      jassi.shodi@gmail.com      jassi.shodi\n",
            "2  jassi.shodi2210@gmail.com  jassi.shodi2210\n"
          ]
        }
      ]
    },
    {
      "cell_type": "code",
      "source": [],
      "metadata": {
        "id": "IIH_qlbezqFs"
      },
      "execution_count": null,
      "outputs": []
    },
    {
      "cell_type": "markdown",
      "source": [
        "Q8. You have a Pandas DataFrame df with columns 'A', 'B', and 'C'. Write a Python function that selects\n",
        "all rows where the value in column 'A' is greater than 5 and the value in column 'B' is less than 10. The\n",
        "function should return a new DataFrame that contains only the selected rows.\n",
        "For example, if df contains the following values:\n",
        "A B C\n",
        "0 3 5 1\n",
        "1 8 2 7\n",
        "2 6 9 4\n",
        "3 2 3 5\n",
        "4 9 1 2\n",
        "\n",
        "Your function should select the following rows: A B C\n",
        "1 8 2 7\n",
        "4 9 1 2\n",
        "The function should return a new DataFrame that contains only the selected rows."
      ],
      "metadata": {
        "id": "sA3g_EXk0BsP"
      }
    },
    {
      "cell_type": "code",
      "source": [
        "import pandas as pd\n",
        "\n",
        "def select_rows(df):\n",
        "\n",
        "    selected_rows = df[(df['A'] > 5) & (df['B'] < 10)]\n",
        "    \n",
        "    return selected_rows\n",
        "\n",
        "df = pd.DataFrame({\n",
        "    'A': [3, 8, 6, 2, 9],\n",
        "    'B': [5, 2, 9, 3, 1],\n",
        "    'C': [1, 7, 4, 5, 2]\n",
        "})\n",
        "\n",
        "selected_df = select_rows(df)\n",
        "\n",
        "print(selected_df)\n"
      ],
      "metadata": {
        "colab": {
          "base_uri": "https://localhost:8080/"
        },
        "id": "B5tPsgns0Qbs",
        "outputId": "70af7a0c-c3cd-42d3-944f-9153decc206e"
      },
      "execution_count": 12,
      "outputs": [
        {
          "output_type": "stream",
          "name": "stdout",
          "text": [
            "   A  B  C\n",
            "1  8  2  7\n",
            "2  6  9  4\n",
            "4  9  1  2\n"
          ]
        }
      ]
    },
    {
      "cell_type": "code",
      "source": [],
      "metadata": {
        "id": "00B9sbGI0jvn"
      },
      "execution_count": null,
      "outputs": []
    },
    {
      "cell_type": "markdown",
      "source": [
        "Q9. Given a Pandas DataFrame df with a column 'Values', write a Python function to calculate the mean,\n",
        "median, and standard deviation of the values in the 'Values' column."
      ],
      "metadata": {
        "id": "C4OowkRr08S7"
      }
    },
    {
      "cell_type": "code",
      "source": [
        "import pandas as pd\n",
        "import numpy as np\n",
        "\n",
        "def calculate_stats(df):\n",
        "    mean = np.mean(df['Values'])\n",
        "    median = np.median(df['Values'])\n",
        "    std_dev = np.std(df['Values'])\n",
        "    \n",
        "    print('Mean:', mean)\n",
        "    print('Median:', median)\n",
        "    print('Standard Deviation:', std_dev)\n",
        "df = pd.DataFrame({'Values': [1, 2, 3, 4, 5]})\n",
        "calculate_stats(df)\n"
      ],
      "metadata": {
        "colab": {
          "base_uri": "https://localhost:8080/"
        },
        "id": "yzzqT2Nn1CRA",
        "outputId": "a256ed81-cb0b-4ad8-93e2-6d00843927d8"
      },
      "execution_count": 13,
      "outputs": [
        {
          "output_type": "stream",
          "name": "stdout",
          "text": [
            "Mean: 3.0\n",
            "Median: 3.0\n",
            "Standard Deviation: 1.4142135623730951\n"
          ]
        }
      ]
    },
    {
      "cell_type": "code",
      "source": [],
      "metadata": {
        "id": "dB_ziPAW1LYL"
      },
      "execution_count": null,
      "outputs": []
    },
    {
      "cell_type": "markdown",
      "source": [
        "Q10. Given a Pandas DataFrame df with a column 'Sales' and a column 'Date', write a Python function to\n",
        "create a new column 'MovingAverage' that contains the moving average of the sales for the past 7 days\n",
        "for each row in the DataFrame. The moving average should be calculated using a window of size 7 and\n",
        "should include the current day."
      ],
      "metadata": {
        "id": "r_ZgXFRN1Pp3"
      }
    },
    {
      "cell_type": "code",
      "source": [
        "import pandas as pd\n",
        "\n",
        "def add_moving_average_column(df):\n",
        "    window_size = 7\n",
        "    df['MovingAverage'] = df['Sales'].rolling(window=window_size, min_periods=1).mean()\n",
        "    return df\n"
      ],
      "metadata": {
        "id": "3TlHeZ2v1RY5"
      },
      "execution_count": 14,
      "outputs": []
    },
    {
      "cell_type": "code",
      "source": [],
      "metadata": {
        "id": "q5IaioDj1y5w"
      },
      "execution_count": null,
      "outputs": []
    },
    {
      "cell_type": "markdown",
      "source": [
        "Q11. You have a Pandas DataFrame df with a column 'Date'. Write a Python function that creates a new\n",
        "column 'Weekday' in the DataFrame. The 'Weekday' column should contain the weekday name (e.g.\n",
        "Monday, Tuesday) corresponding to each date in the 'Date' column.\n",
        "For example, if df contains the following values:\n",
        "Date\n",
        "0 2023-01-01\n",
        "1 2023-01-02\n",
        "2 2023-01-03\n",
        "3 2023-01-04\n",
        "4 2023-01-05\n",
        "Your function should create the following DataFrame:\n",
        "\n",
        "Date Weekday\n",
        "0 2023-01-01 Sunday\n",
        "1 2023-01-02 Monday\n",
        "2 2023-01-03 Tuesday\n",
        "3 2023-01-04 Wednesday\n",
        "4 2023-01-05 Thursday\n",
        "The function should return the modified DataFrame."
      ],
      "metadata": {
        "id": "sPTJP-st2GtP"
      }
    },
    {
      "cell_type": "code",
      "source": [
        "import pandas as pd\n",
        "\n",
        "def add_weekday(df):\n",
        "    df['Weekday'] = pd.to_datetime(df['Date']).dt.strftime('%A')\n",
        "    return df\n",
        "df = pd.DataFrame({'Date': ['2023-01-01', '2023-01-02', '2023-01-03', '2023-01-04', '2023-01-05']})\n",
        "df = add_weekday(df)\n",
        "print(df)\n",
        "\n"
      ],
      "metadata": {
        "colab": {
          "base_uri": "https://localhost:8080/"
        },
        "id": "GI0FQlD82HdD",
        "outputId": "198b63bf-2e6d-4fa1-a92b-8c567b2895db"
      },
      "execution_count": 15,
      "outputs": [
        {
          "output_type": "stream",
          "name": "stdout",
          "text": [
            "         Date    Weekday\n",
            "0  2023-01-01     Sunday\n",
            "1  2023-01-02     Monday\n",
            "2  2023-01-03    Tuesday\n",
            "3  2023-01-04  Wednesday\n",
            "4  2023-01-05   Thursday\n"
          ]
        }
      ]
    },
    {
      "cell_type": "code",
      "source": [],
      "metadata": {
        "id": "DFOOD7Qt3EkM"
      },
      "execution_count": null,
      "outputs": []
    },
    {
      "cell_type": "markdown",
      "source": [
        "Q12. Given a Pandas DataFrame df with a column 'Date' that contains timestamps, write a Python\n",
        "function to select all rows where the date is between '2023-01-01' and '2023-01-31'.\n"
      ],
      "metadata": {
        "id": "SdTR2fo73KJo"
      }
    },
    {
      "cell_type": "code",
      "source": [
        "import pandas as pd\n",
        "\n",
        "def select_dates_between(df):\n",
        "    df['Date'] = pd.to_datetime(df['Date'])\n",
        "\n",
        "    mask = df['Date'].between('2023-01-01', '2023-01-31')\n",
        "    selected_rows = df[mask]\n",
        "    \n",
        "    return selected_rows\n"
      ],
      "metadata": {
        "id": "WOMDdngR3Me5"
      },
      "execution_count": 16,
      "outputs": []
    },
    {
      "cell_type": "code",
      "source": [],
      "metadata": {
        "id": "YxlhtKZP3TAH"
      },
      "execution_count": null,
      "outputs": []
    },
    {
      "cell_type": "markdown",
      "source": [
        "Q13. To use the basic functions of pandas, what is the first and foremost necessary library that needs to\n",
        "be imported?\n",
        "\n",
        "Ans13-- The first and foremost necessary library that needs to be imported to use the basic functions of pandas is the pandas library itself. It is typically imported using the statement import pandas as pd."
      ],
      "metadata": {
        "id": "H98Vh5VJ3jCL"
      }
    },
    {
      "cell_type": "code",
      "source": [],
      "metadata": {
        "id": "LJD3zY-G3qlz"
      },
      "execution_count": null,
      "outputs": []
    }
  ]
}