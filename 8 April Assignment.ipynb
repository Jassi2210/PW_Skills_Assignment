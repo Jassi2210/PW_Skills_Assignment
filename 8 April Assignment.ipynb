{
 "cells": [
  {
   "cell_type": "markdown",
   "id": "dd5b4b7a",
   "metadata": {},
   "source": [
    "Q1. In order to predict house price based on several characteristics, such as location, square footage, number of bedrooms, etc., you are developing an SVM regression model. Which regression metric in this situation would be the best to employ?\n",
    "\n",
    "Ans1. In order to predict house price based on several characteristics, such as location, square footage, number of bedrooms, etc., you are developing an SVM regression model. Which regression metric in this situation would be the best to employ?\n",
    "\n",
    "In this scenario, the best regression metric to employ would be Mean Squared Error (MSE). This metric measures the average squared difference between the predicted and actual values, which is useful for measuring the overall accuracy of the model's predictions.\n",
    "\n",
    "Q2. You have built an SVM regression model and are trying to decide between using MSE or R-squared as your evaluation metric. Which metric would be more appropriate if your goal is to predict the actual price of a house as accurately as possible?\n",
    "\n",
    "Ans2. You have built an SVM regression model and are trying to decide between using MSE or R-squared as your evaluation metric. Which metric would be more appropriate if your goal is to predict the actual price of a house as accurately as possible?\n",
    "\n",
    "In this case, MSE would be more appropriate because it measures the average squared difference between the predicted and actual values, which is directly related to accuracy in terms of predicting the actual price of a house. R-squared measures the proportion of variance in the target variable that can be explained by the model, which is useful for understanding how well the model fits the data but may not be as directly related to accuracy in predicting the actual price of a house.\n",
    "\n",
    "Q3. You have a dataset with a significant number of outliers and are trying to select an appropriate regression metric to use with your SVM model. Which metric would be the most appropriate in this scenario?\n",
    "\n",
    "Ans3. You have a dataset with a significant number of outliers and are trying to select an appropriate regression metric to use with your SVM model. Which metric would be the most appropriate in this scenario?\n",
    "\n",
    "In this scenario, Mean Absolute Error (MAE) would be the most appropriate regression metric to use with an SVM model. MAE measures the average absolute difference between the predicted and actual values, which is more robust to outliers than MSE because it does not involve squaring the errors.\n",
    "\n",
    "Q4. You have built an SVM regression model using a polynomial kernel and are trying to select the best metric to evaluate its performance. You have calculated both MSE and RMSE and found that both values are very close. Which metric should you choose to use in this case?\n",
    "\n",
    "Ans4. You have built an SVM regression model using a polynomial kernel and are trying to select the best metric to evaluate its performance. You have calculated both MSE and RMSE and found that both values are very close. Which metric should you choose to use in this case?\n",
    "\n",
    "In this case, it is generally preferable to use RMSE instead of MSE because RMSE takes the square root of the average squared difference between the predicted and actual values, which gives a more interpretable value in the same units as the target variable.\n",
    "\n",
    "Q5. You are comparing the performance of different SVM regression models using different kernels (linear, polynomial, and RBF) and are trying to select the best evaluation metric. Which metric would be most appropriate if your goal is to measure how well the model explains the variance in the target variable?\n",
    "\n",
    "Ans5. You are comparing the performance of different SVM regression models using different kernels (linear, polynomial, and RBF) and are trying to select the best evaluation metric. Which metric would be most appropriate if your goal is to measure how well the model explains the variance in the target variable?\n",
    "\n",
    "In this scenario, R-squared would be the most appropriate metric to use because it measures the proportion of variance in the target variable that can be explained by the model. This is particularly useful when comparing models with different kernels because it provides a standardized way to compare how well each model explains the variance in the target variable."
   ]
  },
  {
   "cell_type": "code",
   "execution_count": null,
   "id": "7079bb2d",
   "metadata": {},
   "outputs": [],
   "source": []
  }
 ],
 "metadata": {
  "kernelspec": {
   "display_name": "Python 3 (ipykernel)",
   "language": "python",
   "name": "python3"
  },
  "language_info": {
   "codemirror_mode": {
    "name": "ipython",
    "version": 3
   },
   "file_extension": ".py",
   "mimetype": "text/x-python",
   "name": "python",
   "nbconvert_exporter": "python",
   "pygments_lexer": "ipython3",
   "version": "3.9.13"
  }
 },
 "nbformat": 4,
 "nbformat_minor": 5
}
