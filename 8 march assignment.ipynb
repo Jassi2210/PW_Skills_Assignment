{
 "cells": [
  {
   "cell_type": "markdown",
   "id": "a515cd24",
   "metadata": {},
   "source": [
    "## Q1. What is the Probability density function?\n",
    "## Ans1- The probability density function (PDF) is a function used in probability theory to describe the probability distribution of a continuous random variable. The PDF is a function that specifies the relative likelihood or probability of a random variable taking on a particular value, and the total area under the PDF curve must be equal to 1. The PDF is used to describe the probability distribution of a continuous variable in contrast to the probability mass function (PMF), which is used to describe the probability distribution of a discrete variable. The PDF can be used to calculate the probability of a continuous variable taking on a range of values by integrating the PDF over that range."
   ]
  },
  {
   "cell_type": "code",
   "execution_count": null,
   "id": "bac3deee",
   "metadata": {},
   "outputs": [],
   "source": []
  },
  {
   "cell_type": "markdown",
   "id": "66f9c19d",
   "metadata": {},
   "source": [
    "## Q2. What are the types of Probability distribution?\n",
    "## Ans2- There are several types of probability distributions, but the most common types are:\n",
    "\n",
    "## 1.Normal distribution: A normal distribution is a continuous probability distribution that is symmetrical around the mean. It is also known as the Gaussian distribution or the bell curve.\n",
    "\n",
    "## 2.Binomial distribution: A binomial distribution is a discrete probability distribution that describes the number of successes in a fixed number of independent trials, with each trial having only two possible outcomes (success or failure).\n",
    "\n",
    "## 3.Poisson distribution: A Poisson distribution is a discrete probability distribution that describes the probability of a given number of events occurring in a fixed interval of time or space, given that the events occur independently and at a constant rate.\n",
    "\n",
    "## 4.Uniform distribution: A uniform distribution is a continuous probability distribution in which every value within a given interval has an equal probability of occurring.\n",
    "\n",
    "## 5.Exponential distribution: An exponential distribution is a continuous probability distribution that describes the time between events occurring in a Poisson process, such as radioactive decay or the arrival of customers in a queue.\n",
    "\n",
    "## 6.Chi-squared distribution: A chi-squared distribution is a continuous probability distribution that is often used in hypothesis testing to compare observed data with expected data.\n",
    "\n",
    "## 7.Student's t-distribution: A t-distribution is a continuous probability distribution that is often used in hypothesis testing when the sample size is small or the population standard deviation is unknown."
   ]
  },
  {
   "cell_type": "code",
   "execution_count": null,
   "id": "accebb9d",
   "metadata": {},
   "outputs": [],
   "source": []
  },
  {
   "cell_type": "markdown",
   "id": "c6014e5c",
   "metadata": {},
   "source": [
    "## Q3. Write a Python function to calculate the probability density function of a normal distribution with given mean and standard deviation at a given point.\n"
   ]
  },
  {
   "cell_type": "code",
   "execution_count": 4,
   "id": "ac3e0388",
   "metadata": {},
   "outputs": [],
   "source": [
    "import math\n",
    "\n",
    "def normal_pdf(x, mu, sigma):\n",
    "    \"\"\"\n",
    "    Calculates the probability density function of a normal distribution with given mean and standard deviation\n",
    "    at a given point x.\n",
    "\n",
    "    Args:\n",
    "    x (float): The point at which to evaluate the PDF.\n",
    "    mu (float): The mean of the normal distribution.\n",
    "    sigma (float): The standard deviation of the normal distribution.\n",
    "\n",
    "    Returns:\n",
    "    float: The value of the PDF at point x.\n",
    "    \"\"\"\n",
    "    return (1 / (math.sqrt(2 * math.pi) * sigma)) * math.exp(-((x - mu) ** 2) / (2 * sigma ** 2))\n"
   ]
  },
  {
   "cell_type": "code",
   "execution_count": null,
   "id": "a5109472",
   "metadata": {},
   "outputs": [],
   "source": []
  },
  {
   "cell_type": "markdown",
   "id": "73db1e40",
   "metadata": {},
   "source": [
    "## Q4. What are the properties of Binomial distribution? Give two examples of events where binomial distribution can be applied.\n",
    "## Ans4- The properties of Binomial distribution are:\n",
    "## The experiment consists of a fixed number of trials, denoted as 'n'.\n",
    "## Each trial has only two possible outcomes, success or failure.\n",
    "## The probability of success, denoted as 'p', is constant for each trial.\n",
    "## The trials are independent of each other.\n",
    "\n",
    "## Two examples where binomial distribution can be applied are:\n",
    "\n",
    "## Tossing a coin: When a coin is tossed, it has only two possible outcomes, either a head or a tail. The probability of getting a head or a tail is the same in each toss, assuming a fair coin. Therefore, this can be modeled as a binomial distribution with n=1, p=0.5.\n",
    "## Drug testing: Suppose a drug is tested on a sample of patients, and the success of the drug is measured by whether the patient recovers or not. Each patient in the sample can either recover or not, and the probability of recovery is the same for each patient. Therefore, this can be modeled as a binomial distribution with n equal to the size of the sample and p equal to the probability of recovery."
   ]
  },
  {
   "cell_type": "code",
   "execution_count": null,
   "id": "d02fe213",
   "metadata": {},
   "outputs": [],
   "source": []
  },
  {
   "cell_type": "markdown",
   "id": "8c02abd3",
   "metadata": {},
   "source": [
    "## Q5. Generate a random sample of size 1000 from a binomial distribution with probability of success 0.4 and plot a histogram of the results using matplotlib."
   ]
  },
  {
   "cell_type": "code",
   "execution_count": 5,
   "id": "2ccc0855",
   "metadata": {},
   "outputs": [
    {
     "data": {
      "image/png": "[encoded data removed]",
      "text/plain": [
       "<Figure size 640x480 with 1 Axes>"
      ]
     },
     "metadata": {},
     "output_type": "display_data"
    }
   ],
   "source": [
    "import numpy as np\n",
    "import matplotlib.pyplot as plt\n",
    "\n",
    "# Generate random sample of size 1000 from a binomial distribution\n",
    "n = 10   # number of trials\n",
    "p = 0.4  # probability of success\n",
    "sample = np.random.binomial(n, p, size=1000)\n",
    "\n",
    "# Plot histogram of the sample\n",
    "plt.hist(sample, bins='auto')\n",
    "plt.title('Histogram of Random Sample from Binomial Distribution')\n",
    "plt.xlabel('Number of Successes')\n",
    "plt.ylabel('Frequency')\n",
    "plt.show()\n"
   ]
  },
  {
   "cell_type": "markdown",
   "id": "ca7f23ef",
   "metadata": {},
   "source": [
    "## Q6. Write a Python function to calculate the cumulative distribution function of a Poisson distribution with given mean at a given point."
   ]
  },
  {
   "cell_type": "code",
   "execution_count": 7,
   "id": "4cc41252",
   "metadata": {},
   "outputs": [
    {
     "data": {
      "text/plain": [
       "0.857123460498547"
      ]
     },
     "execution_count": 7,
     "metadata": {},
     "output_type": "execute_result"
    }
   ],
   "source": [
    "import math\n",
    "\n",
    "def poisson_cdf(mu, x):\n",
    "    cdf = 0.0\n",
    "    for i in range(x + 1):\n",
    "        cdf += math.exp(-mu) * (mu ** i) / math.factorial(i)\n",
    "    return cdf\n",
    "poisson_cdf(2.5, 3)\n",
    "0.857123460498547\n",
    "\n"
   ]
  },
  {
   "cell_type": "code",
   "execution_count": null,
   "id": "e9c5ce5f",
   "metadata": {},
   "outputs": [],
   "source": []
  },
  {
   "cell_type": "markdown",
   "id": "b536f7e1",
   "metadata": {},
   "source": [
    "## Q7. How Binomial distribution different from Poisson distribution?\n",
    "## Ans7- Binomial distribution and Poisson distribution are two common probability distributions used in statistics. The key differences between the two are:\n",
    "\n",
    "## Number of trials: Binomial distribution is used when the number of independent trials is fixed, whereas Poisson distribution is used when the number of occurrences of an event is fixed.\n",
    "\n",
    "## Probability of success: In binomial distribution, the probability of success is constant for each trial, whereas in Poisson distribution, the probability of success decreases as the number of events increases.\n",
    "\n",
    "## Type of events: Binomial distribution is used for events that can be classified as success or failure, whereas Poisson distribution is used for events that can be counted, such as the number of phone calls received in a day.\n",
    "\n",
    "## Mean and variance: In binomial distribution, the mean and variance are equal to np, where n is the number of trials and p is the probability of success. In Poisson distribution, the mean and variance are equal to λ, where λ is the expected number of occurrences of an event.\n",
    "\n",
    "## Range of values: Binomial distribution is defined for a finite number of values, whereas Poisson distribution is defined for an infinite number of values."
   ]
  },
  {
   "cell_type": "code",
   "execution_count": null,
   "id": "e1f5743d",
   "metadata": {},
   "outputs": [],
   "source": []
  },
  {
   "cell_type": "markdown",
   "id": "f29f75bc",
   "metadata": {},
   "source": [
    "## Q8. Generate a random sample of size 1000 from a Poisson distribution with mean 5 and calculate the sample mean and variance."
   ]
  },
  {
   "cell_type": "code",
   "execution_count": 8,
   "id": "ea664093",
   "metadata": {},
   "outputs": [
    {
     "name": "stdout",
     "output_type": "stream",
     "text": [
      "Sample mean: 4.909\n",
      "Sample variance: 4.756719\n"
     ]
    }
   ],
   "source": [
    "import numpy as np\n",
    "\n",
    "# Generate a random sample of size 1000 from a Poisson distribution with mean 5\n",
    "sample = np.random.poisson(5, size=1000)\n",
    "\n",
    "# Calculate the sample mean and variance\n",
    "sample_mean = np.mean(sample)\n",
    "sample_var = np.var(sample)\n",
    "\n",
    "print(\"Sample mean:\", sample_mean)\n",
    "print(\"Sample variance:\", sample_var)\n"
   ]
  },
  {
   "cell_type": "code",
   "execution_count": null,
   "id": "45b6744c",
   "metadata": {},
   "outputs": [],
   "source": []
  },
  {
   "cell_type": "markdown",
   "id": "213933bf",
   "metadata": {},
   "source": [
    "## Q9. How mean and variance are related in Binomial distribution and Poisson distribution?\n",
    "## Ans9- In Binomial distribution, mean is equal to np and variance is equal to np(1-p), where n is the number of trials and p is the probability of success.\n",
    "\n",
    "## In Poisson distribution, both mean and variance are equal to λ, where λ is the rate parameter.\n",
    "\n",
    "## Therefore, mean and variance are directly proportional in both distributions, but the relationship is different. In Binomial distribution, variance depends on both n and p, while in Poisson distribution, variance is solely determined by the rate parameter λ."
   ]
  },
  {
   "cell_type": "code",
   "execution_count": null,
   "id": "3b2d1340",
   "metadata": {},
   "outputs": [],
   "source": []
  },
  {
   "cell_type": "markdown",
   "id": "06d359e0",
   "metadata": {},
   "source": [
    "## Q10. In normal distribution with respect to mean position, where does the least frequent data appear?\n",
    "## Ans10- In normal distribution, the least frequent data appears in the tails of the distribution, which are the areas furthest away from the mean. Specifically, the data that is more than two standard deviations away from the mean (either in the positive or negative direction) is considered to be in the tails of the distribution and represents the least frequent data."
   ]
  },
  {
   "cell_type": "code",
   "execution_count": null,
   "id": "baee8583",
   "metadata": {},
   "outputs": [],
   "source": []
  }
 ],
 "metadata": {
  "kernelspec": {
   "display_name": "Python 3 (ipykernel)",
   "language": "python",
   "name": "python3"
  },
  "language_info": {
   "codemirror_mode": {
    "name": "ipython",
    "version": 3
   },
   "file_extension": ".py",
   "mimetype": "text/x-python",
   "name": "python",
   "nbconvert_exporter": "python",
   "pygments_lexer": "ipython3",
   "version": "3.9.13"
  }
 },
 "nbformat": 4,
 "nbformat_minor": 5
}
