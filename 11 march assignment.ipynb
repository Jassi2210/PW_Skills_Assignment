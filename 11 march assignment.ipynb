{
 "cells": [
  {
   "cell_type": "markdown",
   "id": "fa29315c",
   "metadata": {},
   "source": [
    "## Q1: What is the difference between a t-test and a z-test? Provide an example scenario where you would use each type of test.\n",
    "## Ans1- The main difference between a t-test and a z-test is the type of data they are used for. A z-test is used when the sample size is large or the population variance is known, while a t-test is used when the sample size is small or the population variance is unknown.\n",
    "## For example, if we want to test the mean weight of a population and we have a sample size of more than 30 and we know the population variance, we would use a z-test. On the other hand, if the sample size is less than 30 or the population variance is unknown, we would use a t-test.\n",
    "## Another example scenario is testing the effectiveness of a new drug. If we have a large sample size and the population variance is known, we would use a z-test. If the sample size is small or the population variance is unknown, we would use a t-test."
   ]
  },
  {
   "cell_type": "code",
   "execution_count": null,
   "id": "34795342",
   "metadata": {},
   "outputs": [],
   "source": []
  },
  {
   "cell_type": "markdown",
   "id": "3c4cd8e3",
   "metadata": {},
   "source": [
    "## Q2: Differentiate between one-tailed and two-tailed tests.\n",
    "## Ans2- One-tailed and two-tailed tests refer to the directionality of the hypothesis being tested.\n",
    "## A one-tailed test is used when the hypothesis specifies a direction of the effect. For example, if we are testing whether a new drug increases blood pressure, we would use a one-tailed test and specify the direction of the effect as \"increases\". This means that we are only interested in whether the drug has an effect in one direction (increases blood pressure) and we would reject the null hypothesis if the drug has an effect in the opposite direction (decreases blood pressure).\n",
    "## On the other hand, a two-tailed test is used when the hypothesis does not specify a direction of the effect. For example, if we are testing whether a new drug has an effect on blood pressure, we would use a two-tailed test because we are interested in whether the drug has any effect (positive or negative). This means that we would reject the null hypothesis if the drug has an effect in either direction. "
   ]
  },
  {
   "cell_type": "code",
   "execution_count": null,
   "id": "fbc19ae9",
   "metadata": {},
   "outputs": [],
   "source": []
  },
  {
   "cell_type": "markdown",
   "id": "11520c42",
   "metadata": {},
   "source": [
    "## Q3: Explain the concept of Type 1 and Type 2 errors in hypothesis testing. Provide an example scenario for each type of error.\n",
    "## Ans3- Type 1 error, also known as a false positive, occurs when the null hypothesis is rejected when it is actually true. This means that we conclude there is a significant effect when there is actually no effect. The probability of making a Type 1 error is denoted by alpha (α) and is typically set at 0.05 or 0.01.\n",
    "## An example scenario of a Type 1 error is a drug company conducting a clinical trial to test the effectiveness of a new drug. If the company incorrectly rejects the null hypothesis and concludes that the drug is effective when it is actually not, patients may be prescribed the drug, which could have negative consequences for their health.\n",
    "\n",
    "## Type 2 error, also known as a false negative, occurs when the null hypothesis is not rejected when it is actually false. This means that we conclude there is no significant effect when there is actually an effect. The probability of making a Type 2 error is denoted by beta (β) and is influenced by factors such as sample size and effect size.\n",
    "## An example scenario of a Type 2 error is a drug company conducting a clinical trial to test the effectiveness of a new drug. If the company fails to reject the null hypothesis and concludes that the drug is not effective when it is actually effective, patients may miss out on a potentially beneficial treatment."
   ]
  },
  {
   "cell_type": "code",
   "execution_count": null,
   "id": "dc3c3916",
   "metadata": {},
   "outputs": [],
   "source": []
  },
  {
   "cell_type": "markdown",
   "id": "ccb08a42",
   "metadata": {},
   "source": [
    "## Q4: Explain Bayes's theorem with an example.\n",
    "## Ans4- Bayes's theorem states that the probability of an event A given that event B has occurred is equal to the probability of event B given that event A has occurred, multiplied by the prior probability of event A, divided by the prior probability of event B.\n",
    "## Mathematically, Bayes's theorem can be expressed as:\n",
    "## P(A|B) = P(B|A) x P(A) / P(B)\n",
    "## where P(A|B) is the probability of event A given event B, P(B|A) is the probability of event B given event A, P(A) is the prior probability of event A, and P(B) is the prior probability of event B.\n",
    "## Here is an example to illustrate the use of Bayes's theorem:\n",
    "\n",
    "## Suppose a hospital conducts a breast cancer screening test that has a sensitivity of 90% (the probability of a positive test result given that the person has breast cancer) and a specificity of 95% (the probability of a negative test result given that the person does not have breast cancer). It is known that 1% of women over the age of 50 have breast cancer. If a woman over the age of 50 receives a positive test result, what is the probability that she actually has breast cancer?\n",
    "\n",
    "## Let A be the event of having breast cancer and B be the event of receiving a positive test result. We want to calculate P(A|B), the probability of having breast cancer given a positive test result.\n",
    "\n",
    "## Using Bayes's theorem, we have:\n",
    "\n",
    "## P(A|B) = P(B|A) x P(A) / P(B)\n",
    "\n",
    "## P(B|A) = sensitivity = 0.9\n",
    "## P(A) = prior probability of breast cancer = 0.01\n",
    "## P(B) = P(B|A) x P(A) + P(B|not A) x P(not A) = 0.9 x 0.01 + 0.05 x 0.99 = 0.0585\n",
    "\n",
    "## Substituting the values, we get:\n",
    "\n",
    "## P(A|B) = 0.9 x 0.01 / 0.0585 = 0.154\n",
    "\n",
    "## This means that the probability of actually having breast cancer given a positive test result is only 15.4%, even though the test has a high sensitivity and specificity. This highlights the importance of considering both the sensitivity and specificity of a test, as well as the prior probability of the event, when interpreting test results."
   ]
  },
  {
   "cell_type": "code",
   "execution_count": null,
   "id": "da942f90",
   "metadata": {},
   "outputs": [],
   "source": []
  },
  {
   "cell_type": "markdown",
   "id": "c8875c83",
   "metadata": {},
   "source": [
    "## Q5: What is a confidence interval? How to calculate the confidence interval, explain with an example.\n",
    "## Ans5- A confidence interval is a range of values that is likely to contain the true population parameter, based on a sample from that population. It is an estimate of the uncertainty associated with a sample estimate.\n",
    "\n",
    "## To calculate the confidence interval, you need to determine the point estimate (e.g., sample mean or proportion) and the level of confidence (expressed as a percentage or decimal value). The formula for a confidence interval for a population mean is:\n",
    "\n",
    "## Confidence interval = point estimate ± (critical value x standard error)\n",
    "\n",
    "## Where the critical value is determined by the desired level of confidence and the sample size, and the standard error is calculated from the sample standard deviation and sample size.\n",
    "\n",
    "## For example, suppose we want to estimate the average weight of all apples in a certain orchard. We take a random sample of 50 apples and find that the sample mean weight is 150 grams, with a sample standard deviation of 20 grams. We want to calculate a 95% confidence interval for the population mean weight.\n",
    "\n",
    "## First, we calculate the standard error:\n",
    "\n",
    "## Standard error = 20 / sqrt(50) = 2.83\n",
    "\n",
    "## Next, we determine the critical value for a 95% confidence interval with 49 degrees of freedom (n-1):\n",
    "\n",
    "## Critical value = 2.01\n",
    "\n",
    "## Finally, we calculate the confidence interval:\n",
    "\n",
    "## Confidence interval = 150 ± (2.01 x 2.83) = (144.16, 155.84)\n",
    "\n",
    "## Therefore, we are 95% confident that the true population mean weight of apples in the orchard is between 144.16 and 155.84 grams, based on our sample."
   ]
  },
  {
   "cell_type": "code",
   "execution_count": null,
   "id": "8a6a2b71",
   "metadata": {},
   "outputs": [],
   "source": []
  },
  {
   "cell_type": "markdown",
   "id": "4d63b53a",
   "metadata": {},
   "source": [
    "## Q6. Use Bayes' Theorem to calculate the probability of an event occurring given prior knowledge of the event's probability and new evidence. Provide a sample problem and solution.\n",
    "## Ans6- Suppose that a blood test for a rare disease is 99% accurate, meaning that if a person has the disease, there is a 99% chance that the test will come back positive. However, if a person does not have the disease, there is still a 1% chance that the test will come back positive due to a false positive result. The prevalence of the disease in the population is 0.1%. If a person tests positive, what is the probability that they actually have the disease?\n",
    "\n",
    "## Let A be the event that a person has the disease and B be the event that the blood test comes back positive. We want to find P(A | B), the probability that a person has the disease given that they tested positive.\n",
    "\n",
    "## Using Bayes' theorem, we have:\n",
    "\n",
    "## P(A | B) = P(B | A) * P(A) / P(B)\n",
    "\n",
    "## where P(B | A) is the probability of a positive test given that the person has the disease, P(A) is the prior probability of having the disease, and P(B) is the probability of testing positive, which can be calculated using the law of total probability:\n",
    "\n",
    "## P(B) = P(B | A) * P(A) + P(B | not A) * P(not A)\n",
    "\n",
    "## where P(B | not A) is the probability of a positive test given that the person does not have the disease, and P(not A) is the complement of P(A), i.e., the probability of not having the disease.\n",
    "## P(B | A) = 0.99 (sensitivity)\n",
    "## P(A) = 0.001 (prevalence)\n",
    "## P(B | not A) = 0.01 (false positive rate)\n",
    "## P(not A) = 0.999 (complement of prevalence)\n",
    "\n",
    "## First, we calculate the denominator:\n",
    "\n",
    "## P(B) = P(B | A) * P(A) + P(B | not A) * P(not A) = 0.99 * 0.001 + 0.01 * 0.999 = 0.01098\n",
    "\n",
    "## Next, we can use Bayes' theorem to find the numerator:\n",
    "\n",
    "## P(A | B) = P(B | A) * P(A) / P(B) = 0.99 * 0.001 / 0.01098 = 0.090\n",
    "\n",
    "## Therefore, if a person tests positive for the rare disease, the probability that they actually have the disease is only 9.0%, even though the test is 99% accurate. This highlights the importance of considering both the sensitivity and specificity of a test, as well as the prevalence of the disease in the population, when interpreting test results."
   ]
  },
  {
   "cell_type": "code",
   "execution_count": null,
   "id": "fbc2d854",
   "metadata": {},
   "outputs": [],
   "source": []
  },
  {
   "cell_type": "markdown",
   "id": "376d4b98",
   "metadata": {},
   "source": [
    "## Q7. Calculate the 95% confidence interval for a sample of data with a mean of 50 and a standard deviation of 5. Interpret the results.\n",
    "## Ans7- To calculate the 95% confidence interval, we need to use the formula:\n",
    "## CI = X̄ ± z*(σ/√n)\n",
    "## Assuming a sample size of n=100, we can calculate the interval as:\n",
    "## CI = 50 ± 1.96*(5/√100) = 50 ± 0.98 = (49.02, 50.98)\n",
    "## Interpretation: We can be 95% confident that the true population mean falls between 49.02 and 50.98 based on the sample mean of 50 and a standard deviation of 5. This means that if we were to repeat the sampling process multiple times and calculate the confidence interval each time, we would expect the true population mean to fall within the interval 95% of the time."
   ]
  },
  {
   "cell_type": "code",
   "execution_count": null,
   "id": "bdd72c96",
   "metadata": {},
   "outputs": [],
   "source": []
  },
  {
   "cell_type": "markdown",
   "id": "1220431b",
   "metadata": {},
   "source": [
    "## Q8. What is the margin of error in a confidence interval? How does sample size affect the margin of error? Provide an example of a scenario where a larger sample size would result in a smaller margin of error.\n",
    "## Ans8- The margin of error is the range of values above and below the point estimate in a confidence interval that is likely to contain the true population parameter. It is a measure of the precision of the estimate.\n",
    "\n",
    "## Sample size affects the margin of error in a confidence interval. As the sample size increases, the margin of error decreases. This is because a larger sample size reduces the variability in the sample and provides a more accurate estimate of the population parameter.\n",
    "\n",
    "## For example, suppose a survey is conducted to estimate the proportion of voters who support a particular candidate. A random sample of 1000 voters is taken, and the proportion of supporters in the sample is found to be 0.55. The 95% confidence interval is calculated as [0.52, 0.58], with a margin of error of 0.03. If the sample size were increased to 2000, the margin of error would be smaller, resulting in a more precise estimate of the population proportion."
   ]
  },
  {
   "cell_type": "code",
   "execution_count": null,
   "id": "aeb940d1",
   "metadata": {},
   "outputs": [],
   "source": []
  },
  {
   "cell_type": "markdown",
   "id": "8d7552bc",
   "metadata": {},
   "source": [
    "## Q9. Calculate the z-score for a data point with a value of 75, a population mean of 70, and a population standard deviation of 5. Interpret the results.\n",
    "## Ans9- The formula for calculating the z-score is:\n",
    "## z = (x - μ) / σ\n",
    "## where x is the value of the data point, μ is the population mean, and σ is the population standard deviation.\n",
    "## Substituting the given values, we get:\n",
    "## z = (75 - 70) / 5 = 1\n",
    "## The z-score of 1 means that the data point is one standard deviation above the population mean. This indicates that the value of 75 is higher than the average value in the population."
   ]
  },
  {
   "cell_type": "code",
   "execution_count": null,
   "id": "c5e6f395",
   "metadata": {},
   "outputs": [],
   "source": []
  },
  {
   "cell_type": "markdown",
   "id": "dc0c23b2",
   "metadata": {},
   "source": [
    "## Q10. In a study of the effectiveness of a new weight loss drug, a sample of 50 participants lost an average of 6 pounds with a standard deviation of 2.5 pounds. Conduct a hypothesis test to determine if the drug is significantly effective at a 95% confidence level using a t-test.\n",
    "## Ans10- To conduct the hypothesis test, we can follow these steps:\n",
    "\n",
    "## Step 1: State the null and alternative hypotheses.\n",
    "\n",
    "## Null hypothesis (H0): The new weight loss drug is not significantly effective. (mean weight loss = 0)\n",
    "\n",
    "## Alternative hypothesis (Ha): The new weight loss drug is significantly effective. (mean weight loss > 0)\n",
    "\n",
    "## Step 2: Determine the level of significance (alpha).\n",
    "\n",
    "## Here, alpha = 0.05\n",
    "\n",
    "## Step 3: Calculate the test statistic.\n",
    "\n",
    "## We can calculate the t-value using the formula:\n",
    "\n",
    "## t = (x̄ - μ) / (s / √n)\n",
    "\n",
    "## where x̄ is the sample mean, μ is the hypothesized population mean, s is the sample standard deviation, and n is the sample size.\n",
    "\n",
    "## Plugging in the values, we get:\n",
    "\n",
    "## t = (6 - 0) / (2.5 / √50) = 15.8\n",
    "\n",
    "## Step 4: Determine the critical value(s).\n",
    "\n",
    "## Since this is a one-tailed test with a 95% confidence level and 49 degrees of freedom (50 - 1 = 49), the critical t-value is 1.676 (obtained from t-table or using a statistical software).\n",
    "\n",
    "## Step 5: Compare the test statistic with the critical value(s) and make a decision.\n",
    "\n",
    "## Since our calculated t-value (15.8) is greater than the critical t-value (1.676), we reject the null hypothesis. This means that we have enough evidence to conclude that the new weight loss drug is significantly effective at a 95% confidence level.\n",
    "\n",
    "## Step 6: Interpret the results.\n",
    "\n",
    "## The study shows that the new weight loss drug is significantly effective, with a sample mean weight loss of 6 pounds and a standard deviation of 2.5 pounds. We can be 95% confident that the true mean weight loss of the population is greater than zero."
   ]
  },
  {
   "cell_type": "code",
   "execution_count": null,
   "id": "955f4f0d",
   "metadata": {},
   "outputs": [],
   "source": []
  },
  {
   "cell_type": "markdown",
   "id": "4fd2052c",
   "metadata": {},
   "source": [
    "## Q11. In a survey of 500 people, 65% reported being satisfied with their current job. Calculate the 95% confidence interval for the true proportion of people who are satisfied with their job.\n",
    "## Ans11- To calculate the 95% confidence interval for the true proportion of people satisfied with their job, we can use the following formula:\n",
    "\n",
    "## CI = p ± z*√(p(1-p)/n)\n",
    "\n",
    "## CI = 0.65 ± 1.96√((0.650.35)/500) = 0.65 ± 0.049 = (0.601, 0.699)\n",
    "\n",
    "## Interpretation: We can be 95% confident that the true proportion of people who are satisfied with their job is between 60.1% and 69.9%."
   ]
  },
  {
   "cell_type": "code",
   "execution_count": null,
   "id": "1fd45210",
   "metadata": {},
   "outputs": [],
   "source": []
  },
  {
   "cell_type": "markdown",
   "id": "1fec04d7",
   "metadata": {},
   "source": [
    "## Q12. A researcher is testing the effectiveness of two different teaching methods on student performance. Sample A has a mean score of 85 with a standard deviation of 6, while sample B has a mean score of 82 with a standard deviation of 5. Conduct a hypothesis test to determine if the two teaching methods have a significant difference in student performance using a t-test with a significance level of 0.01.\n"
   ]
  },
  {
   "cell_type": "code",
   "execution_count": 1,
   "id": "3633c97d",
   "metadata": {},
   "outputs": [
    {
     "name": "stdout",
     "output_type": "stream",
     "text": [
      "t-value: 2.280532475352584\n",
      "p-value: 0.03634671531655977\n"
     ]
    }
   ],
   "source": [
    "import numpy as np\n",
    "from scipy.stats import ttest_ind\n",
    "\n",
    "sample_a = np.array([85, 79, 91, 88, 84, 90, 82, 87, 86, 81])\n",
    "sample_b = np.array([82, 78, 84, 81, 85, 79, 87, 83, 80, 79, 85, 80])\n",
    "\n",
    "t_stat, p_value = ttest_ind(sample_a, sample_b, equal_var=False)\n",
    "print('t-value:', t_stat)\n",
    "print('p-value:', p_value)\n"
   ]
  },
  {
   "cell_type": "code",
   "execution_count": null,
   "id": "23e663b6",
   "metadata": {},
   "outputs": [],
   "source": []
  },
  {
   "cell_type": "markdown",
   "id": "e43aeb5d",
   "metadata": {},
   "source": [
    "## Q13. A population has a mean of 60 and a standard deviation of 8. A sample of 50 observations has a mean of 65. Calculate the 90% confidence interval for the true population mean.\n",
    "## Ans13- To calculate the 90% confidence interval for the true population mean, we can use the following formula:\n",
    "\n",
    "## Confidence Interval = X̄ ± Zα/2 * σ/√n\n",
    "\n",
    "## where X̄ is the sample mean, Zα/2 is the z-score corresponding to the desired confidence level (in this case, 90%, so α/2 = 0.05 and Zα/2 = 1.645), σ is the population standard deviation, and n is the sample size.\n",
    "\n",
    "## Plugging in the given values, we get:\n",
    "\n",
    "## Confidence Interval = 65 ± 1.645 * 8/√50 = 65 ± 2.32\n",
    "\n",
    "## Therefore, the 90% confidence interval for the true population mean is (62.68, 67.32). This means that we can be 90% confident that the true population mean falls within this range."
   ]
  },
  {
   "cell_type": "code",
   "execution_count": null,
   "id": "877ed816",
   "metadata": {},
   "outputs": [],
   "source": []
  },
  {
   "cell_type": "markdown",
   "id": "8289a00f",
   "metadata": {},
   "source": [
    "## Q14. In a study of the effects of caffeine on reaction time, a sample of 30 participants had an average reaction time of 0.25 seconds with a standard deviation of 0.05 seconds. Conduct a hypothesis test to determine if the caffeine has a significant effect on reaction time at a 90% confidence level using a t-test.\n",
    "## Ans14- To conduct a hypothesis test, we first need to define the null and alternative hypotheses:\n",
    "\n",
    "## Null Hypothesis (H0): The mean reaction time with caffeine is equal to the mean reaction time without caffeine.\n",
    "## Alternative Hypothesis (HA): The mean reaction time with caffeine is less than the mean reaction time without caffeine.\n",
    "\n",
    "## We will use a one-tailed t-test since the alternative hypothesis is directional (less than).\n",
    "\n",
    "## The level of significance (α) is 0.10 and the degrees of freedom are n-1 = 29.\n",
    "\n",
    "## The t-statistic can be calculated as:\n",
    "\n",
    "## t = (sample mean - population mean) / (sample standard deviation / sqrt(sample size))\n",
    "## t = (0.25 - 0) / (0.05 / sqrt(30)) = 10.95\n",
    "\n",
    "## The critical t-value for a one-tailed test with 29 degrees of freedom and a significance level of 0.10 is -1.311.\n",
    "\n",
    "## Since our calculated t-value (10.95) is greater than the critical t-value (-1.311), we reject the null hypothesis and conclude that the caffeine has a significant effect on reaction time at a 90% confidence level."
   ]
  },
  {
   "cell_type": "code",
   "execution_count": null,
   "id": "59da829b",
   "metadata": {},
   "outputs": [],
   "source": []
  },
  {
   "cell_type": "code",
   "execution_count": null,
   "id": "48c3efba",
   "metadata": {},
   "outputs": [],
   "source": []
  },
  {
   "cell_type": "code",
   "execution_count": null,
   "id": "75bc5833",
   "metadata": {},
   "outputs": [],
   "source": []
  },
  {
   "cell_type": "code",
   "execution_count": null,
   "id": "02638e55",
   "metadata": {},
   "outputs": [],
   "source": []
  },
  {
   "cell_type": "code",
   "execution_count": null,
   "id": "23069314",
   "metadata": {},
   "outputs": [],
   "source": []
  },
  {
   "cell_type": "code",
   "execution_count": null,
   "id": "6a5960b8",
   "metadata": {},
   "outputs": [],
   "source": []
  },
  {
   "cell_type": "code",
   "execution_count": null,
   "id": "1406ac11",
   "metadata": {},
   "outputs": [],
   "source": []
  },
  {
   "cell_type": "code",
   "execution_count": null,
   "id": "80351931",
   "metadata": {},
   "outputs": [],
   "source": []
  },
  {
   "cell_type": "code",
   "execution_count": null,
   "id": "bc941102",
   "metadata": {},
   "outputs": [],
   "source": []
  }
 ],
 "metadata": {
  "kernelspec": {
   "display_name": "Python 3 (ipykernel)",
   "language": "python",
   "name": "python3"
  },
  "language_info": {
   "codemirror_mode": {
    "name": "ipython",
    "version": 3
   },
   "file_extension": ".py",
   "mimetype": "text/x-python",
   "name": "python",
   "nbconvert_exporter": "python",
   "pygments_lexer": "ipython3",
   "version": "3.9.13"
  }
 },
 "nbformat": 4,
 "nbformat_minor": 5
}
