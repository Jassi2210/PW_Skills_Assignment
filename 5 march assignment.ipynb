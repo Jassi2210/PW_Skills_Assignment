{
 "cells": [
  {
   "cell_type": "markdown",
   "id": "a505dfa8",
   "metadata": {},
   "source": [
    "## Q1. How can you create a Bokeh plot using Python code?"
   ]
  },
  {
   "cell_type": "code",
   "execution_count": 1,
   "id": "4a73f1d0",
   "metadata": {},
   "outputs": [],
   "source": [
    "from bokeh.plotting import figure, output_file, show\n",
    "from bokeh.models import ColumnDataSource\n",
    "\n",
    "# create a data source\n",
    "x = [1, 2, 3, 4, 5]\n",
    "y = [2, 4, 6, 8, 10]\n",
    "data = {'x': x, 'y': y}\n",
    "source = ColumnDataSource(data)\n",
    "\n",
    "# create a new plot with title and axis labels\n",
    "p = figure(title='My Scatter Plot', x_axis_label='X', y_axis_label='Y')\n",
    "\n",
    "# add circles to the plot\n",
    "p.circle('x', 'y', size=10, color='blue', alpha=0.5, source=source)\n",
    "\n",
    "# specify the output file\n",
    "output_file('scatter.html')\n",
    "\n",
    "# display the plot\n",
    "show(p)\n"
   ]
  },
  {
   "cell_type": "markdown",
   "id": "ab60810f",
   "metadata": {},
   "source": [
    "## Q2. What are glyphs in Bokeh, and how can you add them to a Bokeh plot? Explain with an example."
   ]
  },
  {
   "cell_type": "code",
   "execution_count": 2,
   "id": "17eb4d32",
   "metadata": {},
   "outputs": [],
   "source": [
    "from bokeh.plotting import figure, show\n",
    "\n",
    "# create a new plot with a title and axis labels\n",
    "p = figure(title='Circle Glyph Example', x_axis_label='X Axis', y_axis_label='Y Axis')\n",
    "\n",
    "# create a data source\n",
    "x = [1, 2, 3, 4, 5]\n",
    "y = [6, 7, 2, 4, 5]\n",
    "source = ColumnDataSource(data=dict(x=x, y=y))\n",
    "\n",
    "# add a circle glyph to the plot\n",
    "p.circle('x', 'y', size=10, source=source)\n",
    "\n",
    "# show the plot\n",
    "show(p)\n"
   ]
  },
  {
   "cell_type": "markdown",
   "id": "16919cd2",
   "metadata": {},
   "source": [
    "## Q3. How can you customize the appearance of a Bokeh plot, including the axes, title, and legend?"
   ]
  },
  {
   "cell_type": "code",
   "execution_count": 4,
   "id": "1410183d",
   "metadata": {},
   "outputs": [],
   "source": [
    "from bokeh.plotting import figure, show\n",
    "\n",
    "# create a new plot\n",
    "p = figure(plot_width=400, plot_height=400)\n",
    "\n",
    "# add some glyphs\n",
    "p.circle([1, 2, 3, 4, 5], [2, 5, 8, 3, 9], size=10, color='red', alpha=0.5)\n",
    "p.line([1, 2, 3, 4, 5], [2, 5, 8, 3, 9], line_width=2, color='blue')\n",
    "\n",
    "# customize the appearance\n",
    "p.xaxis.axis_label = \"X-Axis Label\"\n",
    "p.yaxis.axis_label = \"Y-Axis Label\"\n",
    "p.title.text = \"My Bokeh Plot\"\n",
    "p.title.text_font_size = \"14pt\"\n",
    "p.xaxis.axis_label_text_font_size = \"12pt\"\n",
    "p.yaxis.axis_label_text_font_size = \"12pt\"\n",
    "p.xaxis.axis_label_text_font_style = \"italic\"\n",
    "p.yaxis.axis_label_text_font_style = \"italic\"\n",
    "p.xaxis.major_label_text_font_size = \"10pt\"\n",
    "p.yaxis.major_label_text_font_size = \"10pt\"\n",
    "p.legend.location = \"top_right\"\n",
    "p.legend.label_text_font_size = \"12pt\"\n",
    "p.background_fill_color = \"#f5f5f5\"\n",
    "\n",
    "# show the plot\n",
    "show(p)\n"
   ]
  },
  {
   "cell_type": "markdown",
   "id": "b3b3251f",
   "metadata": {},
   "source": [
    "## Q4. What is a Bokeh server, and how can you use it to create interactive plots that can be updated in real time?"
   ]
  },
  {
   "cell_type": "markdown",
   "id": "2b93d484",
   "metadata": {},
   "source": [
    "## Ans- A Bokeh server is a Python process that runs Bokeh applications. It provides a way to create and deploy interactive Bokeh plots, dashboards, and applications that can be accessed by multiple users on the web. With a Bokeh server, you can create interactive plots that can be updated in real-time, allowing users to interact with the data and see changes as they occur.\n",
    "## To use a Bokeh server, you need to create a Bokeh application that defines the layout and behavior of your plots. This can be done by defining a Python function that returns a Bokeh layout object. You can then use the Bokeh server to run your application and deploy it on a web server."
   ]
  },
  {
   "cell_type": "code",
   "execution_count": 6,
   "id": "c377c126",
   "metadata": {
    "collapsed": true
   },
   "outputs": [
    {
     "ename": "OSError",
     "evalue": "[WinError 10048] Only one usage of each socket address (protocol/network address/port) is normally permitted",
     "output_type": "error",
     "traceback": [
      "\u001b[1;31m---------------------------------------------------------------------------\u001b[0m",
      "\u001b[1;31mOSError\u001b[0m                                   Traceback (most recent call last)",
      "\u001b[1;32m~\\AppData\\Local\\Temp\\ipykernel_1516\\3938565565.py\u001b[0m in \u001b[0;36m<module>\u001b[1;34m\u001b[0m\n\u001b[0;32m     23\u001b[0m \u001b[1;33m\u001b[0m\u001b[0m\n\u001b[0;32m     24\u001b[0m \u001b[1;31m# Start the Bokeh server\u001b[0m\u001b[1;33m\u001b[0m\u001b[1;33m\u001b[0m\u001b[0m\n\u001b[1;32m---> 25\u001b[1;33m \u001b[0mserver\u001b[0m \u001b[1;33m=\u001b[0m \u001b[0mServer\u001b[0m\u001b[1;33m(\u001b[0m\u001b[1;33m{\u001b[0m\u001b[1;34m'/'\u001b[0m\u001b[1;33m:\u001b[0m \u001b[0mbokeh_app\u001b[0m\u001b[1;33m}\u001b[0m\u001b[1;33m,\u001b[0m \u001b[0mio_loop\u001b[0m\u001b[1;33m=\u001b[0m\u001b[0mIOLoop\u001b[0m\u001b[1;33m(\u001b[0m\u001b[1;33m)\u001b[0m\u001b[1;33m,\u001b[0m \u001b[0mport\u001b[0m\u001b[1;33m=\u001b[0m\u001b[1;36m5000\u001b[0m\u001b[1;33m)\u001b[0m\u001b[1;33m\u001b[0m\u001b[1;33m\u001b[0m\u001b[0m\n\u001b[0m\u001b[0;32m     26\u001b[0m \u001b[0mserver\u001b[0m\u001b[1;33m.\u001b[0m\u001b[0mstart\u001b[0m\u001b[1;33m(\u001b[0m\u001b[1;33m)\u001b[0m\u001b[1;33m\u001b[0m\u001b[1;33m\u001b[0m\u001b[0m\n\u001b[0;32m     27\u001b[0m \u001b[0mserver\u001b[0m\u001b[1;33m.\u001b[0m\u001b[0mio_loop\u001b[0m\u001b[1;33m.\u001b[0m\u001b[0mstart\u001b[0m\u001b[1;33m(\u001b[0m\u001b[1;33m)\u001b[0m\u001b[1;33m\u001b[0m\u001b[1;33m\u001b[0m\u001b[0m\n",
      "\u001b[1;32mD:\\Anaconda\\lib\\site-packages\\bokeh\\server\\server.py\u001b[0m in \u001b[0;36m__init__\u001b[1;34m(self, applications, io_loop, http_server_kwargs, **kwargs)\u001b[0m\n\u001b[0;32m    424\u001b[0m             \u001b[0mhttp_server_kwargs\u001b[0m\u001b[1;33m[\u001b[0m\u001b[1;34m'ssl_options'\u001b[0m\u001b[1;33m]\u001b[0m \u001b[1;33m=\u001b[0m \u001b[0mcontext\u001b[0m\u001b[1;33m\u001b[0m\u001b[1;33m\u001b[0m\u001b[0m\n\u001b[0;32m    425\u001b[0m \u001b[1;33m\u001b[0m\u001b[0m\n\u001b[1;32m--> 426\u001b[1;33m         \u001b[0msockets\u001b[0m\u001b[1;33m,\u001b[0m \u001b[0mself\u001b[0m\u001b[1;33m.\u001b[0m\u001b[0m_port\u001b[0m \u001b[1;33m=\u001b[0m \u001b[0mbind_sockets\u001b[0m\u001b[1;33m(\u001b[0m\u001b[0mopts\u001b[0m\u001b[1;33m.\u001b[0m\u001b[0maddress\u001b[0m\u001b[1;33m,\u001b[0m \u001b[0mopts\u001b[0m\u001b[1;33m.\u001b[0m\u001b[0mport\u001b[0m\u001b[1;33m)\u001b[0m\u001b[1;33m\u001b[0m\u001b[1;33m\u001b[0m\u001b[0m\n\u001b[0m\u001b[0;32m    427\u001b[0m         \u001b[0mself\u001b[0m\u001b[1;33m.\u001b[0m\u001b[0m_address\u001b[0m \u001b[1;33m=\u001b[0m \u001b[0mopts\u001b[0m\u001b[1;33m.\u001b[0m\u001b[0maddress\u001b[0m\u001b[1;33m\u001b[0m\u001b[1;33m\u001b[0m\u001b[0m\n\u001b[0;32m    428\u001b[0m \u001b[1;33m\u001b[0m\u001b[0m\n",
      "\u001b[1;32mD:\\Anaconda\\lib\\site-packages\\bokeh\\server\\util.py\u001b[0m in \u001b[0;36mbind_sockets\u001b[1;34m(address, port)\u001b[0m\n\u001b[0;32m     71\u001b[0m \u001b[1;33m\u001b[0m\u001b[0m\n\u001b[0;32m     72\u001b[0m     '''\n\u001b[1;32m---> 73\u001b[1;33m     \u001b[0mss\u001b[0m \u001b[1;33m=\u001b[0m \u001b[0mnetutil\u001b[0m\u001b[1;33m.\u001b[0m\u001b[0mbind_sockets\u001b[0m\u001b[1;33m(\u001b[0m\u001b[0mport\u001b[0m\u001b[1;33m=\u001b[0m\u001b[0mport\u001b[0m \u001b[1;32mor\u001b[0m \u001b[1;36m0\u001b[0m\u001b[1;33m,\u001b[0m \u001b[0maddress\u001b[0m\u001b[1;33m=\u001b[0m\u001b[0maddress\u001b[0m\u001b[1;33m)\u001b[0m\u001b[1;33m\u001b[0m\u001b[1;33m\u001b[0m\u001b[0m\n\u001b[0m\u001b[0;32m     74\u001b[0m     \u001b[1;32massert\u001b[0m \u001b[0mlen\u001b[0m\u001b[1;33m(\u001b[0m\u001b[0mss\u001b[0m\u001b[1;33m)\u001b[0m\u001b[1;33m\u001b[0m\u001b[1;33m\u001b[0m\u001b[0m\n\u001b[0;32m     75\u001b[0m     \u001b[0mports\u001b[0m \u001b[1;33m=\u001b[0m \u001b[1;33m{\u001b[0m\u001b[0ms\u001b[0m\u001b[1;33m.\u001b[0m\u001b[0mgetsockname\u001b[0m\u001b[1;33m(\u001b[0m\u001b[1;33m)\u001b[0m\u001b[1;33m[\u001b[0m\u001b[1;36m1\u001b[0m\u001b[1;33m]\u001b[0m \u001b[1;32mfor\u001b[0m \u001b[0ms\u001b[0m \u001b[1;32min\u001b[0m \u001b[0mss\u001b[0m\u001b[1;33m}\u001b[0m\u001b[1;33m\u001b[0m\u001b[1;33m\u001b[0m\u001b[0m\n",
      "\u001b[1;32mD:\\Anaconda\\lib\\site-packages\\tornado\\netutil.py\u001b[0m in \u001b[0;36mbind_sockets\u001b[1;34m(port, address, family, backlog, flags, reuse_port)\u001b[0m\n\u001b[0;32m    159\u001b[0m         \u001b[0msock\u001b[0m\u001b[1;33m.\u001b[0m\u001b[0msetblocking\u001b[0m\u001b[1;33m(\u001b[0m\u001b[1;32mFalse\u001b[0m\u001b[1;33m)\u001b[0m\u001b[1;33m\u001b[0m\u001b[1;33m\u001b[0m\u001b[0m\n\u001b[0;32m    160\u001b[0m         \u001b[1;32mtry\u001b[0m\u001b[1;33m:\u001b[0m\u001b[1;33m\u001b[0m\u001b[1;33m\u001b[0m\u001b[0m\n\u001b[1;32m--> 161\u001b[1;33m             \u001b[0msock\u001b[0m\u001b[1;33m.\u001b[0m\u001b[0mbind\u001b[0m\u001b[1;33m(\u001b[0m\u001b[0msockaddr\u001b[0m\u001b[1;33m)\u001b[0m\u001b[1;33m\u001b[0m\u001b[1;33m\u001b[0m\u001b[0m\n\u001b[0m\u001b[0;32m    162\u001b[0m         \u001b[1;32mexcept\u001b[0m \u001b[0mOSError\u001b[0m \u001b[1;32mas\u001b[0m \u001b[0me\u001b[0m\u001b[1;33m:\u001b[0m\u001b[1;33m\u001b[0m\u001b[1;33m\u001b[0m\u001b[0m\n\u001b[0;32m    163\u001b[0m             if (\n",
      "\u001b[1;31mOSError\u001b[0m: [WinError 10048] Only one usage of each socket address (protocol/network address/port) is normally permitted"
     ]
    }
   ],
   "source": [
    "from bokeh.layouts import column\n",
    "from bokeh.models import ColumnDataSource\n",
    "from bokeh.plotting import figure\n",
    "from bokeh.server.server import Server\n",
    "from tornado.ioloop import IOLoop\n",
    "\n",
    "# Define the data source\n",
    "source = ColumnDataSource(data=dict(x=[0], y=[0]))\n",
    "\n",
    "# Define the plot\n",
    "plot = figure(title=\"Real-time plot\", x_axis_label=\"X\", y_axis_label=\"Y\", plot_width=400, plot_height=400)\n",
    "plot.line(x='x', y='y', source=source)\n",
    "\n",
    "# Define the update function\n",
    "def update():\n",
    "    new_data = dict(x=[source.data['x'][-1] + 1], y=[source.data['y'][-1] + 1])\n",
    "    source.stream(new_data, 100)\n",
    "\n",
    "# Define the Bokeh application\n",
    "def bokeh_app(doc):\n",
    "    doc.add_root(column(plot))\n",
    "    doc.add_periodic_callback(update, 100)\n",
    "\n",
    "# Start the Bokeh server\n",
    "server = Server({'/': bokeh_app}, io_loop=IOLoop(), port=5000)\n",
    "server.start()\n",
    "server.io_loop.start()\n"
   ]
  },
  {
   "cell_type": "markdown",
   "id": "b06d5184",
   "metadata": {},
   "source": [
    "## Q5. How can you embed a Bokeh plot into a web page or dashboard using Flask or Django?"
   ]
  },
  {
   "cell_type": "code",
   "execution_count": null,
   "id": "66af8b46",
   "metadata": {},
   "outputs": [
    {
     "name": "stdout",
     "output_type": "stream",
     "text": [
      " * Serving Flask app \"__main__\" (lazy loading)\n",
      " * Environment: production\n",
      "\u001b[31m   WARNING: This is a development server. Do not use it in a production deployment.\u001b[0m\n",
      "\u001b[2m   Use a production WSGI server instead.\u001b[0m\n",
      " * Debug mode: off\n"
     ]
    },
    {
     "name": "stderr",
     "output_type": "stream",
     "text": [
      " * Running on http://127.0.0.1:5000/ (Press CTRL+C to quit)\n"
     ]
    }
   ],
   "source": [
    "from flask import Flask, render_template\n",
    "from bokeh.plotting import figure, output_file, save\n",
    "\n",
    "app = Flask(__name__)\n",
    "\n",
    "@app.route('/')\n",
    "def index():\n",
    "    # Create a Bokeh plot\n",
    "    plot = figure(title='My Bokeh Plot', x_axis_label='x', y_axis_label='y')\n",
    "    plot.line([1, 2, 3], [4, 5, 6])\n",
    "\n",
    "    # Save the plot as an HTML file\n",
    "    output_file('my_plot.html')\n",
    "    save(plot)\n",
    "\n",
    "    # Render the HTML file\n",
    "    return render_template('index.html')\n",
    "\n",
    "if __name__ == '__main__':\n",
    "    app.run()\n"
   ]
  },
  {
   "cell_type": "code",
   "execution_count": null,
   "id": "d2408a50",
   "metadata": {},
   "outputs": [],
   "source": []
  }
 ],
 "metadata": {
  "kernelspec": {
   "display_name": "Python 3 (ipykernel)",
   "language": "python",
   "name": "python3"
  },
  "language_info": {
   "codemirror_mode": {
    "name": "ipython",
    "version": 3
   },
   "file_extension": ".py",
   "mimetype": "text/x-python",
   "name": "python",
   "nbconvert_exporter": "python",
   "pygments_lexer": "ipython3",
   "version": "3.9.13"
  }
 },
 "nbformat": 4,
 "nbformat_minor": 5
}
